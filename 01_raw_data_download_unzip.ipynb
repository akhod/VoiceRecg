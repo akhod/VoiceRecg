{
 "cells": [
  {
   "cell_type": "markdown",
   "metadata": {},
   "source": [
    "## This part of code is in order to :\n",
    "    1- Download all files from the foxfrgel, this is done using bash command wget.\n",
    "    2- Extract the data from tgz files,this is done using Python tarfile module."
   ]
  },
  {
   "cell_type": "code",
   "execution_count": null,
   "metadata": {},
   "outputs": [],
   "source": [
    "%%bash\n",
    "mkdir TEST_CODE\n",
    "cd TEST_CODE\n",
    "wget -r -l1 -nH --cut-dirs=2 --no-parent -A.tgz --no-directories http://www.repository.voxforge1.org/downloads/SpeechCorpus/Trunk/Audio/Main/16kHz_16bit/"
   ]
  },
  {
   "cell_type": "code",
   "execution_count": null,
   "metadata": {},
   "outputs": [],
   "source": [
    "import os\n",
    "import tarfile"
   ]
  },
  {
   "cell_type": "code",
   "execution_count": null,
   "metadata": {},
   "outputs": [],
   "source": [
    "project_folder = './TEST_CODE/'\n",
    "\n",
    "for file in os.listdir(project_folder):\n",
    "    if file.endswith('.tgz'):\n",
    "        tar = tarfile.open(os.path.join(project_folder, file))\n",
    "        tar.extractall(project_folder)\n",
    "        tar.close()"
   ]
  }
 ],
 "metadata": {
  "kernelspec": {
   "display_name": "Python 3",
   "language": "python",
   "name": "python3"
  },
  "language_info": {
   "codemirror_mode": {
    "name": "ipython",
    "version": 3
   },
   "file_extension": ".py",
   "mimetype": "text/x-python",
   "name": "python",
   "nbconvert_exporter": "python",
   "pygments_lexer": "ipython3",
   "version": "3.6.5"
  }
 },
 "nbformat": 4,
 "nbformat_minor": 2
}
