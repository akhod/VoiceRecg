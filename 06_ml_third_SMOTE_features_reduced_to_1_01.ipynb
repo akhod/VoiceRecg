{
 "cells": [
  {
   "cell_type": "code",
   "execution_count": 1,
   "metadata": {},
   "outputs": [],
   "source": [
    "import numpy as np\n",
    "import matplotlib.pyplot as plt\n",
    "import seaborn as sns\n",
    "import pandas as pd\n",
    "\n",
    "from sklearn.model_selection import train_test_split\n",
    "from sklearn.preprocessing import StandardScaler\n",
    "from sklearn.tree import DecisionTreeClassifier\n",
    "from sklearn.ensemble import RandomForestClassifier\n",
    "from sklearn.ensemble import GradientBoostingClassifier\n",
    "from imblearn.over_sampling import SMOTE\n",
    "\n",
    "from sklearn.metrics import confusion_matrix,recall_score,precision_recall_curve,auc,roc_curve,roc_auc_score,classification_report"
   ]
  },
  {
   "cell_type": "code",
   "execution_count": 2,
   "metadata": {},
   "outputs": [],
   "source": [
    "df=  pd.read_csv('Voices_Cleaned.csv', index_col=0)"
   ]
  },
  {
   "cell_type": "code",
   "execution_count": 3,
   "metadata": {},
   "outputs": [],
   "source": [
    "df= df.drop(columns=['date','age','user','pronounce'])"
   ]
  },
  {
   "cell_type": "markdown",
   "metadata": {},
   "source": [
    "# 1- First to model with only 1 feature \"third_q\""
   ]
  },
  {
   "cell_type": "code",
   "execution_count": 23,
   "metadata": {},
   "outputs": [],
   "source": [
    "model_features = ['mean']"
   ]
  },
  {
   "cell_type": "code",
   "execution_count": 24,
   "metadata": {},
   "outputs": [],
   "source": [
    "df.sex = df.sex.astype(int)"
   ]
  },
  {
   "cell_type": "code",
   "execution_count": 25,
   "metadata": {},
   "outputs": [],
   "source": [
    "oversample = SMOTE(random_state=23)"
   ]
  },
  {
   "cell_type": "code",
   "execution_count": 26,
   "metadata": {},
   "outputs": [],
   "source": [
    "def data_prepration(x): \n",
    "    x_features= x.loc[:,x.columns != \"sex\"]\n",
    "    x_labels=x.loc[:,x.columns==\"sex\"]\n",
    "    x_features_train,x_features_test,x_labels_train,x_labels_test = train_test_split(x_features,x_labels,test_size=0.2)\n",
    "    print(\"length of training data\")\n",
    "    print(len(x_features_train))\n",
    "    print(\"length of testing data\")\n",
    "    print(len(x_features_test))\n",
    "    return(x_features_train,x_features_test,x_labels_train,x_labels_test)"
   ]
  },
  {
   "cell_type": "code",
   "execution_count": 27,
   "metadata": {},
   "outputs": [
    {
     "name": "stdout",
     "output_type": "stream",
     "text": [
      "length of training data\n",
      "4377\n",
      "length of testing data\n",
      "1095\n"
     ]
    }
   ],
   "source": [
    "data_train_X,data_test_X,data_train_y,data_test_y=data_prepration(df)"
   ]
  },
  {
   "cell_type": "code",
   "execution_count": 28,
   "metadata": {},
   "outputs": [],
   "source": [
    "columns = data_train_X.columns"
   ]
  },
  {
   "cell_type": "code",
   "execution_count": 29,
   "metadata": {},
   "outputs": [
    {
     "name": "stdout",
     "output_type": "stream",
     "text": [
      "length of oversampled data is  8114\n",
      "Number of males in oversampled data 4057\n",
      "No.of females in oversampled data 4057\n"
     ]
    },
    {
     "name": "stderr",
     "output_type": "stream",
     "text": [
      "/anaconda3/lib/python3.6/site-packages/sklearn/utils/validation.py:761: DataConversionWarning: A column-vector y was passed when a 1d array was expected. Please change the shape of y to (n_samples, ), for example using ravel().\n",
      "  y = column_or_1d(y, warn=True)\n"
     ]
    }
   ],
   "source": [
    "os_data_X,os_data_y=oversample.fit_sample(data_train_X,data_train_y)\n",
    "os_data_X = pd.DataFrame(data=os_data_X,columns=columns )\n",
    "os_data_y= pd.DataFrame(data=os_data_y,columns=[\"sex\"])\n",
    "\n",
    "print(\"length of oversampled data is \",len(os_data_X))\n",
    "print(\"Number of males in oversampled data\",len(os_data_y[os_data_y[\"sex\"]==0]))\n",
    "print(\"No.of females in oversampled data\",len(os_data_y[os_data_y[\"sex\"]==1]))"
   ]
  },
  {
   "cell_type": "code",
   "execution_count": 30,
   "metadata": {},
   "outputs": [],
   "source": [
    "scaler = StandardScaler()\n",
    "scaler.fit(df.loc[:,model_features]) \n",
    "X_train = scaler.transform(os_data_X.loc[:,model_features])\n",
    "X_test = scaler.transform(data_test_X.loc[:,model_features])\n",
    "y_train = list(os_data_y['sex'].values)\n",
    "y_test = list(data_test_y['sex'].values)"
   ]
  },
  {
   "cell_type": "code",
   "execution_count": 31,
   "metadata": {},
   "outputs": [
    {
     "name": "stdout",
     "output_type": "stream",
     "text": [
      "Decision Tree Report\n",
      "train score is 0.9995070248952428\n",
      "test score is 0.5616438356164384\n",
      "Random Forests Report\n",
      "train score is 0.9993837811190535\n",
      "test score is 0.5607305936073059\n",
      "Gradient Boosting Report\n",
      "train score is 0.6562731082080355\n",
      "test score is 0.6995433789954338\n"
     ]
    }
   ],
   "source": [
    "#Train decision tree model\n",
    "tree = DecisionTreeClassifier(random_state=23).fit(X_train, y_train)\n",
    "print('Decision Tree Report')\n",
    "print('train score is %s' %tree.score(X_train, y_train))\n",
    "print('test score is %s' %tree.score(X_test, y_test))\n",
    "\n",
    "\n",
    "\n",
    "#Train random forest model\n",
    "forest = RandomForestClassifier(n_estimators=100, random_state=23).fit(X_train, y_train)\n",
    "print('Random Forests Report')\n",
    "print('train score is %s' %forest.score(X_train, y_train))\n",
    "print('test score is %s' %forest.score(X_test, y_test))\n",
    "\n",
    "\n",
    "#Train gradient boosting model\n",
    "gb = GradientBoostingClassifier(random_state=23).fit(X_train, y_train)\n",
    "print('Gradient Boosting Report')\n",
    "print('train score is %s' %gb.score(X_train, y_train))\n",
    "print('test score is %s' %gb.score(X_test, y_test))\n",
    "\n"
   ]
  },
  {
   "cell_type": "code",
   "execution_count": 32,
   "metadata": {},
   "outputs": [],
   "source": [
    "def create_report(model,X_train,X_test,y_train,y_test):\n",
    "    clf= model\n",
    "    clf.fit(X_train,y_train)\n",
    "    pred=clf.predict(X_test)\n",
    "    metrics_matrix=confusion_matrix(y_test,pred)\n",
    "    print(\"the accuracy for this model is :\",(metrics_matrix[0,0]+metrics_matrix[1,1])/(metrics_matrix[0,0]+metrics_matrix[0,1]+metrics_matrix[1,0]+metrics_matrix[1,1]))\n",
    "    print(\"the recall for this model is :\",metrics_matrix[1,1]/(metrics_matrix[1,1]+metrics_matrix[1,0]))\n",
    "\n",
    "\n",
    "    fig= plt.figure(figsize=(6,3))\n",
    "    print(\"TP\",metrics_matrix[1,1]) \n",
    "    print(\"TN\",metrics_matrix[0,0]) \n",
    "    print(\"FP\",metrics_matrix[0,1]) \n",
    "    print(\"FN\",metrics_matrix[1,0])\n",
    "    sns.heatmap(metrics_matrix,cmap=\"coolwarm\",annot=True,linewidths=0.5)\n",
    "    plt.title(\"Confusion_matrix\")\n",
    "    plt.xlabel(\"Predicted_Sex\")\n",
    "    plt.ylabel(\"Real_Sex\")\n",
    "    plt.show()\n",
    "    print(\"\\n----------Classification Report----------\")\n",
    "    print(classification_report(y_test,pred))"
   ]
  },
  {
   "cell_type": "code",
   "execution_count": 33,
   "metadata": {},
   "outputs": [
    {
     "name": "stdout",
     "output_type": "stream",
     "text": [
      "the accuracy for this model is : 0.5616438356164384\n",
      "the recall for this model is : 0.5211267605633803\n",
      "TP 37\n",
      "TN 578\n",
      "FP 446\n",
      "FN 34\n"
     ]
    },
    {
     "data": {
      "image/png": "[encoded data removed]",
      "text/plain": [
       "<Figure size 432x216 with 2 Axes>"
      ]
     },
     "metadata": {},
     "output_type": "display_data"
    },
    {
     "name": "stdout",
     "output_type": "stream",
     "text": [
      "\n",
      "----------Classification Report----------\n",
      "              precision    recall  f1-score   support\n",
      "\n",
      "           0       0.94      0.56      0.71      1024\n",
      "           1       0.08      0.52      0.13        71\n",
      "\n",
      "   micro avg       0.56      0.56      0.56      1095\n",
      "   macro avg       0.51      0.54      0.42      1095\n",
      "weighted avg       0.89      0.56      0.67      1095\n",
      "\n"
     ]
    }
   ],
   "source": [
    "create_report(DecisionTreeClassifier(random_state=23),X_train,X_test,y_train,y_test)"
   ]
  },
  {
   "cell_type": "code",
   "execution_count": 34,
   "metadata": {},
   "outputs": [
    {
     "name": "stdout",
     "output_type": "stream",
     "text": [
      "the accuracy for this model is : 0.5607305936073059\n",
      "the recall for this model is : 0.5211267605633803\n",
      "TP 37\n",
      "TN 577\n",
      "FP 447\n",
      "FN 34\n"
     ]
    },
    {
     "data": {
      "image/png": "[encoded data removed]",
      "text/plain": [
       "<Figure size 432x216 with 2 Axes>"
      ]
     },
     "metadata": {},
     "output_type": "display_data"
    },
    {
     "name": "stdout",
     "output_type": "stream",
     "text": [
      "\n",
      "----------Classification Report----------\n",
      "              precision    recall  f1-score   support\n",
      "\n",
      "           0       0.94      0.56      0.71      1024\n",
      "           1       0.08      0.52      0.13        71\n",
      "\n",
      "   micro avg       0.56      0.56      0.56      1095\n",
      "   macro avg       0.51      0.54      0.42      1095\n",
      "weighted avg       0.89      0.56      0.67      1095\n",
      "\n"
     ]
    }
   ],
   "source": [
    "create_report(RandomForestClassifier(n_estimators=100,random_state=23),X_train,X_test,y_train,y_test)"
   ]
  },
  {
   "cell_type": "code",
   "execution_count": 35,
   "metadata": {},
   "outputs": [
    {
     "name": "stdout",
     "output_type": "stream",
     "text": [
      "the accuracy for this model is : 0.6995433789954338\n",
      "the recall for this model is : 0.5211267605633803\n",
      "TP 37\n",
      "TN 729\n",
      "FP 295\n",
      "FN 34\n"
     ]
    },
    {
     "data": {
      "image/png": "[encoded data removed]",
      "text/plain": [
       "<Figure size 432x216 with 2 Axes>"
      ]
     },
     "metadata": {},
     "output_type": "display_data"
    },
    {
     "name": "stdout",
     "output_type": "stream",
     "text": [
      "\n",
      "----------Classification Report----------\n",
      "              precision    recall  f1-score   support\n",
      "\n",
      "           0       0.96      0.71      0.82      1024\n",
      "           1       0.11      0.52      0.18        71\n",
      "\n",
      "   micro avg       0.70      0.70      0.70      1095\n",
      "   macro avg       0.53      0.62      0.50      1095\n",
      "weighted avg       0.90      0.70      0.77      1095\n",
      "\n"
     ]
    }
   ],
   "source": [
    "create_report(GradientBoostingClassifier(random_state=23),X_train,X_test,y_train,y_test)"
   ]
  },
  {
   "cell_type": "code",
   "execution_count": null,
   "metadata": {},
   "outputs": [],
   "source": []
  }
 ],
 "metadata": {
  "kernelspec": {
   "display_name": "Python 3",
   "language": "python",
   "name": "python3"
  },
  "language_info": {
   "codemirror_mode": {
    "name": "ipython",
    "version": 3
   },
   "file_extension": ".py",
   "mimetype": "text/x-python",
   "name": "python",
   "nbconvert_exporter": "python",
   "pygments_lexer": "ipython3",
   "version": "3.6.5"
  }
 },
 "nbformat": 4,
 "nbformat_minor": 2
}
