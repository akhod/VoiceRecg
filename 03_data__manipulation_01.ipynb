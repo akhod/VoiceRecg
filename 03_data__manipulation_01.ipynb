{
 "cells": [
  {
   "cell_type": "code",
   "execution_count": 1,
   "metadata": {},
   "outputs": [],
   "source": [
    "import numpy as np\n",
    "import matplotlib.pyplot as plt\n",
    "import seaborn as sns\n",
    "import pandas as pd"
   ]
  },
  {
   "cell_type": "code",
   "execution_count": 2,
   "metadata": {},
   "outputs": [],
   "source": [
    "df=  pd.read_csv('Voice_Sources.csv', index_col=0)"
   ]
  },
  {
   "cell_type": "code",
   "execution_count": 3,
   "metadata": {},
   "outputs": [
    {
     "data": {
      "text/html": [
       "<div>\n",
       "<style scoped>\n",
       "    .dataframe tbody tr th:only-of-type {\n",
       "        vertical-align: middle;\n",
       "    }\n",
       "\n",
       "    .dataframe tbody tr th {\n",
       "        vertical-align: top;\n",
       "    }\n",
       "\n",
       "    .dataframe thead th {\n",
       "        text-align: right;\n",
       "    }\n",
       "</style>\n",
       "<table border=\"1\" class=\"dataframe\">\n",
       "  <thead>\n",
       "    <tr style=\"text-align: right;\">\n",
       "      <th></th>\n",
       "      <th>mean</th>\n",
       "      <th>std</th>\n",
       "      <th>median</th>\n",
       "      <th>first_q</th>\n",
       "      <th>third_q</th>\n",
       "      <th>inter_q</th>\n",
       "      <th>skewness</th>\n",
       "      <th>kurtosis</th>\n",
       "      <th>mode</th>\n",
       "      <th>peak</th>\n",
       "      <th>date</th>\n",
       "      <th>user</th>\n",
       "      <th>age</th>\n",
       "      <th>pronounce</th>\n",
       "      <th>sex</th>\n",
       "    </tr>\n",
       "  </thead>\n",
       "  <tbody>\n",
       "    <tr>\n",
       "      <th>0</th>\n",
       "      <td>106.196970</td>\n",
       "      <td>81.568782</td>\n",
       "      <td>100.0</td>\n",
       "      <td>20.0</td>\n",
       "      <td>190.0</td>\n",
       "      <td>170.0</td>\n",
       "      <td>0.243448</td>\n",
       "      <td>-1.368536</td>\n",
       "      <td>10.0</td>\n",
       "      <td>270.0</td>\n",
       "      <td>20100710</td>\n",
       "      <td>1028</td>\n",
       "      <td>Adult</td>\n",
       "      <td>American</td>\n",
       "      <td>M</td>\n",
       "    </tr>\n",
       "    <tr>\n",
       "      <th>1</th>\n",
       "      <td>93.255452</td>\n",
       "      <td>91.364379</td>\n",
       "      <td>50.0</td>\n",
       "      <td>20.0</td>\n",
       "      <td>200.0</td>\n",
       "      <td>180.0</td>\n",
       "      <td>0.734991</td>\n",
       "      <td>-1.222807</td>\n",
       "      <td>50.0</td>\n",
       "      <td>270.0</td>\n",
       "      <td>20170321</td>\n",
       "      <td>1337ad</td>\n",
       "      <td>Adult</td>\n",
       "      <td>Unknown</td>\n",
       "      <td>F</td>\n",
       "    </tr>\n",
       "    <tr>\n",
       "      <th>2</th>\n",
       "      <td>105.632959</td>\n",
       "      <td>92.503697</td>\n",
       "      <td>50.0</td>\n",
       "      <td>20.0</td>\n",
       "      <td>200.0</td>\n",
       "      <td>180.0</td>\n",
       "      <td>0.451782</td>\n",
       "      <td>-1.562513</td>\n",
       "      <td>50.0</td>\n",
       "      <td>270.0</td>\n",
       "      <td>20170321</td>\n",
       "      <td>1337ad</td>\n",
       "      <td>Adult</td>\n",
       "      <td>Unknown</td>\n",
       "      <td>F</td>\n",
       "    </tr>\n",
       "    <tr>\n",
       "      <th>3</th>\n",
       "      <td>95.298329</td>\n",
       "      <td>93.067498</td>\n",
       "      <td>50.0</td>\n",
       "      <td>20.0</td>\n",
       "      <td>200.0</td>\n",
       "      <td>180.0</td>\n",
       "      <td>0.638751</td>\n",
       "      <td>-1.391880</td>\n",
       "      <td>10.0</td>\n",
       "      <td>270.0</td>\n",
       "      <td>20170321</td>\n",
       "      <td>1337ad</td>\n",
       "      <td>Unknown</td>\n",
       "      <td>Unknown</td>\n",
       "      <td>Unknown</td>\n",
       "    </tr>\n",
       "    <tr>\n",
       "      <th>4</th>\n",
       "      <td>46.953846</td>\n",
       "      <td>62.705277</td>\n",
       "      <td>20.0</td>\n",
       "      <td>20.0</td>\n",
       "      <td>20.0</td>\n",
       "      <td>0.0</td>\n",
       "      <td>1.935404</td>\n",
       "      <td>2.122227</td>\n",
       "      <td>20.0</td>\n",
       "      <td>250.0</td>\n",
       "      <td>20120412</td>\n",
       "      <td>1snoke</td>\n",
       "      <td>Adult</td>\n",
       "      <td>American</td>\n",
       "      <td>M</td>\n",
       "    </tr>\n",
       "  </tbody>\n",
       "</table>\n",
       "</div>"
      ],
      "text/plain": [
       "         mean        std  median  first_q  third_q  inter_q  skewness  \\\n",
       "0  106.196970  81.568782   100.0     20.0    190.0    170.0  0.243448   \n",
       "1   93.255452  91.364379    50.0     20.0    200.0    180.0  0.734991   \n",
       "2  105.632959  92.503697    50.0     20.0    200.0    180.0  0.451782   \n",
       "3   95.298329  93.067498    50.0     20.0    200.0    180.0  0.638751   \n",
       "4   46.953846  62.705277    20.0     20.0     20.0      0.0  1.935404   \n",
       "\n",
       "   kurtosis  mode   peak      date    user      age pronounce      sex  \n",
       "0 -1.368536  10.0  270.0  20100710    1028    Adult  American        M  \n",
       "1 -1.222807  50.0  270.0  20170321  1337ad    Adult   Unknown        F  \n",
       "2 -1.562513  50.0  270.0  20170321  1337ad    Adult   Unknown        F  \n",
       "3 -1.391880  10.0  270.0  20170321  1337ad  Unknown   Unknown  Unknown  \n",
       "4  2.122227  20.0  250.0  20120412  1snoke    Adult  American        M  "
      ]
     },
     "execution_count": 3,
     "metadata": {},
     "output_type": "execute_result"
    }
   ],
   "source": [
    "df.head()"
   ]
  },
  {
   "cell_type": "code",
   "execution_count": 4,
   "metadata": {},
   "outputs": [
    {
     "data": {
      "image/png": "[encoded data removed]",
      "text/plain": [
       "<Figure size 1152x576 with 1 Axes>"
      ]
     },
     "metadata": {},
     "output_type": "display_data"
    }
   ],
   "source": [
    "plt.figure(1,figsize=(16,8))\n",
    "sns.countplot(x='sex', data=df)\n",
    "plt.xlabel('Sex')\n",
    "plt.ylabel('Population')\n",
    "plt.show()"
   ]
  },
  {
   "cell_type": "markdown",
   "metadata": {},
   "source": [
    "The above plot shows that the dataset is imbalanced with respect to number of voices of Male and Female speakers\n",
    "While in real world this is a balanced problem since the number of male and females in the worls are almost equal (50.4 % male for each 49.6 female ; Source: https://countrymeters.info/en/World)"
   ]
  },
  {
   "cell_type": "code",
   "execution_count": 5,
   "metadata": {},
   "outputs": [],
   "source": [
    "df_sex_unknown = df[df.sex == 'Unknown']"
   ]
  },
  {
   "cell_type": "code",
   "execution_count": 6,
   "metadata": {},
   "outputs": [
    {
     "name": "stdout",
     "output_type": "stream",
     "text": [
      "<class 'pandas.core.frame.DataFrame'>\n",
      "Int64Index: 63 entries, 3 to 5299\n",
      "Data columns (total 15 columns):\n",
      "mean         63 non-null float64\n",
      "std          63 non-null float64\n",
      "median       63 non-null float64\n",
      "first_q      63 non-null float64\n",
      "third_q      63 non-null float64\n",
      "inter_q      63 non-null float64\n",
      "skewness     63 non-null float64\n",
      "kurtosis     63 non-null float64\n",
      "mode         63 non-null float64\n",
      "peak         63 non-null float64\n",
      "date         63 non-null int64\n",
      "user         63 non-null object\n",
      "age          63 non-null object\n",
      "pronounce    63 non-null object\n",
      "sex          63 non-null object\n",
      "dtypes: float64(10), int64(1), object(4)\n",
      "memory usage: 7.9+ KB\n"
     ]
    }
   ],
   "source": [
    "df_sex_unknown.info()"
   ]
  },
  {
   "cell_type": "markdown",
   "metadata": {},
   "source": [
    "## df_sex_unknown is about 1% of the whole data, I will put that aside for the moment, and at the end of project will try to predict and check if my ML can help to tag them correctly with respect to the sex as a double check of accuracy!"
   ]
  },
  {
   "cell_type": "code",
   "execution_count": 7,
   "metadata": {},
   "outputs": [],
   "source": [
    "df = df[df.sex != 'Unknown']"
   ]
  },
  {
   "cell_type": "code",
   "execution_count": 8,
   "metadata": {},
   "outputs": [
    {
     "name": "stdout",
     "output_type": "stream",
     "text": [
      "<class 'pandas.core.frame.DataFrame'>\n",
      "Int64Index: 5474 entries, 0 to 6244\n",
      "Data columns (total 15 columns):\n",
      "mean         5474 non-null float64\n",
      "std          5474 non-null float64\n",
      "median       5474 non-null float64\n",
      "first_q      5474 non-null float64\n",
      "third_q      5474 non-null float64\n",
      "inter_q      5474 non-null float64\n",
      "skewness     5474 non-null float64\n",
      "kurtosis     5474 non-null float64\n",
      "mode         5474 non-null float64\n",
      "peak         5474 non-null float64\n",
      "date         5474 non-null int64\n",
      "user         5474 non-null object\n",
      "age          5474 non-null object\n",
      "pronounce    5474 non-null object\n",
      "sex          5474 non-null object\n",
      "dtypes: float64(10), int64(1), object(4)\n",
      "memory usage: 684.2+ KB\n"
     ]
    }
   ],
   "source": [
    "df.info()"
   ]
  },
  {
   "cell_type": "code",
   "execution_count": 9,
   "metadata": {},
   "outputs": [],
   "source": [
    "df = df.drop_duplicates()"
   ]
  },
  {
   "cell_type": "code",
   "execution_count": 10,
   "metadata": {},
   "outputs": [
    {
     "name": "stdout",
     "output_type": "stream",
     "text": [
      "<class 'pandas.core.frame.DataFrame'>\n",
      "Int64Index: 5472 entries, 0 to 6244\n",
      "Data columns (total 15 columns):\n",
      "mean         5472 non-null float64\n",
      "std          5472 non-null float64\n",
      "median       5472 non-null float64\n",
      "first_q      5472 non-null float64\n",
      "third_q      5472 non-null float64\n",
      "inter_q      5472 non-null float64\n",
      "skewness     5472 non-null float64\n",
      "kurtosis     5472 non-null float64\n",
      "mode         5472 non-null float64\n",
      "peak         5472 non-null float64\n",
      "date         5472 non-null int64\n",
      "user         5472 non-null object\n",
      "age          5472 non-null object\n",
      "pronounce    5472 non-null object\n",
      "sex          5472 non-null object\n",
      "dtypes: float64(10), int64(1), object(4)\n",
      "memory usage: 684.0+ KB\n"
     ]
    }
   ],
   "source": [
    "df.info()"
   ]
  },
  {
   "cell_type": "code",
   "execution_count": 11,
   "metadata": {},
   "outputs": [
    {
     "data": {
      "text/html": [
       "<div>\n",
       "<style scoped>\n",
       "    .dataframe tbody tr th:only-of-type {\n",
       "        vertical-align: middle;\n",
       "    }\n",
       "\n",
       "    .dataframe tbody tr th {\n",
       "        vertical-align: top;\n",
       "    }\n",
       "\n",
       "    .dataframe thead th {\n",
       "        text-align: right;\n",
       "    }\n",
       "</style>\n",
       "<table border=\"1\" class=\"dataframe\">\n",
       "  <thead>\n",
       "    <tr style=\"text-align: right;\">\n",
       "      <th></th>\n",
       "      <th>mean</th>\n",
       "      <th>std</th>\n",
       "      <th>median</th>\n",
       "      <th>first_q</th>\n",
       "      <th>third_q</th>\n",
       "      <th>inter_q</th>\n",
       "      <th>skewness</th>\n",
       "      <th>kurtosis</th>\n",
       "      <th>mode</th>\n",
       "      <th>peak</th>\n",
       "      <th>date</th>\n",
       "      <th>user</th>\n",
       "      <th>age</th>\n",
       "      <th>pronounce</th>\n",
       "      <th>sex</th>\n",
       "    </tr>\n",
       "  </thead>\n",
       "  <tbody>\n",
       "    <tr>\n",
       "      <th>0</th>\n",
       "      <td>106.196970</td>\n",
       "      <td>81.568782</td>\n",
       "      <td>100.0</td>\n",
       "      <td>20.0</td>\n",
       "      <td>190.0</td>\n",
       "      <td>170.0</td>\n",
       "      <td>0.243448</td>\n",
       "      <td>-1.368536</td>\n",
       "      <td>10.0</td>\n",
       "      <td>270.0</td>\n",
       "      <td>20100710</td>\n",
       "      <td>1028</td>\n",
       "      <td>Adult</td>\n",
       "      <td>American</td>\n",
       "      <td>M</td>\n",
       "    </tr>\n",
       "    <tr>\n",
       "      <th>1</th>\n",
       "      <td>93.255452</td>\n",
       "      <td>91.364379</td>\n",
       "      <td>50.0</td>\n",
       "      <td>20.0</td>\n",
       "      <td>200.0</td>\n",
       "      <td>180.0</td>\n",
       "      <td>0.734991</td>\n",
       "      <td>-1.222807</td>\n",
       "      <td>50.0</td>\n",
       "      <td>270.0</td>\n",
       "      <td>20170321</td>\n",
       "      <td>1337ad</td>\n",
       "      <td>Adult</td>\n",
       "      <td>Unknown</td>\n",
       "      <td>F</td>\n",
       "    </tr>\n",
       "    <tr>\n",
       "      <th>2</th>\n",
       "      <td>105.632959</td>\n",
       "      <td>92.503697</td>\n",
       "      <td>50.0</td>\n",
       "      <td>20.0</td>\n",
       "      <td>200.0</td>\n",
       "      <td>180.0</td>\n",
       "      <td>0.451782</td>\n",
       "      <td>-1.562513</td>\n",
       "      <td>50.0</td>\n",
       "      <td>270.0</td>\n",
       "      <td>20170321</td>\n",
       "      <td>1337ad</td>\n",
       "      <td>Adult</td>\n",
       "      <td>Unknown</td>\n",
       "      <td>F</td>\n",
       "    </tr>\n",
       "    <tr>\n",
       "      <th>4</th>\n",
       "      <td>46.953846</td>\n",
       "      <td>62.705277</td>\n",
       "      <td>20.0</td>\n",
       "      <td>20.0</td>\n",
       "      <td>20.0</td>\n",
       "      <td>0.0</td>\n",
       "      <td>1.935404</td>\n",
       "      <td>2.122227</td>\n",
       "      <td>20.0</td>\n",
       "      <td>250.0</td>\n",
       "      <td>20120412</td>\n",
       "      <td>1snoke</td>\n",
       "      <td>Adult</td>\n",
       "      <td>American</td>\n",
       "      <td>M</td>\n",
       "    </tr>\n",
       "    <tr>\n",
       "      <th>5</th>\n",
       "      <td>138.525207</td>\n",
       "      <td>78.325413</td>\n",
       "      <td>120.0</td>\n",
       "      <td>80.0</td>\n",
       "      <td>210.0</td>\n",
       "      <td>130.0</td>\n",
       "      <td>0.287636</td>\n",
       "      <td>-1.141163</td>\n",
       "      <td>100.0</td>\n",
       "      <td>270.0</td>\n",
       "      <td>20100807</td>\n",
       "      <td>23yipikaye</td>\n",
       "      <td>Adult</td>\n",
       "      <td>Unknown</td>\n",
       "      <td>M</td>\n",
       "    </tr>\n",
       "  </tbody>\n",
       "</table>\n",
       "</div>"
      ],
      "text/plain": [
       "         mean        std  median  first_q  third_q  inter_q  skewness  \\\n",
       "0  106.196970  81.568782   100.0     20.0    190.0    170.0  0.243448   \n",
       "1   93.255452  91.364379    50.0     20.0    200.0    180.0  0.734991   \n",
       "2  105.632959  92.503697    50.0     20.0    200.0    180.0  0.451782   \n",
       "4   46.953846  62.705277    20.0     20.0     20.0      0.0  1.935404   \n",
       "5  138.525207  78.325413   120.0     80.0    210.0    130.0  0.287636   \n",
       "\n",
       "   kurtosis   mode   peak      date        user    age pronounce sex  \n",
       "0 -1.368536   10.0  270.0  20100710        1028  Adult  American   M  \n",
       "1 -1.222807   50.0  270.0  20170321      1337ad  Adult   Unknown   F  \n",
       "2 -1.562513   50.0  270.0  20170321      1337ad  Adult   Unknown   F  \n",
       "4  2.122227   20.0  250.0  20120412      1snoke  Adult  American   M  \n",
       "5 -1.141163  100.0  270.0  20100807  23yipikaye  Adult   Unknown   M  "
      ]
     },
     "execution_count": 11,
     "metadata": {},
     "output_type": "execute_result"
    }
   ],
   "source": [
    "df.head()"
   ]
  },
  {
   "cell_type": "code",
   "execution_count": 12,
   "metadata": {},
   "outputs": [
    {
     "data": {
      "image/png": "[encoded data removed]",
      "text/plain": [
       "<Figure size 1152x576 with 1 Axes>"
      ]
     },
     "metadata": {},
     "output_type": "display_data"
    }
   ],
   "source": [
    "plt.figure(1,figsize=(16,8))\n",
    "sns.countplot(x='pronounce', data=df, hue = df.sex)\n",
    "plt.xlabel('accent')\n",
    "plt.ylabel('Population')\n",
    "plt.show()"
   ]
  },
  {
   "cell_type": "code",
   "execution_count": 13,
   "metadata": {},
   "outputs": [
    {
     "data": {
      "image/png": "[encoded data removed]",
      "text/plain": [
       "<Figure size 1152x576 with 1 Axes>"
      ]
     },
     "metadata": {},
     "output_type": "display_data"
    }
   ],
   "source": [
    "plt.figure(1,figsize=(16,8))\n",
    "sns.countplot(x='age', data=df, hue = df.sex)\n",
    "plt.xlabel('Age')\n",
    "plt.ylabel('Population')\n",
    "plt.show()"
   ]
  },
  {
   "cell_type": "code",
   "execution_count": 14,
   "metadata": {},
   "outputs": [
    {
     "data": {
      "image/png": "[encoded data removed]",
      "text/plain": [
       "<Figure size 2160x3240 with 10 Axes>"
      ]
     },
     "metadata": {},
     "output_type": "display_data"
    }
   ],
   "source": [
    "females = df.loc[df.sex=='F']\n",
    "males = df.loc[df.sex=='M']\n",
    "males_under_sample = males.sample(len(females))\n",
    "parameters = ['mean','std','median','first_q', 'third_q', 'inter_q', 'skewness', 'kurtosis','mode','peak']\n",
    "\n",
    "#Plot the histograms\n",
    "fig, axes = plt.subplots(5, 2, figsize=(30,45))\n",
    "\n",
    "ax = axes.flatten()\n",
    "\n",
    "for i in range(len(parameters)):\n",
    "    ax[i].hist(males_under_sample.loc[:,parameters[i]], bins=25, alpha =0.5)\n",
    "    ax[i].hist(females.loc[:, parameters[i]], bins=25, alpha =0.5)\n",
    "    ax[i].set_title(parameters[i])\n",
    "    ax[i].set_yticks(())\n",
    "    \n",
    "    ax[i].set_xlabel(\"Magnitude\")\n",
    "    ax[i].set_ylabel(\"Frequency\")\n",
    "    ax[i].legend([\"Males\", \"Females\"])\n",
    "plt.show()"
   ]
  },
  {
   "cell_type": "markdown",
   "metadata": {},
   "source": [
    "## First to Encode 'sex' column to 0 for Male and 1 for Females"
   ]
  },
  {
   "cell_type": "code",
   "execution_count": 16,
   "metadata": {},
   "outputs": [
    {
     "name": "stderr",
     "output_type": "stream",
     "text": [
      "/anaconda3/lib/python3.6/site-packages/ipykernel_launcher.py:2: SettingWithCopyWarning: \n",
      "A value is trying to be set on a copy of a slice from a DataFrame\n",
      "\n",
      "See the caveats in the documentation: http://pandas.pydata.org/pandas-docs/stable/indexing.html#indexing-view-versus-copy\n",
      "  \n"
     ]
    }
   ],
   "source": [
    "df.loc[:,'sex'][df['sex']== 'M'] = 0\n",
    "df.loc[:,'sex'][df['sex']=='F'] = 1"
   ]
  },
  {
   "cell_type": "code",
   "execution_count": 17,
   "metadata": {},
   "outputs": [
    {
     "data": {
      "text/html": [
       "<div>\n",
       "<style scoped>\n",
       "    .dataframe tbody tr th:only-of-type {\n",
       "        vertical-align: middle;\n",
       "    }\n",
       "\n",
       "    .dataframe tbody tr th {\n",
       "        vertical-align: top;\n",
       "    }\n",
       "\n",
       "    .dataframe thead th {\n",
       "        text-align: right;\n",
       "    }\n",
       "</style>\n",
       "<table border=\"1\" class=\"dataframe\">\n",
       "  <thead>\n",
       "    <tr style=\"text-align: right;\">\n",
       "      <th></th>\n",
       "      <th>mean</th>\n",
       "      <th>std</th>\n",
       "      <th>median</th>\n",
       "      <th>first_q</th>\n",
       "      <th>third_q</th>\n",
       "      <th>inter_q</th>\n",
       "      <th>skewness</th>\n",
       "      <th>kurtosis</th>\n",
       "      <th>mode</th>\n",
       "      <th>peak</th>\n",
       "      <th>date</th>\n",
       "      <th>user</th>\n",
       "      <th>age</th>\n",
       "      <th>pronounce</th>\n",
       "      <th>sex</th>\n",
       "    </tr>\n",
       "  </thead>\n",
       "  <tbody>\n",
       "    <tr>\n",
       "      <th>0</th>\n",
       "      <td>106.196970</td>\n",
       "      <td>81.568782</td>\n",
       "      <td>100.0</td>\n",
       "      <td>20.0</td>\n",
       "      <td>190.0</td>\n",
       "      <td>170.0</td>\n",
       "      <td>0.243448</td>\n",
       "      <td>-1.368536</td>\n",
       "      <td>10.0</td>\n",
       "      <td>270.0</td>\n",
       "      <td>20100710</td>\n",
       "      <td>1028</td>\n",
       "      <td>Adult</td>\n",
       "      <td>American</td>\n",
       "      <td>0</td>\n",
       "    </tr>\n",
       "    <tr>\n",
       "      <th>1</th>\n",
       "      <td>93.255452</td>\n",
       "      <td>91.364379</td>\n",
       "      <td>50.0</td>\n",
       "      <td>20.0</td>\n",
       "      <td>200.0</td>\n",
       "      <td>180.0</td>\n",
       "      <td>0.734991</td>\n",
       "      <td>-1.222807</td>\n",
       "      <td>50.0</td>\n",
       "      <td>270.0</td>\n",
       "      <td>20170321</td>\n",
       "      <td>1337ad</td>\n",
       "      <td>Adult</td>\n",
       "      <td>Unknown</td>\n",
       "      <td>1</td>\n",
       "    </tr>\n",
       "    <tr>\n",
       "      <th>2</th>\n",
       "      <td>105.632959</td>\n",
       "      <td>92.503697</td>\n",
       "      <td>50.0</td>\n",
       "      <td>20.0</td>\n",
       "      <td>200.0</td>\n",
       "      <td>180.0</td>\n",
       "      <td>0.451782</td>\n",
       "      <td>-1.562513</td>\n",
       "      <td>50.0</td>\n",
       "      <td>270.0</td>\n",
       "      <td>20170321</td>\n",
       "      <td>1337ad</td>\n",
       "      <td>Adult</td>\n",
       "      <td>Unknown</td>\n",
       "      <td>1</td>\n",
       "    </tr>\n",
       "    <tr>\n",
       "      <th>4</th>\n",
       "      <td>46.953846</td>\n",
       "      <td>62.705277</td>\n",
       "      <td>20.0</td>\n",
       "      <td>20.0</td>\n",
       "      <td>20.0</td>\n",
       "      <td>0.0</td>\n",
       "      <td>1.935404</td>\n",
       "      <td>2.122227</td>\n",
       "      <td>20.0</td>\n",
       "      <td>250.0</td>\n",
       "      <td>20120412</td>\n",
       "      <td>1snoke</td>\n",
       "      <td>Adult</td>\n",
       "      <td>American</td>\n",
       "      <td>0</td>\n",
       "    </tr>\n",
       "    <tr>\n",
       "      <th>5</th>\n",
       "      <td>138.525207</td>\n",
       "      <td>78.325413</td>\n",
       "      <td>120.0</td>\n",
       "      <td>80.0</td>\n",
       "      <td>210.0</td>\n",
       "      <td>130.0</td>\n",
       "      <td>0.287636</td>\n",
       "      <td>-1.141163</td>\n",
       "      <td>100.0</td>\n",
       "      <td>270.0</td>\n",
       "      <td>20100807</td>\n",
       "      <td>23yipikaye</td>\n",
       "      <td>Adult</td>\n",
       "      <td>Unknown</td>\n",
       "      <td>0</td>\n",
       "    </tr>\n",
       "  </tbody>\n",
       "</table>\n",
       "</div>"
      ],
      "text/plain": [
       "         mean        std  median  first_q  third_q  inter_q  skewness  \\\n",
       "0  106.196970  81.568782   100.0     20.0    190.0    170.0  0.243448   \n",
       "1   93.255452  91.364379    50.0     20.0    200.0    180.0  0.734991   \n",
       "2  105.632959  92.503697    50.0     20.0    200.0    180.0  0.451782   \n",
       "4   46.953846  62.705277    20.0     20.0     20.0      0.0  1.935404   \n",
       "5  138.525207  78.325413   120.0     80.0    210.0    130.0  0.287636   \n",
       "\n",
       "   kurtosis   mode   peak      date        user    age pronounce sex  \n",
       "0 -1.368536   10.0  270.0  20100710        1028  Adult  American   0  \n",
       "1 -1.222807   50.0  270.0  20170321      1337ad  Adult   Unknown   1  \n",
       "2 -1.562513   50.0  270.0  20170321      1337ad  Adult   Unknown   1  \n",
       "4  2.122227   20.0  250.0  20120412      1snoke  Adult  American   0  \n",
       "5 -1.141163  100.0  270.0  20100807  23yipikaye  Adult   Unknown   0  "
      ]
     },
     "execution_count": 17,
     "metadata": {},
     "output_type": "execute_result"
    }
   ],
   "source": [
    "df.head()"
   ]
  },
  {
   "cell_type": "code",
   "execution_count": 21,
   "metadata": {},
   "outputs": [],
   "source": [
    "df.to_csv('Voices_Cleaned.csv')\n",
    "df_sex_unknown.to_csv('Voices_Unknown.csv')"
   ]
  }
 ],
 "metadata": {
  "kernelspec": {
   "display_name": "Python 3",
   "language": "python",
   "name": "python3"
  },
  "language_info": {
   "codemirror_mode": {
    "name": "ipython",
    "version": 3
   },
   "file_extension": ".py",
   "mimetype": "text/x-python",
   "name": "python",
   "nbconvert_exporter": "python",
   "pygments_lexer": "ipython3",
   "version": "3.6.5"
  }
 },
 "nbformat": 4,
 "nbformat_minor": 2
}
