{
 "cells": [
  {
   "cell_type": "code",
   "execution_count": 1,
   "metadata": {},
   "outputs": [],
   "source": [
    "import numpy as np\n",
    "import matplotlib.pyplot as plt\n",
    "import seaborn as sns\n",
    "import pandas as pd\n",
    "\n",
    "from sklearn.model_selection import train_test_split\n",
    "from sklearn.preprocessing import StandardScaler\n",
    "from sklearn.tree import DecisionTreeClassifier\n",
    "from sklearn.ensemble import RandomForestClassifier\n",
    "from sklearn.ensemble import GradientBoostingClassifier\n",
    "from imblearn.over_sampling import SMOTE\n",
    "from sklearn.model_selection import GridSearchCV\n",
    "\n",
    "\n",
    "\n",
    "from sklearn.metrics import confusion_matrix,recall_score,precision_recall_curve,auc,roc_curve,roc_auc_score,classification_report"
   ]
  },
  {
   "cell_type": "code",
   "execution_count": 2,
   "metadata": {},
   "outputs": [],
   "source": [
    "df=  pd.read_csv('Voices_Cleaned.csv', index_col=0)"
   ]
  },
  {
   "cell_type": "code",
   "execution_count": 3,
   "metadata": {},
   "outputs": [],
   "source": [
    "df= df.drop(columns=['date','age','user','pronounce'])"
   ]
  },
  {
   "cell_type": "markdown",
   "metadata": {},
   "source": [
    "## 2- Second to model with  3 feature 'third_q' and 'kurtosis' and 'std'\n",
    "I reach this as a temprory acceptable number of features, by trying different selection of features, but of course it could be improved!"
   ]
  },
  {
   "cell_type": "code",
   "execution_count": 125,
   "metadata": {},
   "outputs": [],
   "source": [
    "model_features = ['third_q','kurtosis','std']"
   ]
  },
  {
   "cell_type": "code",
   "execution_count": 126,
   "metadata": {},
   "outputs": [],
   "source": [
    "df.sex = df.sex.astype(int)"
   ]
  },
  {
   "cell_type": "code",
   "execution_count": 127,
   "metadata": {},
   "outputs": [],
   "source": [
    "oversample = SMOTE(random_state=23)"
   ]
  },
  {
   "cell_type": "code",
   "execution_count": 128,
   "metadata": {},
   "outputs": [],
   "source": [
    "def data_prepration(x): \n",
    "    x_features= x.loc[:,x.columns != \"sex\"]\n",
    "    x_labels=x.loc[:,x.columns==\"sex\"]\n",
    "    x_features_train,x_features_test,x_labels_train,x_labels_test = train_test_split(x_features,x_labels,test_size=0.2)\n",
    "    print(\"length of training data\")\n",
    "    print(len(x_features_train))\n",
    "    print(\"length of testing data\")\n",
    "    print(len(x_features_test))\n",
    "    return(x_features_train,x_features_test,x_labels_train,x_labels_test)"
   ]
  },
  {
   "cell_type": "code",
   "execution_count": 129,
   "metadata": {},
   "outputs": [
    {
     "name": "stdout",
     "output_type": "stream",
     "text": [
      "length of training data\n",
      "4377\n",
      "length of testing data\n",
      "1095\n"
     ]
    }
   ],
   "source": [
    "data_train_X,data_test_X,data_train_y,data_test_y=data_prepration(df)"
   ]
  },
  {
   "cell_type": "code",
   "execution_count": 130,
   "metadata": {},
   "outputs": [],
   "source": [
    "columns = data_train_X.columns"
   ]
  },
  {
   "cell_type": "code",
   "execution_count": 131,
   "metadata": {},
   "outputs": [
    {
     "name": "stdout",
     "output_type": "stream",
     "text": [
      "length of oversampled data is  8112\n",
      "Number of males in oversampled data 4056\n",
      "No.of females in oversampled data 4056\n"
     ]
    },
    {
     "name": "stderr",
     "output_type": "stream",
     "text": [
      "/anaconda3/lib/python3.6/site-packages/sklearn/utils/validation.py:761: DataConversionWarning: A column-vector y was passed when a 1d array was expected. Please change the shape of y to (n_samples, ), for example using ravel().\n",
      "  y = column_or_1d(y, warn=True)\n"
     ]
    }
   ],
   "source": [
    "os_data_X,os_data_y=oversample.fit_sample(data_train_X,data_train_y)\n",
    "os_data_X = pd.DataFrame(data=os_data_X,columns=columns )\n",
    "os_data_y= pd.DataFrame(data=os_data_y,columns=[\"sex\"])\n",
    "\n",
    "print(\"length of oversampled data is \",len(os_data_X))\n",
    "print(\"Number of males in oversampled data\",len(os_data_y[os_data_y[\"sex\"]==0]))\n",
    "print(\"No.of females in oversampled data\",len(os_data_y[os_data_y[\"sex\"]==1]))"
   ]
  },
  {
   "cell_type": "code",
   "execution_count": 132,
   "metadata": {},
   "outputs": [],
   "source": [
    "scaler = StandardScaler()\n",
    "scaler.fit(df.loc[:,model_features]) \n",
    "X_train = scaler.transform(os_data_X.loc[:,model_features])\n",
    "X_test = scaler.transform(data_test_X.loc[:,model_features])\n",
    "y_train = list(os_data_y['sex'].values)\n",
    "y_test = list(data_test_y['sex'].values)"
   ]
  },
  {
   "cell_type": "code",
   "execution_count": 133,
   "metadata": {},
   "outputs": [
    {
     "name": "stdout",
     "output_type": "stream",
     "text": [
      "Decision Tree Report\n",
      "train score is 1.0\n",
      "test score is 0.845662100456621\n",
      "Random Forests Report\n",
      "train score is 1.0\n",
      "test score is 0.8703196347031964\n",
      "Gradient Boosting Report\n",
      "train score is 0.8317307692307693\n",
      "test score is 0.782648401826484\n"
     ]
    }
   ],
   "source": [
    "#Train decision tree model\n",
    "tree = DecisionTreeClassifier(random_state=23).fit(X_train, y_train)\n",
    "print('Decision Tree Report')\n",
    "print('train score is %s' %tree.score(X_train, y_train))\n",
    "print('test score is %s' %tree.score(X_test, y_test))\n",
    "\n",
    "\n",
    "\n",
    "#Train random forest model\n",
    "forest = RandomForestClassifier(n_estimators=100, random_state=23).fit(X_train, y_train)\n",
    "print('Random Forests Report')\n",
    "print('train score is %s' %forest.score(X_train, y_train))\n",
    "print('test score is %s' %forest.score(X_test, y_test))\n",
    "\n",
    "\n",
    "#Train gradient boosting model\n",
    "gb = GradientBoostingClassifier(random_state=23).fit(X_train, y_train)\n",
    "print('Gradient Boosting Report')\n",
    "print('train score is %s' %gb.score(X_train, y_train))\n",
    "print('test score is %s' %gb.score(X_test, y_test))"
   ]
  },
  {
   "cell_type": "code",
   "execution_count": 134,
   "metadata": {},
   "outputs": [],
   "source": [
    "def create_report(model,X_train,X_test,y_train,y_test):\n",
    "    clf= model\n",
    "    clf.fit(X_train,y_train)\n",
    "    pred=clf.predict(X_test)\n",
    "    metrics_matrix=confusion_matrix(y_test,pred)\n",
    "    print(\"the accuracy for this model is :\",(metrics_matrix[0,0]+metrics_matrix[1,1])/(metrics_matrix[0,0]+metrics_matrix[0,1]+metrics_matrix[1,0]+metrics_matrix[1,1]))\n",
    "    print(\"the recall for this model is :\",metrics_matrix[1,1]/(metrics_matrix[1,1]+metrics_matrix[1,0]))\n",
    "\n",
    "\n",
    "    fig= plt.figure(figsize=(6,3))\n",
    "    print(\"TP\",metrics_matrix[1,1]) \n",
    "    print(\"TN\",metrics_matrix[0,0]) \n",
    "    print(\"FP\",metrics_matrix[0,1]) \n",
    "    print(\"FN\",metrics_matrix[1,0])\n",
    "    sns.heatmap(metrics_matrix,cmap=\"coolwarm\",annot=True,linewidths=0.5)\n",
    "    plt.title(\"Confusion_matrix\")\n",
    "    plt.xlabel(\"Predicted_Sex\")\n",
    "    plt.ylabel(\"Real_Sex\")\n",
    "    plt.show()\n",
    "    print(\"\\n----------Classification Report----------\")\n",
    "    print(classification_report(y_test,pred))"
   ]
  },
  {
   "cell_type": "code",
   "execution_count": 135,
   "metadata": {},
   "outputs": [
    {
     "name": "stdout",
     "output_type": "stream",
     "text": [
      "the accuracy for this model is : 0.845662100456621\n",
      "the recall for this model is : 0.4142857142857143\n",
      "TP 29\n",
      "TN 897\n",
      "FP 128\n",
      "FN 41\n"
     ]
    },
    {
     "data": {
      "image/png": "[encoded data removed]",
      "text/plain": [
       "<Figure size 432x216 with 2 Axes>"
      ]
     },
     "metadata": {},
     "output_type": "display_data"
    },
    {
     "name": "stdout",
     "output_type": "stream",
     "text": [
      "\n",
      "----------Classification Report----------\n",
      "              precision    recall  f1-score   support\n",
      "\n",
      "           0       0.96      0.88      0.91      1025\n",
      "           1       0.18      0.41      0.26        70\n",
      "\n",
      "   micro avg       0.85      0.85      0.85      1095\n",
      "   macro avg       0.57      0.64      0.58      1095\n",
      "weighted avg       0.91      0.85      0.87      1095\n",
      "\n"
     ]
    }
   ],
   "source": [
    "create_report(DecisionTreeClassifier(random_state=23),X_train,X_test,y_train,y_test)"
   ]
  },
  {
   "cell_type": "code",
   "execution_count": 136,
   "metadata": {},
   "outputs": [
    {
     "name": "stdout",
     "output_type": "stream",
     "text": [
      "the accuracy for this model is : 0.8703196347031964\n",
      "the recall for this model is : 0.4857142857142857\n",
      "TP 34\n",
      "TN 919\n",
      "FP 106\n",
      "FN 36\n"
     ]
    },
    {
     "data": {
      "image/png": "[encoded data removed]",
      "text/plain": [
       "<Figure size 432x216 with 2 Axes>"
      ]
     },
     "metadata": {},
     "output_type": "display_data"
    },
    {
     "name": "stdout",
     "output_type": "stream",
     "text": [
      "\n",
      "----------Classification Report----------\n",
      "              precision    recall  f1-score   support\n",
      "\n",
      "           0       0.96      0.90      0.93      1025\n",
      "           1       0.24      0.49      0.32        70\n",
      "\n",
      "   micro avg       0.87      0.87      0.87      1095\n",
      "   macro avg       0.60      0.69      0.63      1095\n",
      "weighted avg       0.92      0.87      0.89      1095\n",
      "\n"
     ]
    }
   ],
   "source": [
    "create_report(RandomForestClassifier(n_estimators=100,random_state=23),X_train,X_test,y_train,y_test)"
   ]
  },
  {
   "cell_type": "code",
   "execution_count": 137,
   "metadata": {},
   "outputs": [
    {
     "name": "stdout",
     "output_type": "stream",
     "text": [
      "the accuracy for this model is : 0.782648401826484\n",
      "the recall for this model is : 0.6\n",
      "TP 42\n",
      "TN 815\n",
      "FP 210\n",
      "FN 28\n"
     ]
    },
    {
     "data": {
      "image/png": "[encoded data removed]",
      "text/plain": [
       "<Figure size 432x216 with 2 Axes>"
      ]
     },
     "metadata": {},
     "output_type": "display_data"
    },
    {
     "name": "stdout",
     "output_type": "stream",
     "text": [
      "\n",
      "----------Classification Report----------\n",
      "              precision    recall  f1-score   support\n",
      "\n",
      "           0       0.97      0.80      0.87      1025\n",
      "           1       0.17      0.60      0.26        70\n",
      "\n",
      "   micro avg       0.78      0.78      0.78      1095\n",
      "   macro avg       0.57      0.70      0.57      1095\n",
      "weighted avg       0.92      0.78      0.83      1095\n",
      "\n"
     ]
    }
   ],
   "source": [
    "create_report(GradientBoostingClassifier(random_state=23),X_train,X_test,y_train,y_test)"
   ]
  },
  {
   "cell_type": "code",
   "execution_count": 185,
   "metadata": {},
   "outputs": [
    {
     "name": "stdout",
     "output_type": "stream",
     "text": [
      "# Tuning hyper-parameters for f1\n",
      "\n",
      "Best parameters set found on development set:\n",
      "\n",
      "{'criterion': 'friedman_mse', 'learning_rate': 0.3, 'loss': 'deviance', 'max_depth': 7, 'max_features': 'log2', 'min_samples_leaf': 0.05, 'min_samples_split': 0.05, 'n_estimators': 120, 'subsample': 0.6}\n",
      "\n",
      "Grid scores on development set:\n",
      "\n",
      "0.738 (+/-0.039) for {'criterion': 'friedman_mse', 'learning_rate': 0.25, 'loss': 'exponential', 'max_depth': 5, 'max_features': 'log2', 'min_samples_leaf': 0.05, 'min_samples_split': 0.05, 'n_estimators': 25, 'subsample': 0.6}\n",
      "0.782 (+/-0.026) for {'criterion': 'friedman_mse', 'learning_rate': 0.25, 'loss': 'exponential', 'max_depth': 5, 'max_features': 'log2', 'min_samples_leaf': 0.05, 'min_samples_split': 0.05, 'n_estimators': 120, 'subsample': 0.6}\n",
      "0.723 (+/-0.023) for {'criterion': 'friedman_mse', 'learning_rate': 0.25, 'loss': 'exponential', 'max_depth': 5, 'max_features': 'log2', 'min_samples_leaf': 0.05, 'min_samples_split': 0.275, 'n_estimators': 25, 'subsample': 0.6}\n",
      "0.757 (+/-0.030) for {'criterion': 'friedman_mse', 'learning_rate': 0.25, 'loss': 'exponential', 'max_depth': 5, 'max_features': 'log2', 'min_samples_leaf': 0.05, 'min_samples_split': 0.275, 'n_estimators': 120, 'subsample': 0.6}\n",
      "0.699 (+/-0.012) for {'criterion': 'friedman_mse', 'learning_rate': 0.25, 'loss': 'exponential', 'max_depth': 5, 'max_features': 'log2', 'min_samples_leaf': 0.05, 'min_samples_split': 0.5, 'n_estimators': 25, 'subsample': 0.6}\n",
      "0.728 (+/-0.027) for {'criterion': 'friedman_mse', 'learning_rate': 0.25, 'loss': 'exponential', 'max_depth': 5, 'max_features': 'log2', 'min_samples_leaf': 0.05, 'min_samples_split': 0.5, 'n_estimators': 120, 'subsample': 0.6}\n",
      "0.700 (+/-0.018) for {'criterion': 'friedman_mse', 'learning_rate': 0.25, 'loss': 'exponential', 'max_depth': 5, 'max_features': 'log2', 'min_samples_leaf': 0.275, 'min_samples_split': 0.05, 'n_estimators': 25, 'subsample': 0.6}\n",
      "0.702 (+/-0.018) for {'criterion': 'friedman_mse', 'learning_rate': 0.25, 'loss': 'exponential', 'max_depth': 5, 'max_features': 'log2', 'min_samples_leaf': 0.275, 'min_samples_split': 0.05, 'n_estimators': 120, 'subsample': 0.6}\n",
      "0.699 (+/-0.018) for {'criterion': 'friedman_mse', 'learning_rate': 0.25, 'loss': 'exponential', 'max_depth': 5, 'max_features': 'log2', 'min_samples_leaf': 0.275, 'min_samples_split': 0.275, 'n_estimators': 25, 'subsample': 0.6}\n",
      "0.702 (+/-0.018) for {'criterion': 'friedman_mse', 'learning_rate': 0.25, 'loss': 'exponential', 'max_depth': 5, 'max_features': 'log2', 'min_samples_leaf': 0.275, 'min_samples_split': 0.275, 'n_estimators': 120, 'subsample': 0.6}\n",
      "0.699 (+/-0.018) for {'criterion': 'friedman_mse', 'learning_rate': 0.25, 'loss': 'exponential', 'max_depth': 5, 'max_features': 'log2', 'min_samples_leaf': 0.275, 'min_samples_split': 0.5, 'n_estimators': 25, 'subsample': 0.6}\n",
      "0.701 (+/-0.018) for {'criterion': 'friedman_mse', 'learning_rate': 0.25, 'loss': 'exponential', 'max_depth': 5, 'max_features': 'log2', 'min_samples_leaf': 0.275, 'min_samples_split': 0.5, 'n_estimators': 120, 'subsample': 0.6}\n",
      "0.333 (+/-0.000) for {'criterion': 'friedman_mse', 'learning_rate': 0.25, 'loss': 'exponential', 'max_depth': 5, 'max_features': 'log2', 'min_samples_leaf': 0.5, 'min_samples_split': 0.05, 'n_estimators': 25, 'subsample': 0.6}\n",
      "0.333 (+/-0.000) for {'criterion': 'friedman_mse', 'learning_rate': 0.25, 'loss': 'exponential', 'max_depth': 5, 'max_features': 'log2', 'min_samples_leaf': 0.5, 'min_samples_split': 0.05, 'n_estimators': 120, 'subsample': 0.6}\n",
      "0.333 (+/-0.000) for {'criterion': 'friedman_mse', 'learning_rate': 0.25, 'loss': 'exponential', 'max_depth': 5, 'max_features': 'log2', 'min_samples_leaf': 0.5, 'min_samples_split': 0.275, 'n_estimators': 25, 'subsample': 0.6}\n",
      "0.333 (+/-0.000) for {'criterion': 'friedman_mse', 'learning_rate': 0.25, 'loss': 'exponential', 'max_depth': 5, 'max_features': 'log2', 'min_samples_leaf': 0.5, 'min_samples_split': 0.275, 'n_estimators': 120, 'subsample': 0.6}\n",
      "0.333 (+/-0.000) for {'criterion': 'friedman_mse', 'learning_rate': 0.25, 'loss': 'exponential', 'max_depth': 5, 'max_features': 'log2', 'min_samples_leaf': 0.5, 'min_samples_split': 0.5, 'n_estimators': 25, 'subsample': 0.6}\n",
      "0.333 (+/-0.000) for {'criterion': 'friedman_mse', 'learning_rate': 0.25, 'loss': 'exponential', 'max_depth': 5, 'max_features': 'log2', 'min_samples_leaf': 0.5, 'min_samples_split': 0.5, 'n_estimators': 120, 'subsample': 0.6}\n",
      "0.743 (+/-0.035) for {'criterion': 'friedman_mse', 'learning_rate': 0.25, 'loss': 'exponential', 'max_depth': 7, 'max_features': 'log2', 'min_samples_leaf': 0.05, 'min_samples_split': 0.05, 'n_estimators': 25, 'subsample': 0.6}\n",
      "0.786 (+/-0.035) for {'criterion': 'friedman_mse', 'learning_rate': 0.25, 'loss': 'exponential', 'max_depth': 7, 'max_features': 'log2', 'min_samples_leaf': 0.05, 'min_samples_split': 0.05, 'n_estimators': 120, 'subsample': 0.6}\n",
      "0.719 (+/-0.027) for {'criterion': 'friedman_mse', 'learning_rate': 0.25, 'loss': 'exponential', 'max_depth': 7, 'max_features': 'log2', 'min_samples_leaf': 0.05, 'min_samples_split': 0.275, 'n_estimators': 25, 'subsample': 0.6}\n",
      "0.756 (+/-0.024) for {'criterion': 'friedman_mse', 'learning_rate': 0.25, 'loss': 'exponential', 'max_depth': 7, 'max_features': 'log2', 'min_samples_leaf': 0.05, 'min_samples_split': 0.275, 'n_estimators': 120, 'subsample': 0.6}\n",
      "0.698 (+/-0.015) for {'criterion': 'friedman_mse', 'learning_rate': 0.25, 'loss': 'exponential', 'max_depth': 7, 'max_features': 'log2', 'min_samples_leaf': 0.05, 'min_samples_split': 0.5, 'n_estimators': 25, 'subsample': 0.6}\n",
      "0.729 (+/-0.032) for {'criterion': 'friedman_mse', 'learning_rate': 0.25, 'loss': 'exponential', 'max_depth': 7, 'max_features': 'log2', 'min_samples_leaf': 0.05, 'min_samples_split': 0.5, 'n_estimators': 120, 'subsample': 0.6}\n",
      "0.700 (+/-0.018) for {'criterion': 'friedman_mse', 'learning_rate': 0.25, 'loss': 'exponential', 'max_depth': 7, 'max_features': 'log2', 'min_samples_leaf': 0.275, 'min_samples_split': 0.05, 'n_estimators': 25, 'subsample': 0.6}\n",
      "0.702 (+/-0.017) for {'criterion': 'friedman_mse', 'learning_rate': 0.25, 'loss': 'exponential', 'max_depth': 7, 'max_features': 'log2', 'min_samples_leaf': 0.275, 'min_samples_split': 0.05, 'n_estimators': 120, 'subsample': 0.6}\n",
      "0.700 (+/-0.017) for {'criterion': 'friedman_mse', 'learning_rate': 0.25, 'loss': 'exponential', 'max_depth': 7, 'max_features': 'log2', 'min_samples_leaf': 0.275, 'min_samples_split': 0.275, 'n_estimators': 25, 'subsample': 0.6}\n",
      "0.701 (+/-0.019) for {'criterion': 'friedman_mse', 'learning_rate': 0.25, 'loss': 'exponential', 'max_depth': 7, 'max_features': 'log2', 'min_samples_leaf': 0.275, 'min_samples_split': 0.275, 'n_estimators': 120, 'subsample': 0.6}\n",
      "0.699 (+/-0.019) for {'criterion': 'friedman_mse', 'learning_rate': 0.25, 'loss': 'exponential', 'max_depth': 7, 'max_features': 'log2', 'min_samples_leaf': 0.275, 'min_samples_split': 0.5, 'n_estimators': 25, 'subsample': 0.6}\n",
      "0.702 (+/-0.019) for {'criterion': 'friedman_mse', 'learning_rate': 0.25, 'loss': 'exponential', 'max_depth': 7, 'max_features': 'log2', 'min_samples_leaf': 0.275, 'min_samples_split': 0.5, 'n_estimators': 120, 'subsample': 0.6}\n",
      "0.333 (+/-0.000) for {'criterion': 'friedman_mse', 'learning_rate': 0.25, 'loss': 'exponential', 'max_depth': 7, 'max_features': 'log2', 'min_samples_leaf': 0.5, 'min_samples_split': 0.05, 'n_estimators': 25, 'subsample': 0.6}\n",
      "0.333 (+/-0.000) for {'criterion': 'friedman_mse', 'learning_rate': 0.25, 'loss': 'exponential', 'max_depth': 7, 'max_features': 'log2', 'min_samples_leaf': 0.5, 'min_samples_split': 0.05, 'n_estimators': 120, 'subsample': 0.6}\n",
      "0.333 (+/-0.000) for {'criterion': 'friedman_mse', 'learning_rate': 0.25, 'loss': 'exponential', 'max_depth': 7, 'max_features': 'log2', 'min_samples_leaf': 0.5, 'min_samples_split': 0.275, 'n_estimators': 25, 'subsample': 0.6}\n",
      "0.333 (+/-0.000) for {'criterion': 'friedman_mse', 'learning_rate': 0.25, 'loss': 'exponential', 'max_depth': 7, 'max_features': 'log2', 'min_samples_leaf': 0.5, 'min_samples_split': 0.275, 'n_estimators': 120, 'subsample': 0.6}\n",
      "0.333 (+/-0.000) for {'criterion': 'friedman_mse', 'learning_rate': 0.25, 'loss': 'exponential', 'max_depth': 7, 'max_features': 'log2', 'min_samples_leaf': 0.5, 'min_samples_split': 0.5, 'n_estimators': 25, 'subsample': 0.6}\n",
      "0.333 (+/-0.000) for {'criterion': 'friedman_mse', 'learning_rate': 0.25, 'loss': 'exponential', 'max_depth': 7, 'max_features': 'log2', 'min_samples_leaf': 0.5, 'min_samples_split': 0.5, 'n_estimators': 120, 'subsample': 0.6}\n",
      "0.739 (+/-0.034) for {'criterion': 'friedman_mse', 'learning_rate': 0.25, 'loss': 'deviance', 'max_depth': 5, 'max_features': 'log2', 'min_samples_leaf': 0.05, 'min_samples_split': 0.05, 'n_estimators': 25, 'subsample': 0.6}\n",
      "0.786 (+/-0.031) for {'criterion': 'friedman_mse', 'learning_rate': 0.25, 'loss': 'deviance', 'max_depth': 5, 'max_features': 'log2', 'min_samples_leaf': 0.05, 'min_samples_split': 0.05, 'n_estimators': 120, 'subsample': 0.6}\n",
      "0.719 (+/-0.019) for {'criterion': 'friedman_mse', 'learning_rate': 0.25, 'loss': 'deviance', 'max_depth': 5, 'max_features': 'log2', 'min_samples_leaf': 0.05, 'min_samples_split': 0.275, 'n_estimators': 25, 'subsample': 0.6}\n",
      "0.764 (+/-0.025) for {'criterion': 'friedman_mse', 'learning_rate': 0.25, 'loss': 'deviance', 'max_depth': 5, 'max_features': 'log2', 'min_samples_leaf': 0.05, 'min_samples_split': 0.275, 'n_estimators': 120, 'subsample': 0.6}\n",
      "0.700 (+/-0.011) for {'criterion': 'friedman_mse', 'learning_rate': 0.25, 'loss': 'deviance', 'max_depth': 5, 'max_features': 'log2', 'min_samples_leaf': 0.05, 'min_samples_split': 0.5, 'n_estimators': 25, 'subsample': 0.6}\n",
      "0.730 (+/-0.024) for {'criterion': 'friedman_mse', 'learning_rate': 0.25, 'loss': 'deviance', 'max_depth': 5, 'max_features': 'log2', 'min_samples_leaf': 0.05, 'min_samples_split': 0.5, 'n_estimators': 120, 'subsample': 0.6}\n",
      "0.700 (+/-0.018) for {'criterion': 'friedman_mse', 'learning_rate': 0.25, 'loss': 'deviance', 'max_depth': 5, 'max_features': 'log2', 'min_samples_leaf': 0.275, 'min_samples_split': 0.05, 'n_estimators': 25, 'subsample': 0.6}\n",
      "0.702 (+/-0.018) for {'criterion': 'friedman_mse', 'learning_rate': 0.25, 'loss': 'deviance', 'max_depth': 5, 'max_features': 'log2', 'min_samples_leaf': 0.275, 'min_samples_split': 0.05, 'n_estimators': 120, 'subsample': 0.6}\n",
      "0.699 (+/-0.017) for {'criterion': 'friedman_mse', 'learning_rate': 0.25, 'loss': 'deviance', 'max_depth': 5, 'max_features': 'log2', 'min_samples_leaf': 0.275, 'min_samples_split': 0.275, 'n_estimators': 25, 'subsample': 0.6}\n",
      "0.702 (+/-0.018) for {'criterion': 'friedman_mse', 'learning_rate': 0.25, 'loss': 'deviance', 'max_depth': 5, 'max_features': 'log2', 'min_samples_leaf': 0.275, 'min_samples_split': 0.275, 'n_estimators': 120, 'subsample': 0.6}\n",
      "0.699 (+/-0.018) for {'criterion': 'friedman_mse', 'learning_rate': 0.25, 'loss': 'deviance', 'max_depth': 5, 'max_features': 'log2', 'min_samples_leaf': 0.275, 'min_samples_split': 0.5, 'n_estimators': 25, 'subsample': 0.6}\n",
      "0.702 (+/-0.019) for {'criterion': 'friedman_mse', 'learning_rate': 0.25, 'loss': 'deviance', 'max_depth': 5, 'max_features': 'log2', 'min_samples_leaf': 0.275, 'min_samples_split': 0.5, 'n_estimators': 120, 'subsample': 0.6}\n",
      "0.333 (+/-0.000) for {'criterion': 'friedman_mse', 'learning_rate': 0.25, 'loss': 'deviance', 'max_depth': 5, 'max_features': 'log2', 'min_samples_leaf': 0.5, 'min_samples_split': 0.05, 'n_estimators': 25, 'subsample': 0.6}\n",
      "0.333 (+/-0.000) for {'criterion': 'friedman_mse', 'learning_rate': 0.25, 'loss': 'deviance', 'max_depth': 5, 'max_features': 'log2', 'min_samples_leaf': 0.5, 'min_samples_split': 0.05, 'n_estimators': 120, 'subsample': 0.6}\n",
      "0.333 (+/-0.000) for {'criterion': 'friedman_mse', 'learning_rate': 0.25, 'loss': 'deviance', 'max_depth': 5, 'max_features': 'log2', 'min_samples_leaf': 0.5, 'min_samples_split': 0.275, 'n_estimators': 25, 'subsample': 0.6}\n",
      "0.333 (+/-0.000) for {'criterion': 'friedman_mse', 'learning_rate': 0.25, 'loss': 'deviance', 'max_depth': 5, 'max_features': 'log2', 'min_samples_leaf': 0.5, 'min_samples_split': 0.275, 'n_estimators': 120, 'subsample': 0.6}\n",
      "0.333 (+/-0.000) for {'criterion': 'friedman_mse', 'learning_rate': 0.25, 'loss': 'deviance', 'max_depth': 5, 'max_features': 'log2', 'min_samples_leaf': 0.5, 'min_samples_split': 0.5, 'n_estimators': 25, 'subsample': 0.6}\n",
      "0.333 (+/-0.000) for {'criterion': 'friedman_mse', 'learning_rate': 0.25, 'loss': 'deviance', 'max_depth': 5, 'max_features': 'log2', 'min_samples_leaf': 0.5, 'min_samples_split': 0.5, 'n_estimators': 120, 'subsample': 0.6}\n",
      "0.743 (+/-0.034) for {'criterion': 'friedman_mse', 'learning_rate': 0.25, 'loss': 'deviance', 'max_depth': 7, 'max_features': 'log2', 'min_samples_leaf': 0.05, 'min_samples_split': 0.05, 'n_estimators': 25, 'subsample': 0.6}\n",
      "0.791 (+/-0.038) for {'criterion': 'friedman_mse', 'learning_rate': 0.25, 'loss': 'deviance', 'max_depth': 7, 'max_features': 'log2', 'min_samples_leaf': 0.05, 'min_samples_split': 0.05, 'n_estimators': 120, 'subsample': 0.6}\n",
      "0.716 (+/-0.028) for {'criterion': 'friedman_mse', 'learning_rate': 0.25, 'loss': 'deviance', 'max_depth': 7, 'max_features': 'log2', 'min_samples_leaf': 0.05, 'min_samples_split': 0.275, 'n_estimators': 25, 'subsample': 0.6}\n",
      "0.761 (+/-0.025) for {'criterion': 'friedman_mse', 'learning_rate': 0.25, 'loss': 'deviance', 'max_depth': 7, 'max_features': 'log2', 'min_samples_leaf': 0.05, 'min_samples_split': 0.275, 'n_estimators': 120, 'subsample': 0.6}\n",
      "0.700 (+/-0.016) for {'criterion': 'friedman_mse', 'learning_rate': 0.25, 'loss': 'deviance', 'max_depth': 7, 'max_features': 'log2', 'min_samples_leaf': 0.05, 'min_samples_split': 0.5, 'n_estimators': 25, 'subsample': 0.6}\n",
      "0.729 (+/-0.022) for {'criterion': 'friedman_mse', 'learning_rate': 0.25, 'loss': 'deviance', 'max_depth': 7, 'max_features': 'log2', 'min_samples_leaf': 0.05, 'min_samples_split': 0.5, 'n_estimators': 120, 'subsample': 0.6}\n",
      "0.699 (+/-0.018) for {'criterion': 'friedman_mse', 'learning_rate': 0.25, 'loss': 'deviance', 'max_depth': 7, 'max_features': 'log2', 'min_samples_leaf': 0.275, 'min_samples_split': 0.05, 'n_estimators': 25, 'subsample': 0.6}\n",
      "0.702 (+/-0.019) for {'criterion': 'friedman_mse', 'learning_rate': 0.25, 'loss': 'deviance', 'max_depth': 7, 'max_features': 'log2', 'min_samples_leaf': 0.275, 'min_samples_split': 0.05, 'n_estimators': 120, 'subsample': 0.6}\n",
      "0.701 (+/-0.016) for {'criterion': 'friedman_mse', 'learning_rate': 0.25, 'loss': 'deviance', 'max_depth': 7, 'max_features': 'log2', 'min_samples_leaf': 0.275, 'min_samples_split': 0.275, 'n_estimators': 25, 'subsample': 0.6}\n",
      "0.702 (+/-0.018) for {'criterion': 'friedman_mse', 'learning_rate': 0.25, 'loss': 'deviance', 'max_depth': 7, 'max_features': 'log2', 'min_samples_leaf': 0.275, 'min_samples_split': 0.275, 'n_estimators': 120, 'subsample': 0.6}\n",
      "0.700 (+/-0.018) for {'criterion': 'friedman_mse', 'learning_rate': 0.25, 'loss': 'deviance', 'max_depth': 7, 'max_features': 'log2', 'min_samples_leaf': 0.275, 'min_samples_split': 0.5, 'n_estimators': 25, 'subsample': 0.6}\n",
      "0.702 (+/-0.019) for {'criterion': 'friedman_mse', 'learning_rate': 0.25, 'loss': 'deviance', 'max_depth': 7, 'max_features': 'log2', 'min_samples_leaf': 0.275, 'min_samples_split': 0.5, 'n_estimators': 120, 'subsample': 0.6}\n",
      "0.333 (+/-0.000) for {'criterion': 'friedman_mse', 'learning_rate': 0.25, 'loss': 'deviance', 'max_depth': 7, 'max_features': 'log2', 'min_samples_leaf': 0.5, 'min_samples_split': 0.05, 'n_estimators': 25, 'subsample': 0.6}\n",
      "0.333 (+/-0.000) for {'criterion': 'friedman_mse', 'learning_rate': 0.25, 'loss': 'deviance', 'max_depth': 7, 'max_features': 'log2', 'min_samples_leaf': 0.5, 'min_samples_split': 0.05, 'n_estimators': 120, 'subsample': 0.6}\n",
      "0.333 (+/-0.000) for {'criterion': 'friedman_mse', 'learning_rate': 0.25, 'loss': 'deviance', 'max_depth': 7, 'max_features': 'log2', 'min_samples_leaf': 0.5, 'min_samples_split': 0.275, 'n_estimators': 25, 'subsample': 0.6}\n",
      "0.333 (+/-0.000) for {'criterion': 'friedman_mse', 'learning_rate': 0.25, 'loss': 'deviance', 'max_depth': 7, 'max_features': 'log2', 'min_samples_leaf': 0.5, 'min_samples_split': 0.275, 'n_estimators': 120, 'subsample': 0.6}\n",
      "0.333 (+/-0.000) for {'criterion': 'friedman_mse', 'learning_rate': 0.25, 'loss': 'deviance', 'max_depth': 7, 'max_features': 'log2', 'min_samples_leaf': 0.5, 'min_samples_split': 0.5, 'n_estimators': 25, 'subsample': 0.6}\n",
      "0.333 (+/-0.000) for {'criterion': 'friedman_mse', 'learning_rate': 0.25, 'loss': 'deviance', 'max_depth': 7, 'max_features': 'log2', 'min_samples_leaf': 0.5, 'min_samples_split': 0.5, 'n_estimators': 120, 'subsample': 0.6}\n",
      "0.742 (+/-0.033) for {'criterion': 'friedman_mse', 'learning_rate': 0.3, 'loss': 'exponential', 'max_depth': 5, 'max_features': 'log2', 'min_samples_leaf': 0.05, 'min_samples_split': 0.05, 'n_estimators': 25, 'subsample': 0.6}\n",
      "0.786 (+/-0.032) for {'criterion': 'friedman_mse', 'learning_rate': 0.3, 'loss': 'exponential', 'max_depth': 5, 'max_features': 'log2', 'min_samples_leaf': 0.05, 'min_samples_split': 0.05, 'n_estimators': 120, 'subsample': 0.6}\n",
      "0.721 (+/-0.039) for {'criterion': 'friedman_mse', 'learning_rate': 0.3, 'loss': 'exponential', 'max_depth': 5, 'max_features': 'log2', 'min_samples_leaf': 0.05, 'min_samples_split': 0.275, 'n_estimators': 25, 'subsample': 0.6}\n",
      "0.758 (+/-0.038) for {'criterion': 'friedman_mse', 'learning_rate': 0.3, 'loss': 'exponential', 'max_depth': 5, 'max_features': 'log2', 'min_samples_leaf': 0.05, 'min_samples_split': 0.275, 'n_estimators': 120, 'subsample': 0.6}\n",
      "0.694 (+/-0.013) for {'criterion': 'friedman_mse', 'learning_rate': 0.3, 'loss': 'exponential', 'max_depth': 5, 'max_features': 'log2', 'min_samples_leaf': 0.05, 'min_samples_split': 0.5, 'n_estimators': 25, 'subsample': 0.6}\n",
      "0.733 (+/-0.035) for {'criterion': 'friedman_mse', 'learning_rate': 0.3, 'loss': 'exponential', 'max_depth': 5, 'max_features': 'log2', 'min_samples_leaf': 0.05, 'min_samples_split': 0.5, 'n_estimators': 120, 'subsample': 0.6}\n",
      "0.700 (+/-0.018) for {'criterion': 'friedman_mse', 'learning_rate': 0.3, 'loss': 'exponential', 'max_depth': 5, 'max_features': 'log2', 'min_samples_leaf': 0.275, 'min_samples_split': 0.05, 'n_estimators': 25, 'subsample': 0.6}\n",
      "0.703 (+/-0.017) for {'criterion': 'friedman_mse', 'learning_rate': 0.3, 'loss': 'exponential', 'max_depth': 5, 'max_features': 'log2', 'min_samples_leaf': 0.275, 'min_samples_split': 0.05, 'n_estimators': 120, 'subsample': 0.6}\n",
      "0.700 (+/-0.018) for {'criterion': 'friedman_mse', 'learning_rate': 0.3, 'loss': 'exponential', 'max_depth': 5, 'max_features': 'log2', 'min_samples_leaf': 0.275, 'min_samples_split': 0.275, 'n_estimators': 25, 'subsample': 0.6}\n",
      "0.702 (+/-0.018) for {'criterion': 'friedman_mse', 'learning_rate': 0.3, 'loss': 'exponential', 'max_depth': 5, 'max_features': 'log2', 'min_samples_leaf': 0.275, 'min_samples_split': 0.275, 'n_estimators': 120, 'subsample': 0.6}\n",
      "0.700 (+/-0.018) for {'criterion': 'friedman_mse', 'learning_rate': 0.3, 'loss': 'exponential', 'max_depth': 5, 'max_features': 'log2', 'min_samples_leaf': 0.275, 'min_samples_split': 0.5, 'n_estimators': 25, 'subsample': 0.6}\n",
      "0.702 (+/-0.018) for {'criterion': 'friedman_mse', 'learning_rate': 0.3, 'loss': 'exponential', 'max_depth': 5, 'max_features': 'log2', 'min_samples_leaf': 0.275, 'min_samples_split': 0.5, 'n_estimators': 120, 'subsample': 0.6}\n",
      "0.333 (+/-0.000) for {'criterion': 'friedman_mse', 'learning_rate': 0.3, 'loss': 'exponential', 'max_depth': 5, 'max_features': 'log2', 'min_samples_leaf': 0.5, 'min_samples_split': 0.05, 'n_estimators': 25, 'subsample': 0.6}\n",
      "0.333 (+/-0.000) for {'criterion': 'friedman_mse', 'learning_rate': 0.3, 'loss': 'exponential', 'max_depth': 5, 'max_features': 'log2', 'min_samples_leaf': 0.5, 'min_samples_split': 0.05, 'n_estimators': 120, 'subsample': 0.6}\n",
      "0.333 (+/-0.000) for {'criterion': 'friedman_mse', 'learning_rate': 0.3, 'loss': 'exponential', 'max_depth': 5, 'max_features': 'log2', 'min_samples_leaf': 0.5, 'min_samples_split': 0.275, 'n_estimators': 25, 'subsample': 0.6}\n",
      "0.333 (+/-0.000) for {'criterion': 'friedman_mse', 'learning_rate': 0.3, 'loss': 'exponential', 'max_depth': 5, 'max_features': 'log2', 'min_samples_leaf': 0.5, 'min_samples_split': 0.275, 'n_estimators': 120, 'subsample': 0.6}\n",
      "0.333 (+/-0.000) for {'criterion': 'friedman_mse', 'learning_rate': 0.3, 'loss': 'exponential', 'max_depth': 5, 'max_features': 'log2', 'min_samples_leaf': 0.5, 'min_samples_split': 0.5, 'n_estimators': 25, 'subsample': 0.6}\n",
      "0.333 (+/-0.000) for {'criterion': 'friedman_mse', 'learning_rate': 0.3, 'loss': 'exponential', 'max_depth': 5, 'max_features': 'log2', 'min_samples_leaf': 0.5, 'min_samples_split': 0.5, 'n_estimators': 120, 'subsample': 0.6}\n",
      "0.743 (+/-0.025) for {'criterion': 'friedman_mse', 'learning_rate': 0.3, 'loss': 'exponential', 'max_depth': 7, 'max_features': 'log2', 'min_samples_leaf': 0.05, 'min_samples_split': 0.05, 'n_estimators': 25, 'subsample': 0.6}\n",
      "0.791 (+/-0.035) for {'criterion': 'friedman_mse', 'learning_rate': 0.3, 'loss': 'exponential', 'max_depth': 7, 'max_features': 'log2', 'min_samples_leaf': 0.05, 'min_samples_split': 0.05, 'n_estimators': 120, 'subsample': 0.6}\n",
      "0.730 (+/-0.039) for {'criterion': 'friedman_mse', 'learning_rate': 0.3, 'loss': 'exponential', 'max_depth': 7, 'max_features': 'log2', 'min_samples_leaf': 0.05, 'min_samples_split': 0.275, 'n_estimators': 25, 'subsample': 0.6}\n",
      "0.760 (+/-0.030) for {'criterion': 'friedman_mse', 'learning_rate': 0.3, 'loss': 'exponential', 'max_depth': 7, 'max_features': 'log2', 'min_samples_leaf': 0.05, 'min_samples_split': 0.275, 'n_estimators': 120, 'subsample': 0.6}\n",
      "0.700 (+/-0.017) for {'criterion': 'friedman_mse', 'learning_rate': 0.3, 'loss': 'exponential', 'max_depth': 7, 'max_features': 'log2', 'min_samples_leaf': 0.05, 'min_samples_split': 0.5, 'n_estimators': 25, 'subsample': 0.6}\n",
      "0.732 (+/-0.021) for {'criterion': 'friedman_mse', 'learning_rate': 0.3, 'loss': 'exponential', 'max_depth': 7, 'max_features': 'log2', 'min_samples_leaf': 0.05, 'min_samples_split': 0.5, 'n_estimators': 120, 'subsample': 0.6}\n",
      "0.699 (+/-0.017) for {'criterion': 'friedman_mse', 'learning_rate': 0.3, 'loss': 'exponential', 'max_depth': 7, 'max_features': 'log2', 'min_samples_leaf': 0.275, 'min_samples_split': 0.05, 'n_estimators': 25, 'subsample': 0.6}\n",
      "0.702 (+/-0.019) for {'criterion': 'friedman_mse', 'learning_rate': 0.3, 'loss': 'exponential', 'max_depth': 7, 'max_features': 'log2', 'min_samples_leaf': 0.275, 'min_samples_split': 0.05, 'n_estimators': 120, 'subsample': 0.6}\n",
      "0.699 (+/-0.018) for {'criterion': 'friedman_mse', 'learning_rate': 0.3, 'loss': 'exponential', 'max_depth': 7, 'max_features': 'log2', 'min_samples_leaf': 0.275, 'min_samples_split': 0.275, 'n_estimators': 25, 'subsample': 0.6}\n",
      "0.702 (+/-0.018) for {'criterion': 'friedman_mse', 'learning_rate': 0.3, 'loss': 'exponential', 'max_depth': 7, 'max_features': 'log2', 'min_samples_leaf': 0.275, 'min_samples_split': 0.275, 'n_estimators': 120, 'subsample': 0.6}\n",
      "0.699 (+/-0.018) for {'criterion': 'friedman_mse', 'learning_rate': 0.3, 'loss': 'exponential', 'max_depth': 7, 'max_features': 'log2', 'min_samples_leaf': 0.275, 'min_samples_split': 0.5, 'n_estimators': 25, 'subsample': 0.6}\n",
      "0.702 (+/-0.019) for {'criterion': 'friedman_mse', 'learning_rate': 0.3, 'loss': 'exponential', 'max_depth': 7, 'max_features': 'log2', 'min_samples_leaf': 0.275, 'min_samples_split': 0.5, 'n_estimators': 120, 'subsample': 0.6}\n",
      "0.333 (+/-0.000) for {'criterion': 'friedman_mse', 'learning_rate': 0.3, 'loss': 'exponential', 'max_depth': 7, 'max_features': 'log2', 'min_samples_leaf': 0.5, 'min_samples_split': 0.05, 'n_estimators': 25, 'subsample': 0.6}\n",
      "0.333 (+/-0.000) for {'criterion': 'friedman_mse', 'learning_rate': 0.3, 'loss': 'exponential', 'max_depth': 7, 'max_features': 'log2', 'min_samples_leaf': 0.5, 'min_samples_split': 0.05, 'n_estimators': 120, 'subsample': 0.6}\n",
      "0.333 (+/-0.000) for {'criterion': 'friedman_mse', 'learning_rate': 0.3, 'loss': 'exponential', 'max_depth': 7, 'max_features': 'log2', 'min_samples_leaf': 0.5, 'min_samples_split': 0.275, 'n_estimators': 25, 'subsample': 0.6}\n",
      "0.333 (+/-0.000) for {'criterion': 'friedman_mse', 'learning_rate': 0.3, 'loss': 'exponential', 'max_depth': 7, 'max_features': 'log2', 'min_samples_leaf': 0.5, 'min_samples_split': 0.275, 'n_estimators': 120, 'subsample': 0.6}\n",
      "0.333 (+/-0.000) for {'criterion': 'friedman_mse', 'learning_rate': 0.3, 'loss': 'exponential', 'max_depth': 7, 'max_features': 'log2', 'min_samples_leaf': 0.5, 'min_samples_split': 0.5, 'n_estimators': 25, 'subsample': 0.6}\n",
      "0.333 (+/-0.000) for {'criterion': 'friedman_mse', 'learning_rate': 0.3, 'loss': 'exponential', 'max_depth': 7, 'max_features': 'log2', 'min_samples_leaf': 0.5, 'min_samples_split': 0.5, 'n_estimators': 120, 'subsample': 0.6}\n",
      "0.744 (+/-0.031) for {'criterion': 'friedman_mse', 'learning_rate': 0.3, 'loss': 'deviance', 'max_depth': 5, 'max_features': 'log2', 'min_samples_leaf': 0.05, 'min_samples_split': 0.05, 'n_estimators': 25, 'subsample': 0.6}\n",
      "0.794 (+/-0.032) for {'criterion': 'friedman_mse', 'learning_rate': 0.3, 'loss': 'deviance', 'max_depth': 5, 'max_features': 'log2', 'min_samples_leaf': 0.05, 'min_samples_split': 0.05, 'n_estimators': 120, 'subsample': 0.6}\n",
      "0.726 (+/-0.028) for {'criterion': 'friedman_mse', 'learning_rate': 0.3, 'loss': 'deviance', 'max_depth': 5, 'max_features': 'log2', 'min_samples_leaf': 0.05, 'min_samples_split': 0.275, 'n_estimators': 25, 'subsample': 0.6}\n",
      "0.767 (+/-0.039) for {'criterion': 'friedman_mse', 'learning_rate': 0.3, 'loss': 'deviance', 'max_depth': 5, 'max_features': 'log2', 'min_samples_leaf': 0.05, 'min_samples_split': 0.275, 'n_estimators': 120, 'subsample': 0.6}\n",
      "0.694 (+/-0.015) for {'criterion': 'friedman_mse', 'learning_rate': 0.3, 'loss': 'deviance', 'max_depth': 5, 'max_features': 'log2', 'min_samples_leaf': 0.05, 'min_samples_split': 0.5, 'n_estimators': 25, 'subsample': 0.6}\n",
      "0.733 (+/-0.028) for {'criterion': 'friedman_mse', 'learning_rate': 0.3, 'loss': 'deviance', 'max_depth': 5, 'max_features': 'log2', 'min_samples_leaf': 0.05, 'min_samples_split': 0.5, 'n_estimators': 120, 'subsample': 0.6}\n",
      "0.699 (+/-0.017) for {'criterion': 'friedman_mse', 'learning_rate': 0.3, 'loss': 'deviance', 'max_depth': 5, 'max_features': 'log2', 'min_samples_leaf': 0.275, 'min_samples_split': 0.05, 'n_estimators': 25, 'subsample': 0.6}\n",
      "0.702 (+/-0.019) for {'criterion': 'friedman_mse', 'learning_rate': 0.3, 'loss': 'deviance', 'max_depth': 5, 'max_features': 'log2', 'min_samples_leaf': 0.275, 'min_samples_split': 0.05, 'n_estimators': 120, 'subsample': 0.6}\n",
      "0.699 (+/-0.017) for {'criterion': 'friedman_mse', 'learning_rate': 0.3, 'loss': 'deviance', 'max_depth': 5, 'max_features': 'log2', 'min_samples_leaf': 0.275, 'min_samples_split': 0.275, 'n_estimators': 25, 'subsample': 0.6}\n",
      "0.702 (+/-0.019) for {'criterion': 'friedman_mse', 'learning_rate': 0.3, 'loss': 'deviance', 'max_depth': 5, 'max_features': 'log2', 'min_samples_leaf': 0.275, 'min_samples_split': 0.275, 'n_estimators': 120, 'subsample': 0.6}\n",
      "0.699 (+/-0.018) for {'criterion': 'friedman_mse', 'learning_rate': 0.3, 'loss': 'deviance', 'max_depth': 5, 'max_features': 'log2', 'min_samples_leaf': 0.275, 'min_samples_split': 0.5, 'n_estimators': 25, 'subsample': 0.6}\n",
      "0.702 (+/-0.019) for {'criterion': 'friedman_mse', 'learning_rate': 0.3, 'loss': 'deviance', 'max_depth': 5, 'max_features': 'log2', 'min_samples_leaf': 0.275, 'min_samples_split': 0.5, 'n_estimators': 120, 'subsample': 0.6}\n",
      "0.333 (+/-0.000) for {'criterion': 'friedman_mse', 'learning_rate': 0.3, 'loss': 'deviance', 'max_depth': 5, 'max_features': 'log2', 'min_samples_leaf': 0.5, 'min_samples_split': 0.05, 'n_estimators': 25, 'subsample': 0.6}\n",
      "0.333 (+/-0.000) for {'criterion': 'friedman_mse', 'learning_rate': 0.3, 'loss': 'deviance', 'max_depth': 5, 'max_features': 'log2', 'min_samples_leaf': 0.5, 'min_samples_split': 0.05, 'n_estimators': 120, 'subsample': 0.6}\n",
      "0.333 (+/-0.000) for {'criterion': 'friedman_mse', 'learning_rate': 0.3, 'loss': 'deviance', 'max_depth': 5, 'max_features': 'log2', 'min_samples_leaf': 0.5, 'min_samples_split': 0.275, 'n_estimators': 25, 'subsample': 0.6}\n",
      "0.333 (+/-0.000) for {'criterion': 'friedman_mse', 'learning_rate': 0.3, 'loss': 'deviance', 'max_depth': 5, 'max_features': 'log2', 'min_samples_leaf': 0.5, 'min_samples_split': 0.275, 'n_estimators': 120, 'subsample': 0.6}\n",
      "0.333 (+/-0.000) for {'criterion': 'friedman_mse', 'learning_rate': 0.3, 'loss': 'deviance', 'max_depth': 5, 'max_features': 'log2', 'min_samples_leaf': 0.5, 'min_samples_split': 0.5, 'n_estimators': 25, 'subsample': 0.6}\n",
      "0.333 (+/-0.000) for {'criterion': 'friedman_mse', 'learning_rate': 0.3, 'loss': 'deviance', 'max_depth': 5, 'max_features': 'log2', 'min_samples_leaf': 0.5, 'min_samples_split': 0.5, 'n_estimators': 120, 'subsample': 0.6}\n",
      "0.750 (+/-0.031) for {'criterion': 'friedman_mse', 'learning_rate': 0.3, 'loss': 'deviance', 'max_depth': 7, 'max_features': 'log2', 'min_samples_leaf': 0.05, 'min_samples_split': 0.05, 'n_estimators': 25, 'subsample': 0.6}\n",
      "0.800 (+/-0.033) for {'criterion': 'friedman_mse', 'learning_rate': 0.3, 'loss': 'deviance', 'max_depth': 7, 'max_features': 'log2', 'min_samples_leaf': 0.05, 'min_samples_split': 0.05, 'n_estimators': 120, 'subsample': 0.6}\n",
      "0.723 (+/-0.021) for {'criterion': 'friedman_mse', 'learning_rate': 0.3, 'loss': 'deviance', 'max_depth': 7, 'max_features': 'log2', 'min_samples_leaf': 0.05, 'min_samples_split': 0.275, 'n_estimators': 25, 'subsample': 0.6}\n",
      "0.768 (+/-0.029) for {'criterion': 'friedman_mse', 'learning_rate': 0.3, 'loss': 'deviance', 'max_depth': 7, 'max_features': 'log2', 'min_samples_leaf': 0.05, 'min_samples_split': 0.275, 'n_estimators': 120, 'subsample': 0.6}\n",
      "0.701 (+/-0.019) for {'criterion': 'friedman_mse', 'learning_rate': 0.3, 'loss': 'deviance', 'max_depth': 7, 'max_features': 'log2', 'min_samples_leaf': 0.05, 'min_samples_split': 0.5, 'n_estimators': 25, 'subsample': 0.6}\n",
      "0.733 (+/-0.027) for {'criterion': 'friedman_mse', 'learning_rate': 0.3, 'loss': 'deviance', 'max_depth': 7, 'max_features': 'log2', 'min_samples_leaf': 0.05, 'min_samples_split': 0.5, 'n_estimators': 120, 'subsample': 0.6}\n",
      "0.700 (+/-0.017) for {'criterion': 'friedman_mse', 'learning_rate': 0.3, 'loss': 'deviance', 'max_depth': 7, 'max_features': 'log2', 'min_samples_leaf': 0.275, 'min_samples_split': 0.05, 'n_estimators': 25, 'subsample': 0.6}\n",
      "0.703 (+/-0.019) for {'criterion': 'friedman_mse', 'learning_rate': 0.3, 'loss': 'deviance', 'max_depth': 7, 'max_features': 'log2', 'min_samples_leaf': 0.275, 'min_samples_split': 0.05, 'n_estimators': 120, 'subsample': 0.6}\n",
      "0.699 (+/-0.019) for {'criterion': 'friedman_mse', 'learning_rate': 0.3, 'loss': 'deviance', 'max_depth': 7, 'max_features': 'log2', 'min_samples_leaf': 0.275, 'min_samples_split': 0.275, 'n_estimators': 25, 'subsample': 0.6}\n",
      "0.702 (+/-0.019) for {'criterion': 'friedman_mse', 'learning_rate': 0.3, 'loss': 'deviance', 'max_depth': 7, 'max_features': 'log2', 'min_samples_leaf': 0.275, 'min_samples_split': 0.275, 'n_estimators': 120, 'subsample': 0.6}\n",
      "0.699 (+/-0.018) for {'criterion': 'friedman_mse', 'learning_rate': 0.3, 'loss': 'deviance', 'max_depth': 7, 'max_features': 'log2', 'min_samples_leaf': 0.275, 'min_samples_split': 0.5, 'n_estimators': 25, 'subsample': 0.6}\n",
      "0.702 (+/-0.019) for {'criterion': 'friedman_mse', 'learning_rate': 0.3, 'loss': 'deviance', 'max_depth': 7, 'max_features': 'log2', 'min_samples_leaf': 0.275, 'min_samples_split': 0.5, 'n_estimators': 120, 'subsample': 0.6}\n",
      "0.333 (+/-0.000) for {'criterion': 'friedman_mse', 'learning_rate': 0.3, 'loss': 'deviance', 'max_depth': 7, 'max_features': 'log2', 'min_samples_leaf': 0.5, 'min_samples_split': 0.05, 'n_estimators': 25, 'subsample': 0.6}\n",
      "0.333 (+/-0.000) for {'criterion': 'friedman_mse', 'learning_rate': 0.3, 'loss': 'deviance', 'max_depth': 7, 'max_features': 'log2', 'min_samples_leaf': 0.5, 'min_samples_split': 0.05, 'n_estimators': 120, 'subsample': 0.6}\n",
      "0.333 (+/-0.000) for {'criterion': 'friedman_mse', 'learning_rate': 0.3, 'loss': 'deviance', 'max_depth': 7, 'max_features': 'log2', 'min_samples_leaf': 0.5, 'min_samples_split': 0.275, 'n_estimators': 25, 'subsample': 0.6}\n",
      "0.333 (+/-0.000) for {'criterion': 'friedman_mse', 'learning_rate': 0.3, 'loss': 'deviance', 'max_depth': 7, 'max_features': 'log2', 'min_samples_leaf': 0.5, 'min_samples_split': 0.275, 'n_estimators': 120, 'subsample': 0.6}\n",
      "0.333 (+/-0.000) for {'criterion': 'friedman_mse', 'learning_rate': 0.3, 'loss': 'deviance', 'max_depth': 7, 'max_features': 'log2', 'min_samples_leaf': 0.5, 'min_samples_split': 0.5, 'n_estimators': 25, 'subsample': 0.6}\n",
      "0.333 (+/-0.000) for {'criterion': 'friedman_mse', 'learning_rate': 0.3, 'loss': 'deviance', 'max_depth': 7, 'max_features': 'log2', 'min_samples_leaf': 0.5, 'min_samples_split': 0.5, 'n_estimators': 120, 'subsample': 0.6}\n",
      "\n",
      "Detailed classification report:\n",
      "\n",
      "The model is trained on the full development set.\n",
      "The scores are computed on the full evaluation set.\n",
      "\n",
      "              precision    recall  f1-score   support\n",
      "\n",
      "           0       0.96      0.79      0.87      1025\n",
      "           1       0.16      0.57      0.24        70\n",
      "\n",
      "   micro avg       0.77      0.77      0.77      1095\n",
      "   macro avg       0.56      0.68      0.56      1095\n",
      "weighted avg       0.91      0.77      0.83      1095\n",
      "\n",
      "\n"
     ]
    }
   ],
   "source": [
    "scores = ['f1']\n",
    "parameters = {\n",
    "    \"loss\":[\"exponential\",\"deviance\"],\n",
    "    \"learning_rate\": [0.25,0.3],\n",
    "    \"min_samples_split\": np.linspace(0.05, 0.5, 3),\n",
    "    \"min_samples_leaf\": np.linspace(0.05, 0.5, 3),\n",
    "    \"max_depth\":[5,7],\n",
    "    \"max_features\":[\"log2\"],\n",
    "    \"criterion\": [\"friedman_mse\"],\n",
    "    \"subsample\":[0.6],\n",
    "    \"n_estimators\":[25,120]\n",
    "    }\n",
    "\n",
    "for score in scores:\n",
    "    print(\"# Tuning hyper-parameters for %s\" % score)\n",
    "    print()\n",
    "\n",
    "    clf = GridSearchCV(GradientBoostingClassifier(), parameters, cv=5,n_jobs=-1,\n",
    "                       scoring='%s_macro' % score)\n",
    "    clf.fit(X_train, y_train)\n",
    "\n",
    "    print(\"Best parameters set found on development set:\")\n",
    "    print()\n",
    "    print(clf.best_params_)\n",
    "    print()\n",
    "    print(\"Grid scores on development set:\")\n",
    "    print()\n",
    "    means = clf.cv_results_['mean_test_score']\n",
    "    stds = clf.cv_results_['std_test_score']\n",
    "    for mean, std, params in zip(means, stds, clf.cv_results_['params']):\n",
    "        print(\"%0.3f (+/-%0.03f) for %r\"\n",
    "              % (mean, std * 2, params))\n",
    "    print()\n",
    "\n",
    "    print(\"Detailed classification report:\")\n",
    "    print()\n",
    "    print(\"The model is trained on the full development set.\")\n",
    "    print(\"The scores are computed on the full evaluation set.\")\n",
    "    print()\n",
    "    y_true, y_pred = y_test, clf.predict(X_test)\n",
    "    print(classification_report(y_true, y_pred))\n",
    "    print()"
   ]
  },
  {
   "cell_type": "code",
   "execution_count": null,
   "metadata": {},
   "outputs": [],
   "source": []
  }
 ],
 "metadata": {
  "kernelspec": {
   "display_name": "Python 3",
   "language": "python",
   "name": "python3"
  },
  "language_info": {
   "codemirror_mode": {
    "name": "ipython",
    "version": 3
   },
   "file_extension": ".py",
   "mimetype": "text/x-python",
   "name": "python",
   "nbconvert_exporter": "python",
   "pygments_lexer": "ipython3",
   "version": "3.6.5"
  }
 },
 "nbformat": 4,
 "nbformat_minor": 2
}
