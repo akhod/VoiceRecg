{
 "cells": [
  {
   "cell_type": "markdown",
   "metadata": {},
   "source": [
    "## In this part, a second modeling using SMOTE oversampling is performed to see if by balancing the training data, we can get better metrics!"
   ]
  },
  {
   "cell_type": "code",
   "execution_count": 1,
   "metadata": {},
   "outputs": [],
   "source": [
    "import numpy as np\n",
    "import matplotlib.pyplot as plt\n",
    "import seaborn as sns\n",
    "import pandas as pd\n",
    "\n",
    "from sklearn.model_selection import train_test_split\n",
    "from sklearn.preprocessing import StandardScaler\n",
    "from sklearn.tree import DecisionTreeClassifier\n",
    "from sklearn.ensemble import RandomForestClassifier\n",
    "from sklearn.ensemble import GradientBoostingClassifier\n",
    "from imblearn.over_sampling import SMOTE\n",
    "\n",
    "from sklearn.model_selection import GridSearchCV\n",
    "\n",
    "from sklearn.metrics import confusion_matrix,recall_score,precision_recall_curve,auc,roc_curve,roc_auc_score,classification_report"
   ]
  },
  {
   "cell_type": "code",
   "execution_count": 2,
   "metadata": {},
   "outputs": [],
   "source": [
    "df=  pd.read_csv('Voices_Cleaned1.csv', index_col=0)"
   ]
  },
  {
   "cell_type": "code",
   "execution_count": 3,
   "metadata": {},
   "outputs": [],
   "source": [
    "df= df.drop(columns=['date','age','user','pronounce'])"
   ]
  },
  {
   "cell_type": "code",
   "execution_count": 4,
   "metadata": {},
   "outputs": [],
   "source": [
    "model_features = ['mean','std','median','first_q', 'third_q', 'inter_q', 'skewness', 'kurtosis','mode','peak']"
   ]
  },
  {
   "cell_type": "code",
   "execution_count": 5,
   "metadata": {},
   "outputs": [],
   "source": [
    "df.sex = df.sex.astype(int)"
   ]
  },
  {
   "cell_type": "code",
   "execution_count": 6,
   "metadata": {},
   "outputs": [],
   "source": [
    "oversample = SMOTE(random_state=23)"
   ]
  },
  {
   "cell_type": "code",
   "execution_count": 7,
   "metadata": {},
   "outputs": [],
   "source": [
    "def data_prepration(x): \n",
    "    x_features= x.loc[:,x.columns != \"sex\"]\n",
    "    x_labels=x.loc[:,x.columns==\"sex\"]\n",
    "    x_features_train,x_features_test,x_labels_train,x_labels_test = train_test_split(x_features,x_labels,test_size=0.2)\n",
    "    print(\"length of training data\")\n",
    "    print(len(x_features_train))\n",
    "    print(\"length of testing data\")\n",
    "    print(len(x_features_test))\n",
    "    return(x_features_train,x_features_test,x_labels_train,x_labels_test)"
   ]
  },
  {
   "cell_type": "code",
   "execution_count": 8,
   "metadata": {},
   "outputs": [
    {
     "name": "stdout",
     "output_type": "stream",
     "text": [
      "length of training data\n",
      "4216\n",
      "length of testing data\n",
      "1055\n"
     ]
    }
   ],
   "source": [
    "data_train_X,data_test_X,data_train_y,data_test_y=data_prepration(df)"
   ]
  },
  {
   "cell_type": "code",
   "execution_count": 9,
   "metadata": {},
   "outputs": [],
   "source": [
    "columns = data_train_X.columns"
   ]
  },
  {
   "cell_type": "code",
   "execution_count": 10,
   "metadata": {},
   "outputs": [
    {
     "name": "stdout",
     "output_type": "stream",
     "text": [
      "length of oversampled data is  7822\n",
      "Number of males in oversampled data 3911\n",
      "No.of females in oversampled data 3911\n"
     ]
    },
    {
     "name": "stderr",
     "output_type": "stream",
     "text": [
      "/anaconda3/lib/python3.6/site-packages/sklearn/utils/validation.py:761: DataConversionWarning: A column-vector y was passed when a 1d array was expected. Please change the shape of y to (n_samples, ), for example using ravel().\n",
      "  y = column_or_1d(y, warn=True)\n"
     ]
    }
   ],
   "source": [
    "os_data_X,os_data_y=oversample.fit_sample(data_train_X,data_train_y)\n",
    "os_data_X = pd.DataFrame(data=os_data_X,columns=columns )\n",
    "os_data_y= pd.DataFrame(data=os_data_y,columns=[\"sex\"])\n",
    "\n",
    "print(\"length of oversampled data is \",len(os_data_X))\n",
    "print(\"Number of males in oversampled data\",len(os_data_y[os_data_y[\"sex\"]==0]))\n",
    "print(\"No.of females in oversampled data\",len(os_data_y[os_data_y[\"sex\"]==1]))"
   ]
  },
  {
   "cell_type": "code",
   "execution_count": 11,
   "metadata": {},
   "outputs": [],
   "source": [
    "scaler = StandardScaler()\n",
    "scaler.fit(df.loc[:,model_features]) \n",
    "X_train = scaler.transform(os_data_X.loc[:,model_features])\n",
    "X_test = scaler.transform(data_test_X.loc[:,model_features])\n",
    "y_train = list(os_data_y['sex'].values)\n",
    "y_test = list(data_test_y['sex'].values)"
   ]
  },
  {
   "cell_type": "code",
   "execution_count": 12,
   "metadata": {},
   "outputs": [
    {
     "name": "stdout",
     "output_type": "stream",
     "text": [
      "Decision Tree Report\n",
      "train score is 1.0\n",
      "test score is 0.8691943127962085\n",
      "Random Forests Report\n",
      "train score is 1.0\n",
      "test score is 0.8890995260663507\n",
      "Gradient Boosting Report\n",
      "train score is 0.9121708003068268\n",
      "test score is 0.8578199052132701\n"
     ]
    }
   ],
   "source": [
    "#Train decision tree model\n",
    "tree = DecisionTreeClassifier(random_state=23).fit(X_train, y_train)\n",
    "print('Decision Tree Report')\n",
    "print('train score is %s' %tree.score(X_train, y_train))\n",
    "print('test score is %s' %tree.score(X_test, y_test))\n",
    "\n",
    "\n",
    "\n",
    "#Train random forest model\n",
    "forest = RandomForestClassifier(n_estimators=100, random_state=23).fit(X_train, y_train)\n",
    "print('Random Forests Report')\n",
    "print('train score is %s' %forest.score(X_train, y_train))\n",
    "print('test score is %s' %forest.score(X_test, y_test))\n",
    "\n",
    "\n",
    "#Train gradient boosting model\n",
    "gb = GradientBoostingClassifier(random_state=23).fit(X_train, y_train)\n",
    "print('Gradient Boosting Report')\n",
    "print('train score is %s' %gb.score(X_train, y_train))\n",
    "print('test score is %s' %gb.score(X_test, y_test))\n"
   ]
  },
  {
   "cell_type": "code",
   "execution_count": 13,
   "metadata": {},
   "outputs": [],
   "source": [
    "def create_report(model,X_train,X_test,y_train,y_test):\n",
    "    clf= model\n",
    "    clf.fit(X_train,y_train)\n",
    "    pred=clf.predict(X_test)\n",
    "    metrics_matrix=confusion_matrix(y_test,pred)\n",
    "    print(\"the accuracy for this model is :\",(metrics_matrix[0,0]+metrics_matrix[1,1])/(metrics_matrix[0,0]+metrics_matrix[0,1]+metrics_matrix[1,0]+metrics_matrix[1,1]))\n",
    "    print(\"the recall for this model is :\",metrics_matrix[1,1]/(metrics_matrix[1,1]+metrics_matrix[1,0]))\n",
    "\n",
    "    fig= plt.figure(figsize=(6,3))\n",
    "    print(\"TP\",metrics_matrix[1,1]) \n",
    "    print(\"TN\",metrics_matrix[0,0]) \n",
    "    print(\"FP\",metrics_matrix[0,1]) \n",
    "    print(\"FN\",metrics_matrix[1,0])\n",
    "    sns.heatmap(metrics_matrix,cmap=\"coolwarm\",annot=True,linewidths=0.5)\n",
    "    plt.title(\"Confusion_matrix\")\n",
    "    plt.xlabel(\"Predicted_Sex\")\n",
    "    plt.ylabel(\"Real_Sex\")\n",
    "    plt.show()\n",
    "    print(\"\\n----------Classification Report----------\")\n",
    "    print(classification_report(y_test,pred))\n"
   ]
  },
  {
   "cell_type": "code",
   "execution_count": 14,
   "metadata": {},
   "outputs": [
    {
     "name": "stdout",
     "output_type": "stream",
     "text": [
      "the accuracy for this model is : 0.8691943127962085\n",
      "the recall for this model is : 0.44871794871794873\n",
      "TP 35\n",
      "TN 882\n",
      "FP 95\n",
      "FN 43\n"
     ]
    },
    {
     "data": {
      "image/png": "[encoded data removed]",
      "text/plain": [
       "<Figure size 432x216 with 2 Axes>"
      ]
     },
     "metadata": {},
     "output_type": "display_data"
    },
    {
     "name": "stdout",
     "output_type": "stream",
     "text": [
      "\n",
      "----------Classification Report----------\n",
      "              precision    recall  f1-score   support\n",
      "\n",
      "           0       0.95      0.90      0.93       977\n",
      "           1       0.27      0.45      0.34        78\n",
      "\n",
      "   micro avg       0.87      0.87      0.87      1055\n",
      "   macro avg       0.61      0.68      0.63      1055\n",
      "weighted avg       0.90      0.87      0.88      1055\n",
      "\n"
     ]
    }
   ],
   "source": [
    "create_report(DecisionTreeClassifier(random_state=23),X_train,X_test,y_train,y_test)"
   ]
  },
  {
   "cell_type": "code",
   "execution_count": 15,
   "metadata": {},
   "outputs": [
    {
     "name": "stdout",
     "output_type": "stream",
     "text": [
      "the accuracy for this model is : 0.8890995260663507\n",
      "the recall for this model is : 0.5128205128205128\n",
      "TP 40\n",
      "TN 898\n",
      "FP 79\n",
      "FN 38\n"
     ]
    },
    {
     "data": {
      "image/png": "[encoded data removed]",
      "text/plain": [
       "<Figure size 432x216 with 2 Axes>"
      ]
     },
     "metadata": {},
     "output_type": "display_data"
    },
    {
     "name": "stdout",
     "output_type": "stream",
     "text": [
      "\n",
      "----------Classification Report----------\n",
      "              precision    recall  f1-score   support\n",
      "\n",
      "           0       0.96      0.92      0.94       977\n",
      "           1       0.34      0.51      0.41        78\n",
      "\n",
      "   micro avg       0.89      0.89      0.89      1055\n",
      "   macro avg       0.65      0.72      0.67      1055\n",
      "weighted avg       0.91      0.89      0.90      1055\n",
      "\n"
     ]
    }
   ],
   "source": [
    "create_report(RandomForestClassifier(n_estimators=100,random_state=23),X_train,X_test,y_train,y_test)"
   ]
  },
  {
   "cell_type": "code",
   "execution_count": 16,
   "metadata": {},
   "outputs": [
    {
     "name": "stdout",
     "output_type": "stream",
     "text": [
      "the accuracy for this model is : 0.8578199052132701\n",
      "the recall for this model is : 0.7435897435897436\n",
      "TP 58\n",
      "TN 847\n",
      "FP 130\n",
      "FN 20\n"
     ]
    },
    {
     "data": {
      "image/png": "[encoded data removed]",
      "text/plain": [
       "<Figure size 432x216 with 2 Axes>"
      ]
     },
     "metadata": {},
     "output_type": "display_data"
    },
    {
     "name": "stdout",
     "output_type": "stream",
     "text": [
      "\n",
      "----------Classification Report----------\n",
      "              precision    recall  f1-score   support\n",
      "\n",
      "           0       0.98      0.87      0.92       977\n",
      "           1       0.31      0.74      0.44        78\n",
      "\n",
      "   micro avg       0.86      0.86      0.86      1055\n",
      "   macro avg       0.64      0.81      0.68      1055\n",
      "weighted avg       0.93      0.86      0.88      1055\n",
      "\n"
     ]
    }
   ],
   "source": [
    "create_report(GradientBoostingClassifier(random_state=23),X_train,X_test,y_train,y_test)"
   ]
  },
  {
   "cell_type": "code",
   "execution_count": 17,
   "metadata": {},
   "outputs": [],
   "source": [
    "def importances_graphs(model):\n",
    "    number_features = len(model_features)\n",
    "    plt.figure(1,figsize=(16,8))\n",
    "    plt.bar(range(number_features), model.feature_importances_, align='center')\n",
    "    plt.xticks(np.arange(number_features), model_features)\n",
    "    plt.ylabel(\"Importance\")\n",
    "    plt.xlabel(\"Feature \")\n",
    "    plt.title(model.__class__.__name__)\n",
    "    plt.show()"
   ]
  },
  {
   "cell_type": "code",
   "execution_count": 18,
   "metadata": {
    "scrolled": false
   },
   "outputs": [
    {
     "data": {
      "image/png": "[encoded data removed]",
      "text/plain": [
       "<Figure size 1152x576 with 1 Axes>"
      ]
     },
     "metadata": {},
     "output_type": "display_data"
    }
   ],
   "source": [
    "importances_graphs(tree)"
   ]
  },
  {
   "cell_type": "code",
   "execution_count": 19,
   "metadata": {
    "scrolled": false
   },
   "outputs": [
    {
     "data": {
      "image/png": "[encoded data removed]",
      "text/plain": [
       "<Figure size 1152x576 with 1 Axes>"
      ]
     },
     "metadata": {},
     "output_type": "display_data"
    }
   ],
   "source": [
    "importances_graphs(forest)"
   ]
  },
  {
   "cell_type": "code",
   "execution_count": 20,
   "metadata": {},
   "outputs": [
    {
     "data": {
      "image/png": "[encoded data removed]",
      "text/plain": [
       "<Figure size 1152x576 with 1 Axes>"
      ]
     },
     "metadata": {},
     "output_type": "display_data"
    }
   ],
   "source": [
    "importances_graphs(gb)"
   ]
  },
  {
   "cell_type": "markdown",
   "metadata": {},
   "source": [
    "## Here I have tried to tune for different important metrics for both Random Forest & Gradiant Boosting models:\n",
    "\n",
    "\n",
    "\n"
   ]
  },
  {
   "cell_type": "markdown",
   "metadata": {},
   "source": [
    "## 1- for random forest model I have first performed a random search and then based on its output created a grid search.\n",
    "\n"
   ]
  },
  {
   "cell_type": "code",
   "execution_count": 34,
   "metadata": {},
   "outputs": [
    {
     "name": "stdout",
     "output_type": "stream",
     "text": [
      "{'n_estimators': [200, 400, 600, 800, 1000, 1200, 1400, 1600, 1800, 2000], 'max_features': ['auto', 'sqrt'], 'max_depth': [10, 20, 30, 40, 50, 60, 70, 80, 90, 100, 110, None], 'min_samples_split': [2, 5, 10], 'min_samples_leaf': [1, 2, 4], 'bootstrap': [True, False]}\n"
     ]
    }
   ],
   "source": [
    "from sklearn.model_selection import RandomizedSearchCV\n",
    "# Number of trees in random forest\n",
    "n_estimators = [int(x) for x in np.linspace(start = 200, stop = 2000, num = 10)]\n",
    "# Number of features to consider at every split\n",
    "max_features = ['auto', 'sqrt']\n",
    "# Maximum number of levels in tree\n",
    "max_depth = [int(x) for x in np.linspace(10, 110, num = 11)]\n",
    "max_depth.append(None)\n",
    "# Minimum number of samples required to split a node\n",
    "min_samples_split = [2, 5, 10]\n",
    "# Minimum number of samples required at each leaf node\n",
    "min_samples_leaf = [1, 2, 4]\n",
    "# Method of selecting samples for training each tree\n",
    "bootstrap = [True, False]\n",
    "# Create the random grid\n",
    "random_grid = {'n_estimators': n_estimators,\n",
    "               'max_features': max_features,\n",
    "               'max_depth': max_depth,\n",
    "               'min_samples_split': min_samples_split,\n",
    "               'min_samples_leaf': min_samples_leaf,\n",
    "               'bootstrap': bootstrap}\n",
    "print(random_grid)"
   ]
  },
  {
   "cell_type": "code",
   "execution_count": 37,
   "metadata": {},
   "outputs": [
    {
     "name": "stdout",
     "output_type": "stream",
     "text": [
      "Fitting 5 folds for each of 100 candidates, totalling 500 fits\n"
     ]
    },
    {
     "name": "stderr",
     "output_type": "stream",
     "text": [
      "[Parallel(n_jobs=-1)]: Using backend LokyBackend with 4 concurrent workers.\n",
      "/anaconda3/lib/python3.6/site-packages/sklearn/externals/joblib/externals/loky/process_executor.py:706: UserWarning: A worker stopped while some jobs were given to the executor. This can be caused by a too short worker timeout or by a memory leak.\n",
      "  \"timeout or by a memory leak.\", UserWarning\n",
      "/anaconda3/lib/python3.6/site-packages/sklearn/externals/joblib/externals/loky/process_executor.py:706: UserWarning: A worker stopped while some jobs were given to the executor. This can be caused by a too short worker timeout or by a memory leak.\n",
      "  \"timeout or by a memory leak.\", UserWarning\n",
      "/anaconda3/lib/python3.6/site-packages/sklearn/externals/joblib/externals/loky/process_executor.py:706: UserWarning: A worker stopped while some jobs were given to the executor. This can be caused by a too short worker timeout or by a memory leak.\n",
      "  \"timeout or by a memory leak.\", UserWarning\n",
      "/anaconda3/lib/python3.6/site-packages/sklearn/externals/joblib/externals/loky/process_executor.py:706: UserWarning: A worker stopped while some jobs were given to the executor. This can be caused by a too short worker timeout or by a memory leak.\n",
      "  \"timeout or by a memory leak.\", UserWarning\n",
      "[Parallel(n_jobs=-1)]: Done  33 tasks      | elapsed:  3.2min\n",
      "/anaconda3/lib/python3.6/site-packages/sklearn/externals/joblib/externals/loky/process_executor.py:706: UserWarning: A worker stopped while some jobs were given to the executor. This can be caused by a too short worker timeout or by a memory leak.\n",
      "  \"timeout or by a memory leak.\", UserWarning\n",
      "[Parallel(n_jobs=-1)]: Done 154 tasks      | elapsed: 12.2min\n",
      "[Parallel(n_jobs=-1)]: Done 357 tasks      | elapsed: 27.2min\n",
      "[Parallel(n_jobs=-1)]: Done 500 out of 500 | elapsed: 39.2min finished\n"
     ]
    },
    {
     "data": {
      "text/plain": [
       "RandomizedSearchCV(cv=5, error_score='raise-deprecating',\n",
       "          estimator=RandomForestClassifier(bootstrap=True, class_weight=None, criterion='gini',\n",
       "            max_depth=None, max_features='auto', max_leaf_nodes=None,\n",
       "            min_impurity_decrease=0.0, min_impurity_split=None,\n",
       "            min_samples_leaf=1, min_samples_split=2,\n",
       "            min_weight_fraction_leaf=0.0, n_estimators='warn', n_jobs=None,\n",
       "            oob_score=False, random_state=None, verbose=0,\n",
       "            warm_start=False),\n",
       "          fit_params=None, iid='warn', n_iter=100, n_jobs=-1,\n",
       "          param_distributions={'n_estimators': [200, 400, 600, 800, 1000, 1200, 1400, 1600, 1800, 2000], 'max_features': ['auto', 'sqrt'], 'max_depth': [10, 20, 30, 40, 50, 60, 70, 80, 90, 100, 110, None], 'min_samples_split': [2, 5, 10], 'min_samples_leaf': [1, 2, 4], 'bootstrap': [True, False]},\n",
       "          pre_dispatch='2*n_jobs', random_state=23, refit=True,\n",
       "          return_train_score='warn', scoring=None, verbose=2)"
      ]
     },
     "execution_count": 37,
     "metadata": {},
     "output_type": "execute_result"
    }
   ],
   "source": [
    "rf= RandomForestClassifier()\n",
    "rf_random = RandomizedSearchCV(estimator = rf, param_distributions = random_grid, n_iter = 100, cv = 5, verbose=2, random_state=23, n_jobs = -1)\n",
    "# Fit the random search model\n",
    "rf_random.fit(X_train, y_train)"
   ]
  },
  {
   "cell_type": "code",
   "execution_count": 38,
   "metadata": {},
   "outputs": [
    {
     "data": {
      "text/plain": [
       "{'n_estimators': 200,\n",
       " 'min_samples_split': 2,\n",
       " 'min_samples_leaf': 1,\n",
       " 'max_features': 'sqrt',\n",
       " 'max_depth': 110,\n",
       " 'bootstrap': False}"
      ]
     },
     "execution_count": 38,
     "metadata": {},
     "output_type": "execute_result"
    }
   ],
   "source": [
    "rf_random.best_params_"
   ]
  },
  {
   "cell_type": "code",
   "execution_count": 43,
   "metadata": {},
   "outputs": [
    {
     "name": "stdout",
     "output_type": "stream",
     "text": [
      "# Tuning hyper-parameters for precision\n",
      "\n",
      "Best parameters set found on development set:\n",
      "\n",
      "{'bootstrap': False, 'max_depth': 100, 'max_features': 'sqrt', 'min_samples_leaf': 1, 'min_samples_split': 2, 'n_estimators': 200, 'random_state': 23}\n",
      "\n",
      "Grid scores on development set:\n",
      "\n",
      "0.951 (+/-0.022) for {'bootstrap': False, 'max_depth': 100, 'max_features': 'sqrt', 'min_samples_leaf': 1, 'min_samples_split': 2, 'n_estimators': 200, 'random_state': 23}\n",
      "0.951 (+/-0.024) for {'bootstrap': False, 'max_depth': 100, 'max_features': 'sqrt', 'min_samples_leaf': 1, 'min_samples_split': 2, 'n_estimators': 210, 'random_state': 23}\n",
      "0.950 (+/-0.023) for {'bootstrap': False, 'max_depth': 100, 'max_features': 'sqrt', 'min_samples_leaf': 1, 'min_samples_split': 3, 'n_estimators': 200, 'random_state': 23}\n",
      "0.950 (+/-0.022) for {'bootstrap': False, 'max_depth': 100, 'max_features': 'sqrt', 'min_samples_leaf': 1, 'min_samples_split': 3, 'n_estimators': 210, 'random_state': 23}\n",
      "0.948 (+/-0.018) for {'bootstrap': False, 'max_depth': 100, 'max_features': 'sqrt', 'min_samples_leaf': 2, 'min_samples_split': 2, 'n_estimators': 200, 'random_state': 23}\n",
      "0.948 (+/-0.019) for {'bootstrap': False, 'max_depth': 100, 'max_features': 'sqrt', 'min_samples_leaf': 2, 'min_samples_split': 2, 'n_estimators': 210, 'random_state': 23}\n",
      "0.948 (+/-0.018) for {'bootstrap': False, 'max_depth': 100, 'max_features': 'sqrt', 'min_samples_leaf': 2, 'min_samples_split': 3, 'n_estimators': 200, 'random_state': 23}\n",
      "0.948 (+/-0.019) for {'bootstrap': False, 'max_depth': 100, 'max_features': 'sqrt', 'min_samples_leaf': 2, 'min_samples_split': 3, 'n_estimators': 210, 'random_state': 23}\n",
      "0.951 (+/-0.022) for {'bootstrap': False, 'max_depth': 110, 'max_features': 'sqrt', 'min_samples_leaf': 1, 'min_samples_split': 2, 'n_estimators': 200, 'random_state': 23}\n",
      "0.951 (+/-0.024) for {'bootstrap': False, 'max_depth': 110, 'max_features': 'sqrt', 'min_samples_leaf': 1, 'min_samples_split': 2, 'n_estimators': 210, 'random_state': 23}\n",
      "0.950 (+/-0.023) for {'bootstrap': False, 'max_depth': 110, 'max_features': 'sqrt', 'min_samples_leaf': 1, 'min_samples_split': 3, 'n_estimators': 200, 'random_state': 23}\n",
      "0.950 (+/-0.022) for {'bootstrap': False, 'max_depth': 110, 'max_features': 'sqrt', 'min_samples_leaf': 1, 'min_samples_split': 3, 'n_estimators': 210, 'random_state': 23}\n",
      "0.948 (+/-0.018) for {'bootstrap': False, 'max_depth': 110, 'max_features': 'sqrt', 'min_samples_leaf': 2, 'min_samples_split': 2, 'n_estimators': 200, 'random_state': 23}\n",
      "0.948 (+/-0.019) for {'bootstrap': False, 'max_depth': 110, 'max_features': 'sqrt', 'min_samples_leaf': 2, 'min_samples_split': 2, 'n_estimators': 210, 'random_state': 23}\n",
      "0.948 (+/-0.018) for {'bootstrap': False, 'max_depth': 110, 'max_features': 'sqrt', 'min_samples_leaf': 2, 'min_samples_split': 3, 'n_estimators': 200, 'random_state': 23}\n",
      "0.948 (+/-0.019) for {'bootstrap': False, 'max_depth': 110, 'max_features': 'sqrt', 'min_samples_leaf': 2, 'min_samples_split': 3, 'n_estimators': 210, 'random_state': 23}\n",
      "\n",
      "Detailed classification report:\n",
      "\n",
      "The model is trained on the full development set.\n",
      "The scores are computed on the full evaluation set.\n",
      "\n",
      "              precision    recall  f1-score   support\n",
      "\n",
      "           0       0.96      0.93      0.95       977\n",
      "           1       0.36      0.47      0.41        78\n",
      "\n",
      "   micro avg       0.90      0.90      0.90      1055\n",
      "   macro avg       0.66      0.70      0.68      1055\n",
      "weighted avg       0.91      0.90      0.91      1055\n",
      "\n",
      "\n",
      "# Tuning hyper-parameters for recall\n",
      "\n",
      "Best parameters set found on development set:\n",
      "\n",
      "{'bootstrap': False, 'max_depth': 100, 'max_features': 'sqrt', 'min_samples_leaf': 1, 'min_samples_split': 2, 'n_estimators': 200, 'random_state': 23}\n",
      "\n",
      "Grid scores on development set:\n",
      "\n",
      "0.951 (+/-0.022) for {'bootstrap': False, 'max_depth': 100, 'max_features': 'sqrt', 'min_samples_leaf': 1, 'min_samples_split': 2, 'n_estimators': 200, 'random_state': 23}\n",
      "0.950 (+/-0.024) for {'bootstrap': False, 'max_depth': 100, 'max_features': 'sqrt', 'min_samples_leaf': 1, 'min_samples_split': 2, 'n_estimators': 210, 'random_state': 23}\n",
      "0.949 (+/-0.023) for {'bootstrap': False, 'max_depth': 100, 'max_features': 'sqrt', 'min_samples_leaf': 1, 'min_samples_split': 3, 'n_estimators': 200, 'random_state': 23}\n",
      "0.950 (+/-0.022) for {'bootstrap': False, 'max_depth': 100, 'max_features': 'sqrt', 'min_samples_leaf': 1, 'min_samples_split': 3, 'n_estimators': 210, 'random_state': 23}\n",
      "0.947 (+/-0.018) for {'bootstrap': False, 'max_depth': 100, 'max_features': 'sqrt', 'min_samples_leaf': 2, 'min_samples_split': 2, 'n_estimators': 200, 'random_state': 23}\n",
      "0.948 (+/-0.019) for {'bootstrap': False, 'max_depth': 100, 'max_features': 'sqrt', 'min_samples_leaf': 2, 'min_samples_split': 2, 'n_estimators': 210, 'random_state': 23}\n",
      "0.947 (+/-0.018) for {'bootstrap': False, 'max_depth': 100, 'max_features': 'sqrt', 'min_samples_leaf': 2, 'min_samples_split': 3, 'n_estimators': 200, 'random_state': 23}\n",
      "0.948 (+/-0.019) for {'bootstrap': False, 'max_depth': 100, 'max_features': 'sqrt', 'min_samples_leaf': 2, 'min_samples_split': 3, 'n_estimators': 210, 'random_state': 23}\n",
      "0.951 (+/-0.022) for {'bootstrap': False, 'max_depth': 110, 'max_features': 'sqrt', 'min_samples_leaf': 1, 'min_samples_split': 2, 'n_estimators': 200, 'random_state': 23}\n",
      "0.950 (+/-0.024) for {'bootstrap': False, 'max_depth': 110, 'max_features': 'sqrt', 'min_samples_leaf': 1, 'min_samples_split': 2, 'n_estimators': 210, 'random_state': 23}\n",
      "0.949 (+/-0.023) for {'bootstrap': False, 'max_depth': 110, 'max_features': 'sqrt', 'min_samples_leaf': 1, 'min_samples_split': 3, 'n_estimators': 200, 'random_state': 23}\n",
      "0.950 (+/-0.022) for {'bootstrap': False, 'max_depth': 110, 'max_features': 'sqrt', 'min_samples_leaf': 1, 'min_samples_split': 3, 'n_estimators': 210, 'random_state': 23}\n",
      "0.947 (+/-0.018) for {'bootstrap': False, 'max_depth': 110, 'max_features': 'sqrt', 'min_samples_leaf': 2, 'min_samples_split': 2, 'n_estimators': 200, 'random_state': 23}\n",
      "0.948 (+/-0.019) for {'bootstrap': False, 'max_depth': 110, 'max_features': 'sqrt', 'min_samples_leaf': 2, 'min_samples_split': 2, 'n_estimators': 210, 'random_state': 23}\n",
      "0.947 (+/-0.018) for {'bootstrap': False, 'max_depth': 110, 'max_features': 'sqrt', 'min_samples_leaf': 2, 'min_samples_split': 3, 'n_estimators': 200, 'random_state': 23}\n",
      "0.948 (+/-0.019) for {'bootstrap': False, 'max_depth': 110, 'max_features': 'sqrt', 'min_samples_leaf': 2, 'min_samples_split': 3, 'n_estimators': 210, 'random_state': 23}\n",
      "\n",
      "Detailed classification report:\n",
      "\n",
      "The model is trained on the full development set.\n",
      "The scores are computed on the full evaluation set.\n",
      "\n",
      "              precision    recall  f1-score   support\n",
      "\n",
      "           0       0.96      0.93      0.95       977\n",
      "           1       0.36      0.47      0.41        78\n",
      "\n",
      "   micro avg       0.90      0.90      0.90      1055\n",
      "   macro avg       0.66      0.70      0.68      1055\n",
      "weighted avg       0.91      0.90      0.91      1055\n",
      "\n",
      "\n",
      "# Tuning hyper-parameters for f1\n",
      "\n",
      "Best parameters set found on development set:\n",
      "\n",
      "{'bootstrap': False, 'max_depth': 100, 'max_features': 'sqrt', 'min_samples_leaf': 1, 'min_samples_split': 2, 'n_estimators': 200, 'random_state': 23}\n",
      "\n",
      "Grid scores on development set:\n",
      "\n",
      "0.951 (+/-0.022) for {'bootstrap': False, 'max_depth': 100, 'max_features': 'sqrt', 'min_samples_leaf': 1, 'min_samples_split': 2, 'n_estimators': 200, 'random_state': 23}\n",
      "0.950 (+/-0.024) for {'bootstrap': False, 'max_depth': 100, 'max_features': 'sqrt', 'min_samples_leaf': 1, 'min_samples_split': 2, 'n_estimators': 210, 'random_state': 23}\n",
      "0.949 (+/-0.023) for {'bootstrap': False, 'max_depth': 100, 'max_features': 'sqrt', 'min_samples_leaf': 1, 'min_samples_split': 3, 'n_estimators': 200, 'random_state': 23}\n",
      "0.950 (+/-0.022) for {'bootstrap': False, 'max_depth': 100, 'max_features': 'sqrt', 'min_samples_leaf': 1, 'min_samples_split': 3, 'n_estimators': 210, 'random_state': 23}\n",
      "0.947 (+/-0.018) for {'bootstrap': False, 'max_depth': 100, 'max_features': 'sqrt', 'min_samples_leaf': 2, 'min_samples_split': 2, 'n_estimators': 200, 'random_state': 23}\n",
      "0.948 (+/-0.019) for {'bootstrap': False, 'max_depth': 100, 'max_features': 'sqrt', 'min_samples_leaf': 2, 'min_samples_split': 2, 'n_estimators': 210, 'random_state': 23}\n",
      "0.947 (+/-0.018) for {'bootstrap': False, 'max_depth': 100, 'max_features': 'sqrt', 'min_samples_leaf': 2, 'min_samples_split': 3, 'n_estimators': 200, 'random_state': 23}\n",
      "0.948 (+/-0.019) for {'bootstrap': False, 'max_depth': 100, 'max_features': 'sqrt', 'min_samples_leaf': 2, 'min_samples_split': 3, 'n_estimators': 210, 'random_state': 23}\n",
      "0.951 (+/-0.022) for {'bootstrap': False, 'max_depth': 110, 'max_features': 'sqrt', 'min_samples_leaf': 1, 'min_samples_split': 2, 'n_estimators': 200, 'random_state': 23}\n",
      "0.950 (+/-0.024) for {'bootstrap': False, 'max_depth': 110, 'max_features': 'sqrt', 'min_samples_leaf': 1, 'min_samples_split': 2, 'n_estimators': 210, 'random_state': 23}\n",
      "0.949 (+/-0.023) for {'bootstrap': False, 'max_depth': 110, 'max_features': 'sqrt', 'min_samples_leaf': 1, 'min_samples_split': 3, 'n_estimators': 200, 'random_state': 23}\n",
      "0.950 (+/-0.022) for {'bootstrap': False, 'max_depth': 110, 'max_features': 'sqrt', 'min_samples_leaf': 1, 'min_samples_split': 3, 'n_estimators': 210, 'random_state': 23}\n",
      "0.947 (+/-0.018) for {'bootstrap': False, 'max_depth': 110, 'max_features': 'sqrt', 'min_samples_leaf': 2, 'min_samples_split': 2, 'n_estimators': 200, 'random_state': 23}\n",
      "0.948 (+/-0.019) for {'bootstrap': False, 'max_depth': 110, 'max_features': 'sqrt', 'min_samples_leaf': 2, 'min_samples_split': 2, 'n_estimators': 210, 'random_state': 23}\n",
      "0.947 (+/-0.018) for {'bootstrap': False, 'max_depth': 110, 'max_features': 'sqrt', 'min_samples_leaf': 2, 'min_samples_split': 3, 'n_estimators': 200, 'random_state': 23}\n",
      "0.948 (+/-0.019) for {'bootstrap': False, 'max_depth': 110, 'max_features': 'sqrt', 'min_samples_leaf': 2, 'min_samples_split': 3, 'n_estimators': 210, 'random_state': 23}\n",
      "\n",
      "Detailed classification report:\n",
      "\n",
      "The model is trained on the full development set.\n",
      "The scores are computed on the full evaluation set.\n",
      "\n",
      "              precision    recall  f1-score   support\n",
      "\n",
      "           0       0.96      0.93      0.95       977\n",
      "           1       0.36      0.47      0.41        78\n",
      "\n",
      "   micro avg       0.90      0.90      0.90      1055\n",
      "   macro avg       0.66      0.70      0.68      1055\n",
      "weighted avg       0.91      0.90      0.91      1055\n",
      "\n",
      "\n"
     ]
    }
   ],
   "source": [
    "scores = ['precision','recall','f1']\n",
    "parameters = {\n",
    "    'bootstrap': [False],\n",
    "    'max_depth': [ 100,110],\n",
    "    'max_features': ['sqrt'],\n",
    "    'min_samples_leaf': [1,2],\n",
    "    'min_samples_split': [2, 3],\n",
    "    'n_estimators': [200,210],\n",
    "    'random_state':[23]\n",
    "}\n",
    "\n",
    "for score in scores:\n",
    "    print(\"# Tuning hyper-parameters for %s\" % score)\n",
    "    print()\n",
    "\n",
    "    clf = GridSearchCV(RandomForestClassifier(), parameters, cv=5,n_jobs=-1,\n",
    "                       scoring='%s_macro' % score)\n",
    "    clf.fit(X_train, y_train)\n",
    "\n",
    "    print(\"Best parameters set found on development set:\")\n",
    "    print()\n",
    "    print(clf.best_params_)\n",
    "    print()\n",
    "    print(\"Grid scores on development set:\")\n",
    "    print()\n",
    "    means = clf.cv_results_['mean_test_score']\n",
    "    stds = clf.cv_results_['std_test_score']\n",
    "    for mean, std, params in zip(means, stds, clf.cv_results_['params']):\n",
    "        print(\"%0.3f (+/-%0.03f) for %r\"\n",
    "              % (mean, std * 2, params))\n",
    "    print()\n",
    "\n",
    "    print(\"Detailed classification report:\")\n",
    "    print()\n",
    "    print(\"The model is trained on the full development set.\")\n",
    "    print(\"The scores are computed on the full evaluation set.\")\n",
    "    print()\n",
    "    y_true, y_pred = y_test, clf.predict(X_test)\n",
    "    print(classification_report(y_true, y_pred))\n",
    "    print()"
   ]
  },
  {
   "cell_type": "markdown",
   "metadata": {},
   "source": [
    "# --------------------------------------------------------------------------------------------"
   ]
  },
  {
   "cell_type": "markdown",
   "metadata": {},
   "source": [
    "## 2- A try to see if it is possible to reach better parameters for GB model! This is not well performed due to time limitation at this step, I just have done a simple grid search with a guess ed set of starting parameters!"
   ]
  },
  {
   "cell_type": "code",
   "execution_count": 44,
   "metadata": {},
   "outputs": [
    {
     "name": "stdout",
     "output_type": "stream",
     "text": [
      "# Tuning hyper-parameters for precision\n",
      "\n",
      "Best parameters set found on development set:\n",
      "\n",
      "{'criterion': 'friedman_mse', 'learning_rate': 0.4, 'loss': 'exponential', 'max_depth': 11, 'max_features': 'log2', 'min_samples_leaf': 0.01, 'min_samples_split': 0.01, 'n_estimators': 110, 'random_state': 23, 'subsample': 0.6}\n",
      "\n",
      "Grid scores on development set:\n",
      "\n",
      "0.935 (+/-0.025) for {'criterion': 'friedman_mse', 'learning_rate': 0.4, 'loss': 'exponential', 'max_depth': 9, 'max_features': 'log2', 'min_samples_leaf': 0.01, 'min_samples_split': 0.01, 'n_estimators': 90, 'random_state': 23, 'subsample': 0.4}\n",
      "0.943 (+/-0.028) for {'criterion': 'friedman_mse', 'learning_rate': 0.4, 'loss': 'exponential', 'max_depth': 9, 'max_features': 'log2', 'min_samples_leaf': 0.01, 'min_samples_split': 0.01, 'n_estimators': 90, 'random_state': 23, 'subsample': 0.6}\n",
      "0.937 (+/-0.024) for {'criterion': 'friedman_mse', 'learning_rate': 0.4, 'loss': 'exponential', 'max_depth': 9, 'max_features': 'log2', 'min_samples_leaf': 0.01, 'min_samples_split': 0.01, 'n_estimators': 110, 'random_state': 23, 'subsample': 0.4}\n",
      "0.944 (+/-0.025) for {'criterion': 'friedman_mse', 'learning_rate': 0.4, 'loss': 'exponential', 'max_depth': 9, 'max_features': 'log2', 'min_samples_leaf': 0.01, 'min_samples_split': 0.01, 'n_estimators': 110, 'random_state': 23, 'subsample': 0.6}\n",
      "0.896 (+/-0.019) for {'criterion': 'friedman_mse', 'learning_rate': 0.4, 'loss': 'exponential', 'max_depth': 9, 'max_features': 'log2', 'min_samples_leaf': 0.01, 'min_samples_split': 0.2, 'n_estimators': 90, 'random_state': 23, 'subsample': 0.4}\n",
      "0.917 (+/-0.028) for {'criterion': 'friedman_mse', 'learning_rate': 0.4, 'loss': 'exponential', 'max_depth': 9, 'max_features': 'log2', 'min_samples_leaf': 0.01, 'min_samples_split': 0.2, 'n_estimators': 90, 'random_state': 23, 'subsample': 0.6}\n",
      "0.902 (+/-0.023) for {'criterion': 'friedman_mse', 'learning_rate': 0.4, 'loss': 'exponential', 'max_depth': 9, 'max_features': 'log2', 'min_samples_leaf': 0.01, 'min_samples_split': 0.2, 'n_estimators': 110, 'random_state': 23, 'subsample': 0.4}\n",
      "0.921 (+/-0.024) for {'criterion': 'friedman_mse', 'learning_rate': 0.4, 'loss': 'exponential', 'max_depth': 9, 'max_features': 'log2', 'min_samples_leaf': 0.01, 'min_samples_split': 0.2, 'n_estimators': 110, 'random_state': 23, 'subsample': 0.6}\n",
      "0.250 (+/-0.000) for {'criterion': 'friedman_mse', 'learning_rate': 0.4, 'loss': 'exponential', 'max_depth': 9, 'max_features': 'log2', 'min_samples_leaf': 0.2, 'min_samples_split': 0.01, 'n_estimators': 90, 'random_state': 23, 'subsample': 0.4}\n",
      "0.784 (+/-0.023) for {'criterion': 'friedman_mse', 'learning_rate': 0.4, 'loss': 'exponential', 'max_depth': 9, 'max_features': 'log2', 'min_samples_leaf': 0.2, 'min_samples_split': 0.01, 'n_estimators': 90, 'random_state': 23, 'subsample': 0.6}\n",
      "0.250 (+/-0.000) for {'criterion': 'friedman_mse', 'learning_rate': 0.4, 'loss': 'exponential', 'max_depth': 9, 'max_features': 'log2', 'min_samples_leaf': 0.2, 'min_samples_split': 0.01, 'n_estimators': 110, 'random_state': 23, 'subsample': 0.4}\n",
      "0.787 (+/-0.029) for {'criterion': 'friedman_mse', 'learning_rate': 0.4, 'loss': 'exponential', 'max_depth': 9, 'max_features': 'log2', 'min_samples_leaf': 0.2, 'min_samples_split': 0.01, 'n_estimators': 110, 'random_state': 23, 'subsample': 0.6}\n",
      "0.250 (+/-0.000) for {'criterion': 'friedman_mse', 'learning_rate': 0.4, 'loss': 'exponential', 'max_depth': 9, 'max_features': 'log2', 'min_samples_leaf': 0.2, 'min_samples_split': 0.2, 'n_estimators': 90, 'random_state': 23, 'subsample': 0.4}\n",
      "0.784 (+/-0.023) for {'criterion': 'friedman_mse', 'learning_rate': 0.4, 'loss': 'exponential', 'max_depth': 9, 'max_features': 'log2', 'min_samples_leaf': 0.2, 'min_samples_split': 0.2, 'n_estimators': 90, 'random_state': 23, 'subsample': 0.6}\n",
      "0.250 (+/-0.000) for {'criterion': 'friedman_mse', 'learning_rate': 0.4, 'loss': 'exponential', 'max_depth': 9, 'max_features': 'log2', 'min_samples_leaf': 0.2, 'min_samples_split': 0.2, 'n_estimators': 110, 'random_state': 23, 'subsample': 0.4}\n",
      "0.787 (+/-0.029) for {'criterion': 'friedman_mse', 'learning_rate': 0.4, 'loss': 'exponential', 'max_depth': 9, 'max_features': 'log2', 'min_samples_leaf': 0.2, 'min_samples_split': 0.2, 'n_estimators': 110, 'random_state': 23, 'subsample': 0.6}\n",
      "0.936 (+/-0.025) for {'criterion': 'friedman_mse', 'learning_rate': 0.4, 'loss': 'exponential', 'max_depth': 11, 'max_features': 'log2', 'min_samples_leaf': 0.01, 'min_samples_split': 0.01, 'n_estimators': 90, 'random_state': 23, 'subsample': 0.4}\n",
      "0.944 (+/-0.030) for {'criterion': 'friedman_mse', 'learning_rate': 0.4, 'loss': 'exponential', 'max_depth': 11, 'max_features': 'log2', 'min_samples_leaf': 0.01, 'min_samples_split': 0.01, 'n_estimators': 90, 'random_state': 23, 'subsample': 0.6}\n",
      "0.935 (+/-0.031) for {'criterion': 'friedman_mse', 'learning_rate': 0.4, 'loss': 'exponential', 'max_depth': 11, 'max_features': 'log2', 'min_samples_leaf': 0.01, 'min_samples_split': 0.01, 'n_estimators': 110, 'random_state': 23, 'subsample': 0.4}\n",
      "0.946 (+/-0.033) for {'criterion': 'friedman_mse', 'learning_rate': 0.4, 'loss': 'exponential', 'max_depth': 11, 'max_features': 'log2', 'min_samples_leaf': 0.01, 'min_samples_split': 0.01, 'n_estimators': 110, 'random_state': 23, 'subsample': 0.6}\n",
      "0.897 (+/-0.020) for {'criterion': 'friedman_mse', 'learning_rate': 0.4, 'loss': 'exponential', 'max_depth': 11, 'max_features': 'log2', 'min_samples_leaf': 0.01, 'min_samples_split': 0.2, 'n_estimators': 90, 'random_state': 23, 'subsample': 0.4}\n",
      "0.916 (+/-0.027) for {'criterion': 'friedman_mse', 'learning_rate': 0.4, 'loss': 'exponential', 'max_depth': 11, 'max_features': 'log2', 'min_samples_leaf': 0.01, 'min_samples_split': 0.2, 'n_estimators': 90, 'random_state': 23, 'subsample': 0.6}\n",
      "0.903 (+/-0.022) for {'criterion': 'friedman_mse', 'learning_rate': 0.4, 'loss': 'exponential', 'max_depth': 11, 'max_features': 'log2', 'min_samples_leaf': 0.01, 'min_samples_split': 0.2, 'n_estimators': 110, 'random_state': 23, 'subsample': 0.4}\n",
      "0.921 (+/-0.028) for {'criterion': 'friedman_mse', 'learning_rate': 0.4, 'loss': 'exponential', 'max_depth': 11, 'max_features': 'log2', 'min_samples_leaf': 0.01, 'min_samples_split': 0.2, 'n_estimators': 110, 'random_state': 23, 'subsample': 0.6}\n",
      "0.250 (+/-0.000) for {'criterion': 'friedman_mse', 'learning_rate': 0.4, 'loss': 'exponential', 'max_depth': 11, 'max_features': 'log2', 'min_samples_leaf': 0.2, 'min_samples_split': 0.01, 'n_estimators': 90, 'random_state': 23, 'subsample': 0.4}\n",
      "0.784 (+/-0.023) for {'criterion': 'friedman_mse', 'learning_rate': 0.4, 'loss': 'exponential', 'max_depth': 11, 'max_features': 'log2', 'min_samples_leaf': 0.2, 'min_samples_split': 0.01, 'n_estimators': 90, 'random_state': 23, 'subsample': 0.6}\n",
      "0.250 (+/-0.000) for {'criterion': 'friedman_mse', 'learning_rate': 0.4, 'loss': 'exponential', 'max_depth': 11, 'max_features': 'log2', 'min_samples_leaf': 0.2, 'min_samples_split': 0.01, 'n_estimators': 110, 'random_state': 23, 'subsample': 0.4}\n",
      "0.787 (+/-0.029) for {'criterion': 'friedman_mse', 'learning_rate': 0.4, 'loss': 'exponential', 'max_depth': 11, 'max_features': 'log2', 'min_samples_leaf': 0.2, 'min_samples_split': 0.01, 'n_estimators': 110, 'random_state': 23, 'subsample': 0.6}\n",
      "0.250 (+/-0.000) for {'criterion': 'friedman_mse', 'learning_rate': 0.4, 'loss': 'exponential', 'max_depth': 11, 'max_features': 'log2', 'min_samples_leaf': 0.2, 'min_samples_split': 0.2, 'n_estimators': 90, 'random_state': 23, 'subsample': 0.4}\n",
      "0.784 (+/-0.023) for {'criterion': 'friedman_mse', 'learning_rate': 0.4, 'loss': 'exponential', 'max_depth': 11, 'max_features': 'log2', 'min_samples_leaf': 0.2, 'min_samples_split': 0.2, 'n_estimators': 90, 'random_state': 23, 'subsample': 0.6}\n",
      "0.250 (+/-0.000) for {'criterion': 'friedman_mse', 'learning_rate': 0.4, 'loss': 'exponential', 'max_depth': 11, 'max_features': 'log2', 'min_samples_leaf': 0.2, 'min_samples_split': 0.2, 'n_estimators': 110, 'random_state': 23, 'subsample': 0.4}\n",
      "0.787 (+/-0.029) for {'criterion': 'friedman_mse', 'learning_rate': 0.4, 'loss': 'exponential', 'max_depth': 11, 'max_features': 'log2', 'min_samples_leaf': 0.2, 'min_samples_split': 0.2, 'n_estimators': 110, 'random_state': 23, 'subsample': 0.6}\n",
      "0.935 (+/-0.025) for {'criterion': 'friedman_mse', 'learning_rate': 0.4, 'loss': 'deviance', 'max_depth': 9, 'max_features': 'log2', 'min_samples_leaf': 0.01, 'min_samples_split': 0.01, 'n_estimators': 90, 'random_state': 23, 'subsample': 0.4}\n",
      "0.944 (+/-0.029) for {'criterion': 'friedman_mse', 'learning_rate': 0.4, 'loss': 'deviance', 'max_depth': 9, 'max_features': 'log2', 'min_samples_leaf': 0.01, 'min_samples_split': 0.01, 'n_estimators': 90, 'random_state': 23, 'subsample': 0.6}\n",
      "0.935 (+/-0.021) for {'criterion': 'friedman_mse', 'learning_rate': 0.4, 'loss': 'deviance', 'max_depth': 9, 'max_features': 'log2', 'min_samples_leaf': 0.01, 'min_samples_split': 0.01, 'n_estimators': 110, 'random_state': 23, 'subsample': 0.4}\n",
      "0.945 (+/-0.031) for {'criterion': 'friedman_mse', 'learning_rate': 0.4, 'loss': 'deviance', 'max_depth': 9, 'max_features': 'log2', 'min_samples_leaf': 0.01, 'min_samples_split': 0.01, 'n_estimators': 110, 'random_state': 23, 'subsample': 0.6}\n",
      "0.902 (+/-0.024) for {'criterion': 'friedman_mse', 'learning_rate': 0.4, 'loss': 'deviance', 'max_depth': 9, 'max_features': 'log2', 'min_samples_leaf': 0.01, 'min_samples_split': 0.2, 'n_estimators': 90, 'random_state': 23, 'subsample': 0.4}\n",
      "0.921 (+/-0.027) for {'criterion': 'friedman_mse', 'learning_rate': 0.4, 'loss': 'deviance', 'max_depth': 9, 'max_features': 'log2', 'min_samples_leaf': 0.01, 'min_samples_split': 0.2, 'n_estimators': 90, 'random_state': 23, 'subsample': 0.6}\n",
      "0.905 (+/-0.030) for {'criterion': 'friedman_mse', 'learning_rate': 0.4, 'loss': 'deviance', 'max_depth': 9, 'max_features': 'log2', 'min_samples_leaf': 0.01, 'min_samples_split': 0.2, 'n_estimators': 110, 'random_state': 23, 'subsample': 0.4}\n",
      "0.925 (+/-0.031) for {'criterion': 'friedman_mse', 'learning_rate': 0.4, 'loss': 'deviance', 'max_depth': 9, 'max_features': 'log2', 'min_samples_leaf': 0.01, 'min_samples_split': 0.2, 'n_estimators': 110, 'random_state': 23, 'subsample': 0.6}\n",
      "0.250 (+/-0.000) for {'criterion': 'friedman_mse', 'learning_rate': 0.4, 'loss': 'deviance', 'max_depth': 9, 'max_features': 'log2', 'min_samples_leaf': 0.2, 'min_samples_split': 0.01, 'n_estimators': 90, 'random_state': 23, 'subsample': 0.4}\n",
      "0.786 (+/-0.023) for {'criterion': 'friedman_mse', 'learning_rate': 0.4, 'loss': 'deviance', 'max_depth': 9, 'max_features': 'log2', 'min_samples_leaf': 0.2, 'min_samples_split': 0.01, 'n_estimators': 90, 'random_state': 23, 'subsample': 0.6}\n",
      "0.250 (+/-0.000) for {'criterion': 'friedman_mse', 'learning_rate': 0.4, 'loss': 'deviance', 'max_depth': 9, 'max_features': 'log2', 'min_samples_leaf': 0.2, 'min_samples_split': 0.01, 'n_estimators': 110, 'random_state': 23, 'subsample': 0.4}\n",
      "0.793 (+/-0.026) for {'criterion': 'friedman_mse', 'learning_rate': 0.4, 'loss': 'deviance', 'max_depth': 9, 'max_features': 'log2', 'min_samples_leaf': 0.2, 'min_samples_split': 0.01, 'n_estimators': 110, 'random_state': 23, 'subsample': 0.6}\n",
      "0.250 (+/-0.000) for {'criterion': 'friedman_mse', 'learning_rate': 0.4, 'loss': 'deviance', 'max_depth': 9, 'max_features': 'log2', 'min_samples_leaf': 0.2, 'min_samples_split': 0.2, 'n_estimators': 90, 'random_state': 23, 'subsample': 0.4}\n",
      "0.786 (+/-0.023) for {'criterion': 'friedman_mse', 'learning_rate': 0.4, 'loss': 'deviance', 'max_depth': 9, 'max_features': 'log2', 'min_samples_leaf': 0.2, 'min_samples_split': 0.2, 'n_estimators': 90, 'random_state': 23, 'subsample': 0.6}\n",
      "0.250 (+/-0.000) for {'criterion': 'friedman_mse', 'learning_rate': 0.4, 'loss': 'deviance', 'max_depth': 9, 'max_features': 'log2', 'min_samples_leaf': 0.2, 'min_samples_split': 0.2, 'n_estimators': 110, 'random_state': 23, 'subsample': 0.4}\n",
      "0.793 (+/-0.026) for {'criterion': 'friedman_mse', 'learning_rate': 0.4, 'loss': 'deviance', 'max_depth': 9, 'max_features': 'log2', 'min_samples_leaf': 0.2, 'min_samples_split': 0.2, 'n_estimators': 110, 'random_state': 23, 'subsample': 0.6}\n",
      "0.935 (+/-0.029) for {'criterion': 'friedman_mse', 'learning_rate': 0.4, 'loss': 'deviance', 'max_depth': 11, 'max_features': 'log2', 'min_samples_leaf': 0.01, 'min_samples_split': 0.01, 'n_estimators': 90, 'random_state': 23, 'subsample': 0.4}\n",
      "0.942 (+/-0.030) for {'criterion': 'friedman_mse', 'learning_rate': 0.4, 'loss': 'deviance', 'max_depth': 11, 'max_features': 'log2', 'min_samples_leaf': 0.01, 'min_samples_split': 0.01, 'n_estimators': 90, 'random_state': 23, 'subsample': 0.6}\n",
      "0.938 (+/-0.028) for {'criterion': 'friedman_mse', 'learning_rate': 0.4, 'loss': 'deviance', 'max_depth': 11, 'max_features': 'log2', 'min_samples_leaf': 0.01, 'min_samples_split': 0.01, 'n_estimators': 110, 'random_state': 23, 'subsample': 0.4}\n",
      "0.944 (+/-0.033) for {'criterion': 'friedman_mse', 'learning_rate': 0.4, 'loss': 'deviance', 'max_depth': 11, 'max_features': 'log2', 'min_samples_leaf': 0.01, 'min_samples_split': 0.01, 'n_estimators': 110, 'random_state': 23, 'subsample': 0.6}\n",
      "0.901 (+/-0.027) for {'criterion': 'friedman_mse', 'learning_rate': 0.4, 'loss': 'deviance', 'max_depth': 11, 'max_features': 'log2', 'min_samples_leaf': 0.01, 'min_samples_split': 0.2, 'n_estimators': 90, 'random_state': 23, 'subsample': 0.4}\n",
      "0.922 (+/-0.033) for {'criterion': 'friedman_mse', 'learning_rate': 0.4, 'loss': 'deviance', 'max_depth': 11, 'max_features': 'log2', 'min_samples_leaf': 0.01, 'min_samples_split': 0.2, 'n_estimators': 90, 'random_state': 23, 'subsample': 0.6}\n",
      "0.906 (+/-0.028) for {'criterion': 'friedman_mse', 'learning_rate': 0.4, 'loss': 'deviance', 'max_depth': 11, 'max_features': 'log2', 'min_samples_leaf': 0.01, 'min_samples_split': 0.2, 'n_estimators': 110, 'random_state': 23, 'subsample': 0.4}\n",
      "0.927 (+/-0.025) for {'criterion': 'friedman_mse', 'learning_rate': 0.4, 'loss': 'deviance', 'max_depth': 11, 'max_features': 'log2', 'min_samples_leaf': 0.01, 'min_samples_split': 0.2, 'n_estimators': 110, 'random_state': 23, 'subsample': 0.6}\n",
      "0.250 (+/-0.000) for {'criterion': 'friedman_mse', 'learning_rate': 0.4, 'loss': 'deviance', 'max_depth': 11, 'max_features': 'log2', 'min_samples_leaf': 0.2, 'min_samples_split': 0.01, 'n_estimators': 90, 'random_state': 23, 'subsample': 0.4}\n",
      "0.786 (+/-0.023) for {'criterion': 'friedman_mse', 'learning_rate': 0.4, 'loss': 'deviance', 'max_depth': 11, 'max_features': 'log2', 'min_samples_leaf': 0.2, 'min_samples_split': 0.01, 'n_estimators': 90, 'random_state': 23, 'subsample': 0.6}\n",
      "0.250 (+/-0.000) for {'criterion': 'friedman_mse', 'learning_rate': 0.4, 'loss': 'deviance', 'max_depth': 11, 'max_features': 'log2', 'min_samples_leaf': 0.2, 'min_samples_split': 0.01, 'n_estimators': 110, 'random_state': 23, 'subsample': 0.4}\n",
      "0.793 (+/-0.026) for {'criterion': 'friedman_mse', 'learning_rate': 0.4, 'loss': 'deviance', 'max_depth': 11, 'max_features': 'log2', 'min_samples_leaf': 0.2, 'min_samples_split': 0.01, 'n_estimators': 110, 'random_state': 23, 'subsample': 0.6}\n",
      "0.250 (+/-0.000) for {'criterion': 'friedman_mse', 'learning_rate': 0.4, 'loss': 'deviance', 'max_depth': 11, 'max_features': 'log2', 'min_samples_leaf': 0.2, 'min_samples_split': 0.2, 'n_estimators': 90, 'random_state': 23, 'subsample': 0.4}\n",
      "0.786 (+/-0.023) for {'criterion': 'friedman_mse', 'learning_rate': 0.4, 'loss': 'deviance', 'max_depth': 11, 'max_features': 'log2', 'min_samples_leaf': 0.2, 'min_samples_split': 0.2, 'n_estimators': 90, 'random_state': 23, 'subsample': 0.6}\n",
      "0.250 (+/-0.000) for {'criterion': 'friedman_mse', 'learning_rate': 0.4, 'loss': 'deviance', 'max_depth': 11, 'max_features': 'log2', 'min_samples_leaf': 0.2, 'min_samples_split': 0.2, 'n_estimators': 110, 'random_state': 23, 'subsample': 0.4}\n",
      "0.793 (+/-0.026) for {'criterion': 'friedman_mse', 'learning_rate': 0.4, 'loss': 'deviance', 'max_depth': 11, 'max_features': 'log2', 'min_samples_leaf': 0.2, 'min_samples_split': 0.2, 'n_estimators': 110, 'random_state': 23, 'subsample': 0.6}\n",
      "0.931 (+/-0.028) for {'criterion': 'friedman_mse', 'learning_rate': 0.5, 'loss': 'exponential', 'max_depth': 9, 'max_features': 'log2', 'min_samples_leaf': 0.01, 'min_samples_split': 0.01, 'n_estimators': 90, 'random_state': 23, 'subsample': 0.4}\n",
      "0.943 (+/-0.026) for {'criterion': 'friedman_mse', 'learning_rate': 0.5, 'loss': 'exponential', 'max_depth': 9, 'max_features': 'log2', 'min_samples_leaf': 0.01, 'min_samples_split': 0.01, 'n_estimators': 90, 'random_state': 23, 'subsample': 0.6}\n",
      "0.934 (+/-0.024) for {'criterion': 'friedman_mse', 'learning_rate': 0.5, 'loss': 'exponential', 'max_depth': 9, 'max_features': 'log2', 'min_samples_leaf': 0.01, 'min_samples_split': 0.01, 'n_estimators': 110, 'random_state': 23, 'subsample': 0.4}\n",
      "0.944 (+/-0.027) for {'criterion': 'friedman_mse', 'learning_rate': 0.5, 'loss': 'exponential', 'max_depth': 9, 'max_features': 'log2', 'min_samples_leaf': 0.01, 'min_samples_split': 0.01, 'n_estimators': 110, 'random_state': 23, 'subsample': 0.6}\n",
      "0.902 (+/-0.029) for {'criterion': 'friedman_mse', 'learning_rate': 0.5, 'loss': 'exponential', 'max_depth': 9, 'max_features': 'log2', 'min_samples_leaf': 0.01, 'min_samples_split': 0.2, 'n_estimators': 90, 'random_state': 23, 'subsample': 0.4}\n",
      "0.921 (+/-0.025) for {'criterion': 'friedman_mse', 'learning_rate': 0.5, 'loss': 'exponential', 'max_depth': 9, 'max_features': 'log2', 'min_samples_leaf': 0.01, 'min_samples_split': 0.2, 'n_estimators': 90, 'random_state': 23, 'subsample': 0.6}\n",
      "0.906 (+/-0.031) for {'criterion': 'friedman_mse', 'learning_rate': 0.5, 'loss': 'exponential', 'max_depth': 9, 'max_features': 'log2', 'min_samples_leaf': 0.01, 'min_samples_split': 0.2, 'n_estimators': 110, 'random_state': 23, 'subsample': 0.4}\n",
      "0.924 (+/-0.029) for {'criterion': 'friedman_mse', 'learning_rate': 0.5, 'loss': 'exponential', 'max_depth': 9, 'max_features': 'log2', 'min_samples_leaf': 0.01, 'min_samples_split': 0.2, 'n_estimators': 110, 'random_state': 23, 'subsample': 0.6}\n",
      "0.250 (+/-0.000) for {'criterion': 'friedman_mse', 'learning_rate': 0.5, 'loss': 'exponential', 'max_depth': 9, 'max_features': 'log2', 'min_samples_leaf': 0.2, 'min_samples_split': 0.01, 'n_estimators': 90, 'random_state': 23, 'subsample': 0.4}\n",
      "0.788 (+/-0.023) for {'criterion': 'friedman_mse', 'learning_rate': 0.5, 'loss': 'exponential', 'max_depth': 9, 'max_features': 'log2', 'min_samples_leaf': 0.2, 'min_samples_split': 0.01, 'n_estimators': 90, 'random_state': 23, 'subsample': 0.6}\n",
      "0.250 (+/-0.000) for {'criterion': 'friedman_mse', 'learning_rate': 0.5, 'loss': 'exponential', 'max_depth': 9, 'max_features': 'log2', 'min_samples_leaf': 0.2, 'min_samples_split': 0.01, 'n_estimators': 110, 'random_state': 23, 'subsample': 0.4}\n",
      "0.790 (+/-0.030) for {'criterion': 'friedman_mse', 'learning_rate': 0.5, 'loss': 'exponential', 'max_depth': 9, 'max_features': 'log2', 'min_samples_leaf': 0.2, 'min_samples_split': 0.01, 'n_estimators': 110, 'random_state': 23, 'subsample': 0.6}\n",
      "0.250 (+/-0.000) for {'criterion': 'friedman_mse', 'learning_rate': 0.5, 'loss': 'exponential', 'max_depth': 9, 'max_features': 'log2', 'min_samples_leaf': 0.2, 'min_samples_split': 0.2, 'n_estimators': 90, 'random_state': 23, 'subsample': 0.4}\n",
      "0.788 (+/-0.023) for {'criterion': 'friedman_mse', 'learning_rate': 0.5, 'loss': 'exponential', 'max_depth': 9, 'max_features': 'log2', 'min_samples_leaf': 0.2, 'min_samples_split': 0.2, 'n_estimators': 90, 'random_state': 23, 'subsample': 0.6}\n",
      "0.250 (+/-0.000) for {'criterion': 'friedman_mse', 'learning_rate': 0.5, 'loss': 'exponential', 'max_depth': 9, 'max_features': 'log2', 'min_samples_leaf': 0.2, 'min_samples_split': 0.2, 'n_estimators': 110, 'random_state': 23, 'subsample': 0.4}\n",
      "0.790 (+/-0.030) for {'criterion': 'friedman_mse', 'learning_rate': 0.5, 'loss': 'exponential', 'max_depth': 9, 'max_features': 'log2', 'min_samples_leaf': 0.2, 'min_samples_split': 0.2, 'n_estimators': 110, 'random_state': 23, 'subsample': 0.6}\n",
      "0.936 (+/-0.031) for {'criterion': 'friedman_mse', 'learning_rate': 0.5, 'loss': 'exponential', 'max_depth': 11, 'max_features': 'log2', 'min_samples_leaf': 0.01, 'min_samples_split': 0.01, 'n_estimators': 90, 'random_state': 23, 'subsample': 0.4}\n",
      "0.943 (+/-0.023) for {'criterion': 'friedman_mse', 'learning_rate': 0.5, 'loss': 'exponential', 'max_depth': 11, 'max_features': 'log2', 'min_samples_leaf': 0.01, 'min_samples_split': 0.01, 'n_estimators': 90, 'random_state': 23, 'subsample': 0.6}\n",
      "0.941 (+/-0.033) for {'criterion': 'friedman_mse', 'learning_rate': 0.5, 'loss': 'exponential', 'max_depth': 11, 'max_features': 'log2', 'min_samples_leaf': 0.01, 'min_samples_split': 0.01, 'n_estimators': 110, 'random_state': 23, 'subsample': 0.4}\n",
      "0.945 (+/-0.026) for {'criterion': 'friedman_mse', 'learning_rate': 0.5, 'loss': 'exponential', 'max_depth': 11, 'max_features': 'log2', 'min_samples_leaf': 0.01, 'min_samples_split': 0.01, 'n_estimators': 110, 'random_state': 23, 'subsample': 0.6}\n",
      "0.901 (+/-0.028) for {'criterion': 'friedman_mse', 'learning_rate': 0.5, 'loss': 'exponential', 'max_depth': 11, 'max_features': 'log2', 'min_samples_leaf': 0.01, 'min_samples_split': 0.2, 'n_estimators': 90, 'random_state': 23, 'subsample': 0.4}\n",
      "0.921 (+/-0.022) for {'criterion': 'friedman_mse', 'learning_rate': 0.5, 'loss': 'exponential', 'max_depth': 11, 'max_features': 'log2', 'min_samples_leaf': 0.01, 'min_samples_split': 0.2, 'n_estimators': 90, 'random_state': 23, 'subsample': 0.6}\n",
      "0.906 (+/-0.031) for {'criterion': 'friedman_mse', 'learning_rate': 0.5, 'loss': 'exponential', 'max_depth': 11, 'max_features': 'log2', 'min_samples_leaf': 0.01, 'min_samples_split': 0.2, 'n_estimators': 110, 'random_state': 23, 'subsample': 0.4}\n",
      "0.925 (+/-0.024) for {'criterion': 'friedman_mse', 'learning_rate': 0.5, 'loss': 'exponential', 'max_depth': 11, 'max_features': 'log2', 'min_samples_leaf': 0.01, 'min_samples_split': 0.2, 'n_estimators': 110, 'random_state': 23, 'subsample': 0.6}\n",
      "0.250 (+/-0.000) for {'criterion': 'friedman_mse', 'learning_rate': 0.5, 'loss': 'exponential', 'max_depth': 11, 'max_features': 'log2', 'min_samples_leaf': 0.2, 'min_samples_split': 0.01, 'n_estimators': 90, 'random_state': 23, 'subsample': 0.4}\n",
      "0.788 (+/-0.023) for {'criterion': 'friedman_mse', 'learning_rate': 0.5, 'loss': 'exponential', 'max_depth': 11, 'max_features': 'log2', 'min_samples_leaf': 0.2, 'min_samples_split': 0.01, 'n_estimators': 90, 'random_state': 23, 'subsample': 0.6}\n",
      "0.250 (+/-0.000) for {'criterion': 'friedman_mse', 'learning_rate': 0.5, 'loss': 'exponential', 'max_depth': 11, 'max_features': 'log2', 'min_samples_leaf': 0.2, 'min_samples_split': 0.01, 'n_estimators': 110, 'random_state': 23, 'subsample': 0.4}\n",
      "0.790 (+/-0.030) for {'criterion': 'friedman_mse', 'learning_rate': 0.5, 'loss': 'exponential', 'max_depth': 11, 'max_features': 'log2', 'min_samples_leaf': 0.2, 'min_samples_split': 0.01, 'n_estimators': 110, 'random_state': 23, 'subsample': 0.6}\n",
      "0.250 (+/-0.000) for {'criterion': 'friedman_mse', 'learning_rate': 0.5, 'loss': 'exponential', 'max_depth': 11, 'max_features': 'log2', 'min_samples_leaf': 0.2, 'min_samples_split': 0.2, 'n_estimators': 90, 'random_state': 23, 'subsample': 0.4}\n",
      "0.788 (+/-0.023) for {'criterion': 'friedman_mse', 'learning_rate': 0.5, 'loss': 'exponential', 'max_depth': 11, 'max_features': 'log2', 'min_samples_leaf': 0.2, 'min_samples_split': 0.2, 'n_estimators': 90, 'random_state': 23, 'subsample': 0.6}\n",
      "0.250 (+/-0.000) for {'criterion': 'friedman_mse', 'learning_rate': 0.5, 'loss': 'exponential', 'max_depth': 11, 'max_features': 'log2', 'min_samples_leaf': 0.2, 'min_samples_split': 0.2, 'n_estimators': 110, 'random_state': 23, 'subsample': 0.4}\n",
      "0.790 (+/-0.030) for {'criterion': 'friedman_mse', 'learning_rate': 0.5, 'loss': 'exponential', 'max_depth': 11, 'max_features': 'log2', 'min_samples_leaf': 0.2, 'min_samples_split': 0.2, 'n_estimators': 110, 'random_state': 23, 'subsample': 0.6}\n",
      "0.933 (+/-0.038) for {'criterion': 'friedman_mse', 'learning_rate': 0.5, 'loss': 'deviance', 'max_depth': 9, 'max_features': 'log2', 'min_samples_leaf': 0.01, 'min_samples_split': 0.01, 'n_estimators': 90, 'random_state': 23, 'subsample': 0.4}\n",
      "0.946 (+/-0.031) for {'criterion': 'friedman_mse', 'learning_rate': 0.5, 'loss': 'deviance', 'max_depth': 9, 'max_features': 'log2', 'min_samples_leaf': 0.01, 'min_samples_split': 0.01, 'n_estimators': 90, 'random_state': 23, 'subsample': 0.6}\n",
      "0.933 (+/-0.036) for {'criterion': 'friedman_mse', 'learning_rate': 0.5, 'loss': 'deviance', 'max_depth': 9, 'max_features': 'log2', 'min_samples_leaf': 0.01, 'min_samples_split': 0.01, 'n_estimators': 110, 'random_state': 23, 'subsample': 0.4}\n",
      "0.946 (+/-0.028) for {'criterion': 'friedman_mse', 'learning_rate': 0.5, 'loss': 'deviance', 'max_depth': 9, 'max_features': 'log2', 'min_samples_leaf': 0.01, 'min_samples_split': 0.01, 'n_estimators': 110, 'random_state': 23, 'subsample': 0.6}\n",
      "0.908 (+/-0.025) for {'criterion': 'friedman_mse', 'learning_rate': 0.5, 'loss': 'deviance', 'max_depth': 9, 'max_features': 'log2', 'min_samples_leaf': 0.01, 'min_samples_split': 0.2, 'n_estimators': 90, 'random_state': 23, 'subsample': 0.4}\n",
      "0.923 (+/-0.029) for {'criterion': 'friedman_mse', 'learning_rate': 0.5, 'loss': 'deviance', 'max_depth': 9, 'max_features': 'log2', 'min_samples_leaf': 0.01, 'min_samples_split': 0.2, 'n_estimators': 90, 'random_state': 23, 'subsample': 0.6}\n",
      "0.911 (+/-0.029) for {'criterion': 'friedman_mse', 'learning_rate': 0.5, 'loss': 'deviance', 'max_depth': 9, 'max_features': 'log2', 'min_samples_leaf': 0.01, 'min_samples_split': 0.2, 'n_estimators': 110, 'random_state': 23, 'subsample': 0.4}\n",
      "0.925 (+/-0.032) for {'criterion': 'friedman_mse', 'learning_rate': 0.5, 'loss': 'deviance', 'max_depth': 9, 'max_features': 'log2', 'min_samples_leaf': 0.01, 'min_samples_split': 0.2, 'n_estimators': 110, 'random_state': 23, 'subsample': 0.6}\n",
      "0.250 (+/-0.000) for {'criterion': 'friedman_mse', 'learning_rate': 0.5, 'loss': 'deviance', 'max_depth': 9, 'max_features': 'log2', 'min_samples_leaf': 0.2, 'min_samples_split': 0.01, 'n_estimators': 90, 'random_state': 23, 'subsample': 0.4}\n",
      "0.792 (+/-0.025) for {'criterion': 'friedman_mse', 'learning_rate': 0.5, 'loss': 'deviance', 'max_depth': 9, 'max_features': 'log2', 'min_samples_leaf': 0.2, 'min_samples_split': 0.01, 'n_estimators': 90, 'random_state': 23, 'subsample': 0.6}\n",
      "0.250 (+/-0.000) for {'criterion': 'friedman_mse', 'learning_rate': 0.5, 'loss': 'deviance', 'max_depth': 9, 'max_features': 'log2', 'min_samples_leaf': 0.2, 'min_samples_split': 0.01, 'n_estimators': 110, 'random_state': 23, 'subsample': 0.4}\n",
      "0.798 (+/-0.025) for {'criterion': 'friedman_mse', 'learning_rate': 0.5, 'loss': 'deviance', 'max_depth': 9, 'max_features': 'log2', 'min_samples_leaf': 0.2, 'min_samples_split': 0.01, 'n_estimators': 110, 'random_state': 23, 'subsample': 0.6}\n",
      "0.250 (+/-0.000) for {'criterion': 'friedman_mse', 'learning_rate': 0.5, 'loss': 'deviance', 'max_depth': 9, 'max_features': 'log2', 'min_samples_leaf': 0.2, 'min_samples_split': 0.2, 'n_estimators': 90, 'random_state': 23, 'subsample': 0.4}\n",
      "0.792 (+/-0.025) for {'criterion': 'friedman_mse', 'learning_rate': 0.5, 'loss': 'deviance', 'max_depth': 9, 'max_features': 'log2', 'min_samples_leaf': 0.2, 'min_samples_split': 0.2, 'n_estimators': 90, 'random_state': 23, 'subsample': 0.6}\n",
      "0.250 (+/-0.000) for {'criterion': 'friedman_mse', 'learning_rate': 0.5, 'loss': 'deviance', 'max_depth': 9, 'max_features': 'log2', 'min_samples_leaf': 0.2, 'min_samples_split': 0.2, 'n_estimators': 110, 'random_state': 23, 'subsample': 0.4}\n",
      "0.798 (+/-0.025) for {'criterion': 'friedman_mse', 'learning_rate': 0.5, 'loss': 'deviance', 'max_depth': 9, 'max_features': 'log2', 'min_samples_leaf': 0.2, 'min_samples_split': 0.2, 'n_estimators': 110, 'random_state': 23, 'subsample': 0.6}\n",
      "0.937 (+/-0.032) for {'criterion': 'friedman_mse', 'learning_rate': 0.5, 'loss': 'deviance', 'max_depth': 11, 'max_features': 'log2', 'min_samples_leaf': 0.01, 'min_samples_split': 0.01, 'n_estimators': 90, 'random_state': 23, 'subsample': 0.4}\n",
      "0.943 (+/-0.028) for {'criterion': 'friedman_mse', 'learning_rate': 0.5, 'loss': 'deviance', 'max_depth': 11, 'max_features': 'log2', 'min_samples_leaf': 0.01, 'min_samples_split': 0.01, 'n_estimators': 90, 'random_state': 23, 'subsample': 0.6}\n",
      "0.939 (+/-0.028) for {'criterion': 'friedman_mse', 'learning_rate': 0.5, 'loss': 'deviance', 'max_depth': 11, 'max_features': 'log2', 'min_samples_leaf': 0.01, 'min_samples_split': 0.01, 'n_estimators': 110, 'random_state': 23, 'subsample': 0.4}\n",
      "0.943 (+/-0.030) for {'criterion': 'friedman_mse', 'learning_rate': 0.5, 'loss': 'deviance', 'max_depth': 11, 'max_features': 'log2', 'min_samples_leaf': 0.01, 'min_samples_split': 0.01, 'n_estimators': 110, 'random_state': 23, 'subsample': 0.6}\n",
      "0.909 (+/-0.026) for {'criterion': 'friedman_mse', 'learning_rate': 0.5, 'loss': 'deviance', 'max_depth': 11, 'max_features': 'log2', 'min_samples_leaf': 0.01, 'min_samples_split': 0.2, 'n_estimators': 90, 'random_state': 23, 'subsample': 0.4}\n",
      "0.926 (+/-0.030) for {'criterion': 'friedman_mse', 'learning_rate': 0.5, 'loss': 'deviance', 'max_depth': 11, 'max_features': 'log2', 'min_samples_leaf': 0.01, 'min_samples_split': 0.2, 'n_estimators': 90, 'random_state': 23, 'subsample': 0.6}\n",
      "0.910 (+/-0.028) for {'criterion': 'friedman_mse', 'learning_rate': 0.5, 'loss': 'deviance', 'max_depth': 11, 'max_features': 'log2', 'min_samples_leaf': 0.01, 'min_samples_split': 0.2, 'n_estimators': 110, 'random_state': 23, 'subsample': 0.4}\n",
      "0.928 (+/-0.032) for {'criterion': 'friedman_mse', 'learning_rate': 0.5, 'loss': 'deviance', 'max_depth': 11, 'max_features': 'log2', 'min_samples_leaf': 0.01, 'min_samples_split': 0.2, 'n_estimators': 110, 'random_state': 23, 'subsample': 0.6}\n",
      "0.250 (+/-0.000) for {'criterion': 'friedman_mse', 'learning_rate': 0.5, 'loss': 'deviance', 'max_depth': 11, 'max_features': 'log2', 'min_samples_leaf': 0.2, 'min_samples_split': 0.01, 'n_estimators': 90, 'random_state': 23, 'subsample': 0.4}\n",
      "0.792 (+/-0.025) for {'criterion': 'friedman_mse', 'learning_rate': 0.5, 'loss': 'deviance', 'max_depth': 11, 'max_features': 'log2', 'min_samples_leaf': 0.2, 'min_samples_split': 0.01, 'n_estimators': 90, 'random_state': 23, 'subsample': 0.6}\n",
      "0.250 (+/-0.000) for {'criterion': 'friedman_mse', 'learning_rate': 0.5, 'loss': 'deviance', 'max_depth': 11, 'max_features': 'log2', 'min_samples_leaf': 0.2, 'min_samples_split': 0.01, 'n_estimators': 110, 'random_state': 23, 'subsample': 0.4}\n",
      "0.798 (+/-0.025) for {'criterion': 'friedman_mse', 'learning_rate': 0.5, 'loss': 'deviance', 'max_depth': 11, 'max_features': 'log2', 'min_samples_leaf': 0.2, 'min_samples_split': 0.01, 'n_estimators': 110, 'random_state': 23, 'subsample': 0.6}\n",
      "0.250 (+/-0.000) for {'criterion': 'friedman_mse', 'learning_rate': 0.5, 'loss': 'deviance', 'max_depth': 11, 'max_features': 'log2', 'min_samples_leaf': 0.2, 'min_samples_split': 0.2, 'n_estimators': 90, 'random_state': 23, 'subsample': 0.4}\n",
      "0.792 (+/-0.025) for {'criterion': 'friedman_mse', 'learning_rate': 0.5, 'loss': 'deviance', 'max_depth': 11, 'max_features': 'log2', 'min_samples_leaf': 0.2, 'min_samples_split': 0.2, 'n_estimators': 90, 'random_state': 23, 'subsample': 0.6}\n",
      "0.250 (+/-0.000) for {'criterion': 'friedman_mse', 'learning_rate': 0.5, 'loss': 'deviance', 'max_depth': 11, 'max_features': 'log2', 'min_samples_leaf': 0.2, 'min_samples_split': 0.2, 'n_estimators': 110, 'random_state': 23, 'subsample': 0.4}\n",
      "0.798 (+/-0.025) for {'criterion': 'friedman_mse', 'learning_rate': 0.5, 'loss': 'deviance', 'max_depth': 11, 'max_features': 'log2', 'min_samples_leaf': 0.2, 'min_samples_split': 0.2, 'n_estimators': 110, 'random_state': 23, 'subsample': 0.6}\n",
      "\n",
      "Detailed classification report:\n",
      "\n",
      "The model is trained on the full development set.\n",
      "The scores are computed on the full evaluation set.\n",
      "\n",
      "              precision    recall  f1-score   support\n",
      "\n",
      "           0       0.95      0.93      0.94       977\n",
      "           1       0.34      0.45      0.38        78\n",
      "\n",
      "   micro avg       0.89      0.89      0.89      1055\n",
      "   macro avg       0.65      0.69      0.66      1055\n",
      "weighted avg       0.91      0.89      0.90      1055\n",
      "\n",
      "\n",
      "# Tuning hyper-parameters for recall\n",
      "\n"
     ]
    },
    {
     "name": "stdout",
     "output_type": "stream",
     "text": [
      "Best parameters set found on development set:\n",
      "\n",
      "{'criterion': 'friedman_mse', 'learning_rate': 0.4, 'loss': 'exponential', 'max_depth': 11, 'max_features': 'log2', 'min_samples_leaf': 0.01, 'min_samples_split': 0.01, 'n_estimators': 110, 'random_state': 23, 'subsample': 0.6}\n",
      "\n",
      "Grid scores on development set:\n",
      "\n",
      "0.934 (+/-0.024) for {'criterion': 'friedman_mse', 'learning_rate': 0.4, 'loss': 'exponential', 'max_depth': 9, 'max_features': 'log2', 'min_samples_leaf': 0.01, 'min_samples_split': 0.01, 'n_estimators': 90, 'random_state': 23, 'subsample': 0.4}\n",
      "0.941 (+/-0.027) for {'criterion': 'friedman_mse', 'learning_rate': 0.4, 'loss': 'exponential', 'max_depth': 9, 'max_features': 'log2', 'min_samples_leaf': 0.01, 'min_samples_split': 0.01, 'n_estimators': 90, 'random_state': 23, 'subsample': 0.6}\n",
      "0.936 (+/-0.023) for {'criterion': 'friedman_mse', 'learning_rate': 0.4, 'loss': 'exponential', 'max_depth': 9, 'max_features': 'log2', 'min_samples_leaf': 0.01, 'min_samples_split': 0.01, 'n_estimators': 110, 'random_state': 23, 'subsample': 0.4}\n",
      "0.942 (+/-0.024) for {'criterion': 'friedman_mse', 'learning_rate': 0.4, 'loss': 'exponential', 'max_depth': 9, 'max_features': 'log2', 'min_samples_leaf': 0.01, 'min_samples_split': 0.01, 'n_estimators': 110, 'random_state': 23, 'subsample': 0.6}\n",
      "0.895 (+/-0.019) for {'criterion': 'friedman_mse', 'learning_rate': 0.4, 'loss': 'exponential', 'max_depth': 9, 'max_features': 'log2', 'min_samples_leaf': 0.01, 'min_samples_split': 0.2, 'n_estimators': 90, 'random_state': 23, 'subsample': 0.4}\n",
      "0.916 (+/-0.027) for {'criterion': 'friedman_mse', 'learning_rate': 0.4, 'loss': 'exponential', 'max_depth': 9, 'max_features': 'log2', 'min_samples_leaf': 0.01, 'min_samples_split': 0.2, 'n_estimators': 90, 'random_state': 23, 'subsample': 0.6}\n",
      "0.901 (+/-0.023) for {'criterion': 'friedman_mse', 'learning_rate': 0.4, 'loss': 'exponential', 'max_depth': 9, 'max_features': 'log2', 'min_samples_leaf': 0.01, 'min_samples_split': 0.2, 'n_estimators': 110, 'random_state': 23, 'subsample': 0.4}\n",
      "0.920 (+/-0.024) for {'criterion': 'friedman_mse', 'learning_rate': 0.4, 'loss': 'exponential', 'max_depth': 9, 'max_features': 'log2', 'min_samples_leaf': 0.01, 'min_samples_split': 0.2, 'n_estimators': 110, 'random_state': 23, 'subsample': 0.6}\n",
      "0.500 (+/-0.000) for {'criterion': 'friedman_mse', 'learning_rate': 0.4, 'loss': 'exponential', 'max_depth': 9, 'max_features': 'log2', 'min_samples_leaf': 0.2, 'min_samples_split': 0.01, 'n_estimators': 90, 'random_state': 23, 'subsample': 0.4}\n",
      "0.784 (+/-0.022) for {'criterion': 'friedman_mse', 'learning_rate': 0.4, 'loss': 'exponential', 'max_depth': 9, 'max_features': 'log2', 'min_samples_leaf': 0.2, 'min_samples_split': 0.01, 'n_estimators': 90, 'random_state': 23, 'subsample': 0.6}\n",
      "0.500 (+/-0.000) for {'criterion': 'friedman_mse', 'learning_rate': 0.4, 'loss': 'exponential', 'max_depth': 9, 'max_features': 'log2', 'min_samples_leaf': 0.2, 'min_samples_split': 0.01, 'n_estimators': 110, 'random_state': 23, 'subsample': 0.4}\n",
      "0.787 (+/-0.029) for {'criterion': 'friedman_mse', 'learning_rate': 0.4, 'loss': 'exponential', 'max_depth': 9, 'max_features': 'log2', 'min_samples_leaf': 0.2, 'min_samples_split': 0.01, 'n_estimators': 110, 'random_state': 23, 'subsample': 0.6}\n",
      "0.500 (+/-0.000) for {'criterion': 'friedman_mse', 'learning_rate': 0.4, 'loss': 'exponential', 'max_depth': 9, 'max_features': 'log2', 'min_samples_leaf': 0.2, 'min_samples_split': 0.2, 'n_estimators': 90, 'random_state': 23, 'subsample': 0.4}\n",
      "0.784 (+/-0.022) for {'criterion': 'friedman_mse', 'learning_rate': 0.4, 'loss': 'exponential', 'max_depth': 9, 'max_features': 'log2', 'min_samples_leaf': 0.2, 'min_samples_split': 0.2, 'n_estimators': 90, 'random_state': 23, 'subsample': 0.6}\n",
      "0.500 (+/-0.000) for {'criterion': 'friedman_mse', 'learning_rate': 0.4, 'loss': 'exponential', 'max_depth': 9, 'max_features': 'log2', 'min_samples_leaf': 0.2, 'min_samples_split': 0.2, 'n_estimators': 110, 'random_state': 23, 'subsample': 0.4}\n",
      "0.787 (+/-0.029) for {'criterion': 'friedman_mse', 'learning_rate': 0.4, 'loss': 'exponential', 'max_depth': 9, 'max_features': 'log2', 'min_samples_leaf': 0.2, 'min_samples_split': 0.2, 'n_estimators': 110, 'random_state': 23, 'subsample': 0.6}\n",
      "0.935 (+/-0.024) for {'criterion': 'friedman_mse', 'learning_rate': 0.4, 'loss': 'exponential', 'max_depth': 11, 'max_features': 'log2', 'min_samples_leaf': 0.01, 'min_samples_split': 0.01, 'n_estimators': 90, 'random_state': 23, 'subsample': 0.4}\n",
      "0.943 (+/-0.029) for {'criterion': 'friedman_mse', 'learning_rate': 0.4, 'loss': 'exponential', 'max_depth': 11, 'max_features': 'log2', 'min_samples_leaf': 0.01, 'min_samples_split': 0.01, 'n_estimators': 90, 'random_state': 23, 'subsample': 0.6}\n",
      "0.935 (+/-0.031) for {'criterion': 'friedman_mse', 'learning_rate': 0.4, 'loss': 'exponential', 'max_depth': 11, 'max_features': 'log2', 'min_samples_leaf': 0.01, 'min_samples_split': 0.01, 'n_estimators': 110, 'random_state': 23, 'subsample': 0.4}\n",
      "0.945 (+/-0.032) for {'criterion': 'friedman_mse', 'learning_rate': 0.4, 'loss': 'exponential', 'max_depth': 11, 'max_features': 'log2', 'min_samples_leaf': 0.01, 'min_samples_split': 0.01, 'n_estimators': 110, 'random_state': 23, 'subsample': 0.6}\n",
      "0.895 (+/-0.019) for {'criterion': 'friedman_mse', 'learning_rate': 0.4, 'loss': 'exponential', 'max_depth': 11, 'max_features': 'log2', 'min_samples_leaf': 0.01, 'min_samples_split': 0.2, 'n_estimators': 90, 'random_state': 23, 'subsample': 0.4}\n",
      "0.915 (+/-0.027) for {'criterion': 'friedman_mse', 'learning_rate': 0.4, 'loss': 'exponential', 'max_depth': 11, 'max_features': 'log2', 'min_samples_leaf': 0.01, 'min_samples_split': 0.2, 'n_estimators': 90, 'random_state': 23, 'subsample': 0.6}\n",
      "0.902 (+/-0.022) for {'criterion': 'friedman_mse', 'learning_rate': 0.4, 'loss': 'exponential', 'max_depth': 11, 'max_features': 'log2', 'min_samples_leaf': 0.01, 'min_samples_split': 0.2, 'n_estimators': 110, 'random_state': 23, 'subsample': 0.4}\n",
      "0.920 (+/-0.028) for {'criterion': 'friedman_mse', 'learning_rate': 0.4, 'loss': 'exponential', 'max_depth': 11, 'max_features': 'log2', 'min_samples_leaf': 0.01, 'min_samples_split': 0.2, 'n_estimators': 110, 'random_state': 23, 'subsample': 0.6}\n",
      "0.500 (+/-0.000) for {'criterion': 'friedman_mse', 'learning_rate': 0.4, 'loss': 'exponential', 'max_depth': 11, 'max_features': 'log2', 'min_samples_leaf': 0.2, 'min_samples_split': 0.01, 'n_estimators': 90, 'random_state': 23, 'subsample': 0.4}\n",
      "0.784 (+/-0.022) for {'criterion': 'friedman_mse', 'learning_rate': 0.4, 'loss': 'exponential', 'max_depth': 11, 'max_features': 'log2', 'min_samples_leaf': 0.2, 'min_samples_split': 0.01, 'n_estimators': 90, 'random_state': 23, 'subsample': 0.6}\n",
      "0.500 (+/-0.000) for {'criterion': 'friedman_mse', 'learning_rate': 0.4, 'loss': 'exponential', 'max_depth': 11, 'max_features': 'log2', 'min_samples_leaf': 0.2, 'min_samples_split': 0.01, 'n_estimators': 110, 'random_state': 23, 'subsample': 0.4}\n",
      "0.787 (+/-0.029) for {'criterion': 'friedman_mse', 'learning_rate': 0.4, 'loss': 'exponential', 'max_depth': 11, 'max_features': 'log2', 'min_samples_leaf': 0.2, 'min_samples_split': 0.01, 'n_estimators': 110, 'random_state': 23, 'subsample': 0.6}\n",
      "0.500 (+/-0.000) for {'criterion': 'friedman_mse', 'learning_rate': 0.4, 'loss': 'exponential', 'max_depth': 11, 'max_features': 'log2', 'min_samples_leaf': 0.2, 'min_samples_split': 0.2, 'n_estimators': 90, 'random_state': 23, 'subsample': 0.4}\n",
      "0.784 (+/-0.022) for {'criterion': 'friedman_mse', 'learning_rate': 0.4, 'loss': 'exponential', 'max_depth': 11, 'max_features': 'log2', 'min_samples_leaf': 0.2, 'min_samples_split': 0.2, 'n_estimators': 90, 'random_state': 23, 'subsample': 0.6}\n",
      "0.500 (+/-0.000) for {'criterion': 'friedman_mse', 'learning_rate': 0.4, 'loss': 'exponential', 'max_depth': 11, 'max_features': 'log2', 'min_samples_leaf': 0.2, 'min_samples_split': 0.2, 'n_estimators': 110, 'random_state': 23, 'subsample': 0.4}\n",
      "0.787 (+/-0.029) for {'criterion': 'friedman_mse', 'learning_rate': 0.4, 'loss': 'exponential', 'max_depth': 11, 'max_features': 'log2', 'min_samples_leaf': 0.2, 'min_samples_split': 0.2, 'n_estimators': 110, 'random_state': 23, 'subsample': 0.6}\n",
      "0.934 (+/-0.024) for {'criterion': 'friedman_mse', 'learning_rate': 0.4, 'loss': 'deviance', 'max_depth': 9, 'max_features': 'log2', 'min_samples_leaf': 0.01, 'min_samples_split': 0.01, 'n_estimators': 90, 'random_state': 23, 'subsample': 0.4}\n",
      "0.942 (+/-0.029) for {'criterion': 'friedman_mse', 'learning_rate': 0.4, 'loss': 'deviance', 'max_depth': 9, 'max_features': 'log2', 'min_samples_leaf': 0.01, 'min_samples_split': 0.01, 'n_estimators': 90, 'random_state': 23, 'subsample': 0.6}\n",
      "0.934 (+/-0.020) for {'criterion': 'friedman_mse', 'learning_rate': 0.4, 'loss': 'deviance', 'max_depth': 9, 'max_features': 'log2', 'min_samples_leaf': 0.01, 'min_samples_split': 0.01, 'n_estimators': 110, 'random_state': 23, 'subsample': 0.4}\n",
      "0.944 (+/-0.030) for {'criterion': 'friedman_mse', 'learning_rate': 0.4, 'loss': 'deviance', 'max_depth': 9, 'max_features': 'log2', 'min_samples_leaf': 0.01, 'min_samples_split': 0.01, 'n_estimators': 110, 'random_state': 23, 'subsample': 0.6}\n",
      "0.901 (+/-0.024) for {'criterion': 'friedman_mse', 'learning_rate': 0.4, 'loss': 'deviance', 'max_depth': 9, 'max_features': 'log2', 'min_samples_leaf': 0.01, 'min_samples_split': 0.2, 'n_estimators': 90, 'random_state': 23, 'subsample': 0.4}\n",
      "0.920 (+/-0.027) for {'criterion': 'friedman_mse', 'learning_rate': 0.4, 'loss': 'deviance', 'max_depth': 9, 'max_features': 'log2', 'min_samples_leaf': 0.01, 'min_samples_split': 0.2, 'n_estimators': 90, 'random_state': 23, 'subsample': 0.6}\n",
      "0.904 (+/-0.030) for {'criterion': 'friedman_mse', 'learning_rate': 0.4, 'loss': 'deviance', 'max_depth': 9, 'max_features': 'log2', 'min_samples_leaf': 0.01, 'min_samples_split': 0.2, 'n_estimators': 110, 'random_state': 23, 'subsample': 0.4}\n",
      "0.924 (+/-0.032) for {'criterion': 'friedman_mse', 'learning_rate': 0.4, 'loss': 'deviance', 'max_depth': 9, 'max_features': 'log2', 'min_samples_leaf': 0.01, 'min_samples_split': 0.2, 'n_estimators': 110, 'random_state': 23, 'subsample': 0.6}\n",
      "0.500 (+/-0.000) for {'criterion': 'friedman_mse', 'learning_rate': 0.4, 'loss': 'deviance', 'max_depth': 9, 'max_features': 'log2', 'min_samples_leaf': 0.2, 'min_samples_split': 0.01, 'n_estimators': 90, 'random_state': 23, 'subsample': 0.4}\n",
      "0.786 (+/-0.022) for {'criterion': 'friedman_mse', 'learning_rate': 0.4, 'loss': 'deviance', 'max_depth': 9, 'max_features': 'log2', 'min_samples_leaf': 0.2, 'min_samples_split': 0.01, 'n_estimators': 90, 'random_state': 23, 'subsample': 0.6}\n",
      "0.500 (+/-0.000) for {'criterion': 'friedman_mse', 'learning_rate': 0.4, 'loss': 'deviance', 'max_depth': 9, 'max_features': 'log2', 'min_samples_leaf': 0.2, 'min_samples_split': 0.01, 'n_estimators': 110, 'random_state': 23, 'subsample': 0.4}\n",
      "0.793 (+/-0.026) for {'criterion': 'friedman_mse', 'learning_rate': 0.4, 'loss': 'deviance', 'max_depth': 9, 'max_features': 'log2', 'min_samples_leaf': 0.2, 'min_samples_split': 0.01, 'n_estimators': 110, 'random_state': 23, 'subsample': 0.6}\n",
      "0.500 (+/-0.000) for {'criterion': 'friedman_mse', 'learning_rate': 0.4, 'loss': 'deviance', 'max_depth': 9, 'max_features': 'log2', 'min_samples_leaf': 0.2, 'min_samples_split': 0.2, 'n_estimators': 90, 'random_state': 23, 'subsample': 0.4}\n",
      "0.786 (+/-0.022) for {'criterion': 'friedman_mse', 'learning_rate': 0.4, 'loss': 'deviance', 'max_depth': 9, 'max_features': 'log2', 'min_samples_leaf': 0.2, 'min_samples_split': 0.2, 'n_estimators': 90, 'random_state': 23, 'subsample': 0.6}\n",
      "0.500 (+/-0.000) for {'criterion': 'friedman_mse', 'learning_rate': 0.4, 'loss': 'deviance', 'max_depth': 9, 'max_features': 'log2', 'min_samples_leaf': 0.2, 'min_samples_split': 0.2, 'n_estimators': 110, 'random_state': 23, 'subsample': 0.4}\n",
      "0.793 (+/-0.026) for {'criterion': 'friedman_mse', 'learning_rate': 0.4, 'loss': 'deviance', 'max_depth': 9, 'max_features': 'log2', 'min_samples_leaf': 0.2, 'min_samples_split': 0.2, 'n_estimators': 110, 'random_state': 23, 'subsample': 0.6}\n",
      "0.933 (+/-0.028) for {'criterion': 'friedman_mse', 'learning_rate': 0.4, 'loss': 'deviance', 'max_depth': 11, 'max_features': 'log2', 'min_samples_leaf': 0.01, 'min_samples_split': 0.01, 'n_estimators': 90, 'random_state': 23, 'subsample': 0.4}\n",
      "0.941 (+/-0.029) for {'criterion': 'friedman_mse', 'learning_rate': 0.4, 'loss': 'deviance', 'max_depth': 11, 'max_features': 'log2', 'min_samples_leaf': 0.01, 'min_samples_split': 0.01, 'n_estimators': 90, 'random_state': 23, 'subsample': 0.6}\n",
      "0.936 (+/-0.028) for {'criterion': 'friedman_mse', 'learning_rate': 0.4, 'loss': 'deviance', 'max_depth': 11, 'max_features': 'log2', 'min_samples_leaf': 0.01, 'min_samples_split': 0.01, 'n_estimators': 110, 'random_state': 23, 'subsample': 0.4}\n",
      "0.943 (+/-0.032) for {'criterion': 'friedman_mse', 'learning_rate': 0.4, 'loss': 'deviance', 'max_depth': 11, 'max_features': 'log2', 'min_samples_leaf': 0.01, 'min_samples_split': 0.01, 'n_estimators': 110, 'random_state': 23, 'subsample': 0.6}\n",
      "0.900 (+/-0.027) for {'criterion': 'friedman_mse', 'learning_rate': 0.4, 'loss': 'deviance', 'max_depth': 11, 'max_features': 'log2', 'min_samples_leaf': 0.01, 'min_samples_split': 0.2, 'n_estimators': 90, 'random_state': 23, 'subsample': 0.4}\n",
      "0.921 (+/-0.033) for {'criterion': 'friedman_mse', 'learning_rate': 0.4, 'loss': 'deviance', 'max_depth': 11, 'max_features': 'log2', 'min_samples_leaf': 0.01, 'min_samples_split': 0.2, 'n_estimators': 90, 'random_state': 23, 'subsample': 0.6}\n",
      "0.905 (+/-0.028) for {'criterion': 'friedman_mse', 'learning_rate': 0.4, 'loss': 'deviance', 'max_depth': 11, 'max_features': 'log2', 'min_samples_leaf': 0.01, 'min_samples_split': 0.2, 'n_estimators': 110, 'random_state': 23, 'subsample': 0.4}\n",
      "0.926 (+/-0.026) for {'criterion': 'friedman_mse', 'learning_rate': 0.4, 'loss': 'deviance', 'max_depth': 11, 'max_features': 'log2', 'min_samples_leaf': 0.01, 'min_samples_split': 0.2, 'n_estimators': 110, 'random_state': 23, 'subsample': 0.6}\n",
      "0.500 (+/-0.000) for {'criterion': 'friedman_mse', 'learning_rate': 0.4, 'loss': 'deviance', 'max_depth': 11, 'max_features': 'log2', 'min_samples_leaf': 0.2, 'min_samples_split': 0.01, 'n_estimators': 90, 'random_state': 23, 'subsample': 0.4}\n",
      "0.786 (+/-0.022) for {'criterion': 'friedman_mse', 'learning_rate': 0.4, 'loss': 'deviance', 'max_depth': 11, 'max_features': 'log2', 'min_samples_leaf': 0.2, 'min_samples_split': 0.01, 'n_estimators': 90, 'random_state': 23, 'subsample': 0.6}\n",
      "0.500 (+/-0.000) for {'criterion': 'friedman_mse', 'learning_rate': 0.4, 'loss': 'deviance', 'max_depth': 11, 'max_features': 'log2', 'min_samples_leaf': 0.2, 'min_samples_split': 0.01, 'n_estimators': 110, 'random_state': 23, 'subsample': 0.4}\n",
      "0.793 (+/-0.026) for {'criterion': 'friedman_mse', 'learning_rate': 0.4, 'loss': 'deviance', 'max_depth': 11, 'max_features': 'log2', 'min_samples_leaf': 0.2, 'min_samples_split': 0.01, 'n_estimators': 110, 'random_state': 23, 'subsample': 0.6}\n",
      "0.500 (+/-0.000) for {'criterion': 'friedman_mse', 'learning_rate': 0.4, 'loss': 'deviance', 'max_depth': 11, 'max_features': 'log2', 'min_samples_leaf': 0.2, 'min_samples_split': 0.2, 'n_estimators': 90, 'random_state': 23, 'subsample': 0.4}\n",
      "0.786 (+/-0.022) for {'criterion': 'friedman_mse', 'learning_rate': 0.4, 'loss': 'deviance', 'max_depth': 11, 'max_features': 'log2', 'min_samples_leaf': 0.2, 'min_samples_split': 0.2, 'n_estimators': 90, 'random_state': 23, 'subsample': 0.6}\n",
      "0.500 (+/-0.000) for {'criterion': 'friedman_mse', 'learning_rate': 0.4, 'loss': 'deviance', 'max_depth': 11, 'max_features': 'log2', 'min_samples_leaf': 0.2, 'min_samples_split': 0.2, 'n_estimators': 110, 'random_state': 23, 'subsample': 0.4}\n",
      "0.793 (+/-0.026) for {'criterion': 'friedman_mse', 'learning_rate': 0.4, 'loss': 'deviance', 'max_depth': 11, 'max_features': 'log2', 'min_samples_leaf': 0.2, 'min_samples_split': 0.2, 'n_estimators': 110, 'random_state': 23, 'subsample': 0.6}\n",
      "0.930 (+/-0.027) for {'criterion': 'friedman_mse', 'learning_rate': 0.5, 'loss': 'exponential', 'max_depth': 9, 'max_features': 'log2', 'min_samples_leaf': 0.01, 'min_samples_split': 0.01, 'n_estimators': 90, 'random_state': 23, 'subsample': 0.4}\n",
      "0.942 (+/-0.025) for {'criterion': 'friedman_mse', 'learning_rate': 0.5, 'loss': 'exponential', 'max_depth': 9, 'max_features': 'log2', 'min_samples_leaf': 0.01, 'min_samples_split': 0.01, 'n_estimators': 90, 'random_state': 23, 'subsample': 0.6}\n",
      "0.933 (+/-0.024) for {'criterion': 'friedman_mse', 'learning_rate': 0.5, 'loss': 'exponential', 'max_depth': 9, 'max_features': 'log2', 'min_samples_leaf': 0.01, 'min_samples_split': 0.01, 'n_estimators': 110, 'random_state': 23, 'subsample': 0.4}\n",
      "0.943 (+/-0.026) for {'criterion': 'friedman_mse', 'learning_rate': 0.5, 'loss': 'exponential', 'max_depth': 9, 'max_features': 'log2', 'min_samples_leaf': 0.01, 'min_samples_split': 0.01, 'n_estimators': 110, 'random_state': 23, 'subsample': 0.6}\n",
      "0.901 (+/-0.028) for {'criterion': 'friedman_mse', 'learning_rate': 0.5, 'loss': 'exponential', 'max_depth': 9, 'max_features': 'log2', 'min_samples_leaf': 0.01, 'min_samples_split': 0.2, 'n_estimators': 90, 'random_state': 23, 'subsample': 0.4}\n",
      "0.920 (+/-0.025) for {'criterion': 'friedman_mse', 'learning_rate': 0.5, 'loss': 'exponential', 'max_depth': 9, 'max_features': 'log2', 'min_samples_leaf': 0.01, 'min_samples_split': 0.2, 'n_estimators': 90, 'random_state': 23, 'subsample': 0.6}\n",
      "0.905 (+/-0.031) for {'criterion': 'friedman_mse', 'learning_rate': 0.5, 'loss': 'exponential', 'max_depth': 9, 'max_features': 'log2', 'min_samples_leaf': 0.01, 'min_samples_split': 0.2, 'n_estimators': 110, 'random_state': 23, 'subsample': 0.4}\n",
      "0.923 (+/-0.029) for {'criterion': 'friedman_mse', 'learning_rate': 0.5, 'loss': 'exponential', 'max_depth': 9, 'max_features': 'log2', 'min_samples_leaf': 0.01, 'min_samples_split': 0.2, 'n_estimators': 110, 'random_state': 23, 'subsample': 0.6}\n",
      "0.500 (+/-0.000) for {'criterion': 'friedman_mse', 'learning_rate': 0.5, 'loss': 'exponential', 'max_depth': 9, 'max_features': 'log2', 'min_samples_leaf': 0.2, 'min_samples_split': 0.01, 'n_estimators': 90, 'random_state': 23, 'subsample': 0.4}\n",
      "0.788 (+/-0.023) for {'criterion': 'friedman_mse', 'learning_rate': 0.5, 'loss': 'exponential', 'max_depth': 9, 'max_features': 'log2', 'min_samples_leaf': 0.2, 'min_samples_split': 0.01, 'n_estimators': 90, 'random_state': 23, 'subsample': 0.6}\n",
      "0.500 (+/-0.000) for {'criterion': 'friedman_mse', 'learning_rate': 0.5, 'loss': 'exponential', 'max_depth': 9, 'max_features': 'log2', 'min_samples_leaf': 0.2, 'min_samples_split': 0.01, 'n_estimators': 110, 'random_state': 23, 'subsample': 0.4}\n",
      "0.790 (+/-0.030) for {'criterion': 'friedman_mse', 'learning_rate': 0.5, 'loss': 'exponential', 'max_depth': 9, 'max_features': 'log2', 'min_samples_leaf': 0.2, 'min_samples_split': 0.01, 'n_estimators': 110, 'random_state': 23, 'subsample': 0.6}\n",
      "0.500 (+/-0.000) for {'criterion': 'friedman_mse', 'learning_rate': 0.5, 'loss': 'exponential', 'max_depth': 9, 'max_features': 'log2', 'min_samples_leaf': 0.2, 'min_samples_split': 0.2, 'n_estimators': 90, 'random_state': 23, 'subsample': 0.4}\n",
      "0.788 (+/-0.023) for {'criterion': 'friedman_mse', 'learning_rate': 0.5, 'loss': 'exponential', 'max_depth': 9, 'max_features': 'log2', 'min_samples_leaf': 0.2, 'min_samples_split': 0.2, 'n_estimators': 90, 'random_state': 23, 'subsample': 0.6}\n",
      "0.500 (+/-0.000) for {'criterion': 'friedman_mse', 'learning_rate': 0.5, 'loss': 'exponential', 'max_depth': 9, 'max_features': 'log2', 'min_samples_leaf': 0.2, 'min_samples_split': 0.2, 'n_estimators': 110, 'random_state': 23, 'subsample': 0.4}\n",
      "0.790 (+/-0.030) for {'criterion': 'friedman_mse', 'learning_rate': 0.5, 'loss': 'exponential', 'max_depth': 9, 'max_features': 'log2', 'min_samples_leaf': 0.2, 'min_samples_split': 0.2, 'n_estimators': 110, 'random_state': 23, 'subsample': 0.6}\n",
      "0.934 (+/-0.030) for {'criterion': 'friedman_mse', 'learning_rate': 0.5, 'loss': 'exponential', 'max_depth': 11, 'max_features': 'log2', 'min_samples_leaf': 0.01, 'min_samples_split': 0.01, 'n_estimators': 90, 'random_state': 23, 'subsample': 0.4}\n",
      "0.942 (+/-0.023) for {'criterion': 'friedman_mse', 'learning_rate': 0.5, 'loss': 'exponential', 'max_depth': 11, 'max_features': 'log2', 'min_samples_leaf': 0.01, 'min_samples_split': 0.01, 'n_estimators': 90, 'random_state': 23, 'subsample': 0.6}\n",
      "0.940 (+/-0.033) for {'criterion': 'friedman_mse', 'learning_rate': 0.5, 'loss': 'exponential', 'max_depth': 11, 'max_features': 'log2', 'min_samples_leaf': 0.01, 'min_samples_split': 0.01, 'n_estimators': 110, 'random_state': 23, 'subsample': 0.4}\n",
      "0.944 (+/-0.026) for {'criterion': 'friedman_mse', 'learning_rate': 0.5, 'loss': 'exponential', 'max_depth': 11, 'max_features': 'log2', 'min_samples_leaf': 0.01, 'min_samples_split': 0.01, 'n_estimators': 110, 'random_state': 23, 'subsample': 0.6}\n",
      "0.900 (+/-0.027) for {'criterion': 'friedman_mse', 'learning_rate': 0.5, 'loss': 'exponential', 'max_depth': 11, 'max_features': 'log2', 'min_samples_leaf': 0.01, 'min_samples_split': 0.2, 'n_estimators': 90, 'random_state': 23, 'subsample': 0.4}\n",
      "0.919 (+/-0.023) for {'criterion': 'friedman_mse', 'learning_rate': 0.5, 'loss': 'exponential', 'max_depth': 11, 'max_features': 'log2', 'min_samples_leaf': 0.01, 'min_samples_split': 0.2, 'n_estimators': 90, 'random_state': 23, 'subsample': 0.6}\n",
      "0.905 (+/-0.031) for {'criterion': 'friedman_mse', 'learning_rate': 0.5, 'loss': 'exponential', 'max_depth': 11, 'max_features': 'log2', 'min_samples_leaf': 0.01, 'min_samples_split': 0.2, 'n_estimators': 110, 'random_state': 23, 'subsample': 0.4}\n",
      "0.924 (+/-0.025) for {'criterion': 'friedman_mse', 'learning_rate': 0.5, 'loss': 'exponential', 'max_depth': 11, 'max_features': 'log2', 'min_samples_leaf': 0.01, 'min_samples_split': 0.2, 'n_estimators': 110, 'random_state': 23, 'subsample': 0.6}\n",
      "0.500 (+/-0.000) for {'criterion': 'friedman_mse', 'learning_rate': 0.5, 'loss': 'exponential', 'max_depth': 11, 'max_features': 'log2', 'min_samples_leaf': 0.2, 'min_samples_split': 0.01, 'n_estimators': 90, 'random_state': 23, 'subsample': 0.4}\n",
      "0.788 (+/-0.023) for {'criterion': 'friedman_mse', 'learning_rate': 0.5, 'loss': 'exponential', 'max_depth': 11, 'max_features': 'log2', 'min_samples_leaf': 0.2, 'min_samples_split': 0.01, 'n_estimators': 90, 'random_state': 23, 'subsample': 0.6}\n",
      "0.500 (+/-0.000) for {'criterion': 'friedman_mse', 'learning_rate': 0.5, 'loss': 'exponential', 'max_depth': 11, 'max_features': 'log2', 'min_samples_leaf': 0.2, 'min_samples_split': 0.01, 'n_estimators': 110, 'random_state': 23, 'subsample': 0.4}\n",
      "0.790 (+/-0.030) for {'criterion': 'friedman_mse', 'learning_rate': 0.5, 'loss': 'exponential', 'max_depth': 11, 'max_features': 'log2', 'min_samples_leaf': 0.2, 'min_samples_split': 0.01, 'n_estimators': 110, 'random_state': 23, 'subsample': 0.6}\n",
      "0.500 (+/-0.000) for {'criterion': 'friedman_mse', 'learning_rate': 0.5, 'loss': 'exponential', 'max_depth': 11, 'max_features': 'log2', 'min_samples_leaf': 0.2, 'min_samples_split': 0.2, 'n_estimators': 90, 'random_state': 23, 'subsample': 0.4}\n",
      "0.788 (+/-0.023) for {'criterion': 'friedman_mse', 'learning_rate': 0.5, 'loss': 'exponential', 'max_depth': 11, 'max_features': 'log2', 'min_samples_leaf': 0.2, 'min_samples_split': 0.2, 'n_estimators': 90, 'random_state': 23, 'subsample': 0.6}\n",
      "0.500 (+/-0.000) for {'criterion': 'friedman_mse', 'learning_rate': 0.5, 'loss': 'exponential', 'max_depth': 11, 'max_features': 'log2', 'min_samples_leaf': 0.2, 'min_samples_split': 0.2, 'n_estimators': 110, 'random_state': 23, 'subsample': 0.4}\n",
      "0.790 (+/-0.030) for {'criterion': 'friedman_mse', 'learning_rate': 0.5, 'loss': 'exponential', 'max_depth': 11, 'max_features': 'log2', 'min_samples_leaf': 0.2, 'min_samples_split': 0.2, 'n_estimators': 110, 'random_state': 23, 'subsample': 0.6}\n",
      "0.932 (+/-0.038) for {'criterion': 'friedman_mse', 'learning_rate': 0.5, 'loss': 'deviance', 'max_depth': 9, 'max_features': 'log2', 'min_samples_leaf': 0.01, 'min_samples_split': 0.01, 'n_estimators': 90, 'random_state': 23, 'subsample': 0.4}\n",
      "0.945 (+/-0.030) for {'criterion': 'friedman_mse', 'learning_rate': 0.5, 'loss': 'deviance', 'max_depth': 9, 'max_features': 'log2', 'min_samples_leaf': 0.01, 'min_samples_split': 0.01, 'n_estimators': 90, 'random_state': 23, 'subsample': 0.6}\n",
      "0.931 (+/-0.036) for {'criterion': 'friedman_mse', 'learning_rate': 0.5, 'loss': 'deviance', 'max_depth': 9, 'max_features': 'log2', 'min_samples_leaf': 0.01, 'min_samples_split': 0.01, 'n_estimators': 110, 'random_state': 23, 'subsample': 0.4}\n",
      "0.945 (+/-0.029) for {'criterion': 'friedman_mse', 'learning_rate': 0.5, 'loss': 'deviance', 'max_depth': 9, 'max_features': 'log2', 'min_samples_leaf': 0.01, 'min_samples_split': 0.01, 'n_estimators': 110, 'random_state': 23, 'subsample': 0.6}\n",
      "0.907 (+/-0.025) for {'criterion': 'friedman_mse', 'learning_rate': 0.5, 'loss': 'deviance', 'max_depth': 9, 'max_features': 'log2', 'min_samples_leaf': 0.01, 'min_samples_split': 0.2, 'n_estimators': 90, 'random_state': 23, 'subsample': 0.4}\n",
      "0.922 (+/-0.029) for {'criterion': 'friedman_mse', 'learning_rate': 0.5, 'loss': 'deviance', 'max_depth': 9, 'max_features': 'log2', 'min_samples_leaf': 0.01, 'min_samples_split': 0.2, 'n_estimators': 90, 'random_state': 23, 'subsample': 0.6}\n",
      "0.910 (+/-0.029) for {'criterion': 'friedman_mse', 'learning_rate': 0.5, 'loss': 'deviance', 'max_depth': 9, 'max_features': 'log2', 'min_samples_leaf': 0.01, 'min_samples_split': 0.2, 'n_estimators': 110, 'random_state': 23, 'subsample': 0.4}\n",
      "0.924 (+/-0.032) for {'criterion': 'friedman_mse', 'learning_rate': 0.5, 'loss': 'deviance', 'max_depth': 9, 'max_features': 'log2', 'min_samples_leaf': 0.01, 'min_samples_split': 0.2, 'n_estimators': 110, 'random_state': 23, 'subsample': 0.6}\n",
      "0.500 (+/-0.000) for {'criterion': 'friedman_mse', 'learning_rate': 0.5, 'loss': 'deviance', 'max_depth': 9, 'max_features': 'log2', 'min_samples_leaf': 0.2, 'min_samples_split': 0.01, 'n_estimators': 90, 'random_state': 23, 'subsample': 0.4}\n",
      "0.792 (+/-0.025) for {'criterion': 'friedman_mse', 'learning_rate': 0.5, 'loss': 'deviance', 'max_depth': 9, 'max_features': 'log2', 'min_samples_leaf': 0.2, 'min_samples_split': 0.01, 'n_estimators': 90, 'random_state': 23, 'subsample': 0.6}\n",
      "0.500 (+/-0.000) for {'criterion': 'friedman_mse', 'learning_rate': 0.5, 'loss': 'deviance', 'max_depth': 9, 'max_features': 'log2', 'min_samples_leaf': 0.2, 'min_samples_split': 0.01, 'n_estimators': 110, 'random_state': 23, 'subsample': 0.4}\n",
      "0.798 (+/-0.025) for {'criterion': 'friedman_mse', 'learning_rate': 0.5, 'loss': 'deviance', 'max_depth': 9, 'max_features': 'log2', 'min_samples_leaf': 0.2, 'min_samples_split': 0.01, 'n_estimators': 110, 'random_state': 23, 'subsample': 0.6}\n",
      "0.500 (+/-0.000) for {'criterion': 'friedman_mse', 'learning_rate': 0.5, 'loss': 'deviance', 'max_depth': 9, 'max_features': 'log2', 'min_samples_leaf': 0.2, 'min_samples_split': 0.2, 'n_estimators': 90, 'random_state': 23, 'subsample': 0.4}\n",
      "0.792 (+/-0.025) for {'criterion': 'friedman_mse', 'learning_rate': 0.5, 'loss': 'deviance', 'max_depth': 9, 'max_features': 'log2', 'min_samples_leaf': 0.2, 'min_samples_split': 0.2, 'n_estimators': 90, 'random_state': 23, 'subsample': 0.6}\n",
      "0.500 (+/-0.000) for {'criterion': 'friedman_mse', 'learning_rate': 0.5, 'loss': 'deviance', 'max_depth': 9, 'max_features': 'log2', 'min_samples_leaf': 0.2, 'min_samples_split': 0.2, 'n_estimators': 110, 'random_state': 23, 'subsample': 0.4}\n",
      "0.798 (+/-0.025) for {'criterion': 'friedman_mse', 'learning_rate': 0.5, 'loss': 'deviance', 'max_depth': 9, 'max_features': 'log2', 'min_samples_leaf': 0.2, 'min_samples_split': 0.2, 'n_estimators': 110, 'random_state': 23, 'subsample': 0.6}\n",
      "0.936 (+/-0.032) for {'criterion': 'friedman_mse', 'learning_rate': 0.5, 'loss': 'deviance', 'max_depth': 11, 'max_features': 'log2', 'min_samples_leaf': 0.01, 'min_samples_split': 0.01, 'n_estimators': 90, 'random_state': 23, 'subsample': 0.4}\n",
      "0.942 (+/-0.028) for {'criterion': 'friedman_mse', 'learning_rate': 0.5, 'loss': 'deviance', 'max_depth': 11, 'max_features': 'log2', 'min_samples_leaf': 0.01, 'min_samples_split': 0.01, 'n_estimators': 90, 'random_state': 23, 'subsample': 0.6}\n",
      "0.938 (+/-0.028) for {'criterion': 'friedman_mse', 'learning_rate': 0.5, 'loss': 'deviance', 'max_depth': 11, 'max_features': 'log2', 'min_samples_leaf': 0.01, 'min_samples_split': 0.01, 'n_estimators': 110, 'random_state': 23, 'subsample': 0.4}\n",
      "0.942 (+/-0.030) for {'criterion': 'friedman_mse', 'learning_rate': 0.5, 'loss': 'deviance', 'max_depth': 11, 'max_features': 'log2', 'min_samples_leaf': 0.01, 'min_samples_split': 0.01, 'n_estimators': 110, 'random_state': 23, 'subsample': 0.6}\n",
      "0.908 (+/-0.026) for {'criterion': 'friedman_mse', 'learning_rate': 0.5, 'loss': 'deviance', 'max_depth': 11, 'max_features': 'log2', 'min_samples_leaf': 0.01, 'min_samples_split': 0.2, 'n_estimators': 90, 'random_state': 23, 'subsample': 0.4}\n",
      "0.925 (+/-0.029) for {'criterion': 'friedman_mse', 'learning_rate': 0.5, 'loss': 'deviance', 'max_depth': 11, 'max_features': 'log2', 'min_samples_leaf': 0.01, 'min_samples_split': 0.2, 'n_estimators': 90, 'random_state': 23, 'subsample': 0.6}\n",
      "0.909 (+/-0.028) for {'criterion': 'friedman_mse', 'learning_rate': 0.5, 'loss': 'deviance', 'max_depth': 11, 'max_features': 'log2', 'min_samples_leaf': 0.01, 'min_samples_split': 0.2, 'n_estimators': 110, 'random_state': 23, 'subsample': 0.4}\n",
      "0.927 (+/-0.031) for {'criterion': 'friedman_mse', 'learning_rate': 0.5, 'loss': 'deviance', 'max_depth': 11, 'max_features': 'log2', 'min_samples_leaf': 0.01, 'min_samples_split': 0.2, 'n_estimators': 110, 'random_state': 23, 'subsample': 0.6}\n",
      "0.500 (+/-0.000) for {'criterion': 'friedman_mse', 'learning_rate': 0.5, 'loss': 'deviance', 'max_depth': 11, 'max_features': 'log2', 'min_samples_leaf': 0.2, 'min_samples_split': 0.01, 'n_estimators': 90, 'random_state': 23, 'subsample': 0.4}\n",
      "0.792 (+/-0.025) for {'criterion': 'friedman_mse', 'learning_rate': 0.5, 'loss': 'deviance', 'max_depth': 11, 'max_features': 'log2', 'min_samples_leaf': 0.2, 'min_samples_split': 0.01, 'n_estimators': 90, 'random_state': 23, 'subsample': 0.6}\n",
      "0.500 (+/-0.000) for {'criterion': 'friedman_mse', 'learning_rate': 0.5, 'loss': 'deviance', 'max_depth': 11, 'max_features': 'log2', 'min_samples_leaf': 0.2, 'min_samples_split': 0.01, 'n_estimators': 110, 'random_state': 23, 'subsample': 0.4}\n",
      "0.798 (+/-0.025) for {'criterion': 'friedman_mse', 'learning_rate': 0.5, 'loss': 'deviance', 'max_depth': 11, 'max_features': 'log2', 'min_samples_leaf': 0.2, 'min_samples_split': 0.01, 'n_estimators': 110, 'random_state': 23, 'subsample': 0.6}\n",
      "0.500 (+/-0.000) for {'criterion': 'friedman_mse', 'learning_rate': 0.5, 'loss': 'deviance', 'max_depth': 11, 'max_features': 'log2', 'min_samples_leaf': 0.2, 'min_samples_split': 0.2, 'n_estimators': 90, 'random_state': 23, 'subsample': 0.4}\n",
      "0.792 (+/-0.025) for {'criterion': 'friedman_mse', 'learning_rate': 0.5, 'loss': 'deviance', 'max_depth': 11, 'max_features': 'log2', 'min_samples_leaf': 0.2, 'min_samples_split': 0.2, 'n_estimators': 90, 'random_state': 23, 'subsample': 0.6}\n",
      "0.500 (+/-0.000) for {'criterion': 'friedman_mse', 'learning_rate': 0.5, 'loss': 'deviance', 'max_depth': 11, 'max_features': 'log2', 'min_samples_leaf': 0.2, 'min_samples_split': 0.2, 'n_estimators': 110, 'random_state': 23, 'subsample': 0.4}\n",
      "0.798 (+/-0.025) for {'criterion': 'friedman_mse', 'learning_rate': 0.5, 'loss': 'deviance', 'max_depth': 11, 'max_features': 'log2', 'min_samples_leaf': 0.2, 'min_samples_split': 0.2, 'n_estimators': 110, 'random_state': 23, 'subsample': 0.6}\n",
      "\n",
      "Detailed classification report:\n",
      "\n",
      "The model is trained on the full development set.\n",
      "The scores are computed on the full evaluation set.\n",
      "\n",
      "              precision    recall  f1-score   support\n",
      "\n",
      "           0       0.95      0.93      0.94       977\n",
      "           1       0.34      0.45      0.38        78\n",
      "\n",
      "   micro avg       0.89      0.89      0.89      1055\n",
      "   macro avg       0.65      0.69      0.66      1055\n",
      "weighted avg       0.91      0.89      0.90      1055\n",
      "\n",
      "\n",
      "# Tuning hyper-parameters for f1\n",
      "\n"
     ]
    },
    {
     "name": "stdout",
     "output_type": "stream",
     "text": [
      "Best parameters set found on development set:\n",
      "\n",
      "{'criterion': 'friedman_mse', 'learning_rate': 0.4, 'loss': 'exponential', 'max_depth': 11, 'max_features': 'log2', 'min_samples_leaf': 0.01, 'min_samples_split': 0.01, 'n_estimators': 110, 'random_state': 23, 'subsample': 0.6}\n",
      "\n",
      "Grid scores on development set:\n",
      "\n",
      "0.933 (+/-0.024) for {'criterion': 'friedman_mse', 'learning_rate': 0.4, 'loss': 'exponential', 'max_depth': 9, 'max_features': 'log2', 'min_samples_leaf': 0.01, 'min_samples_split': 0.01, 'n_estimators': 90, 'random_state': 23, 'subsample': 0.4}\n",
      "0.941 (+/-0.027) for {'criterion': 'friedman_mse', 'learning_rate': 0.4, 'loss': 'exponential', 'max_depth': 9, 'max_features': 'log2', 'min_samples_leaf': 0.01, 'min_samples_split': 0.01, 'n_estimators': 90, 'random_state': 23, 'subsample': 0.6}\n",
      "0.936 (+/-0.023) for {'criterion': 'friedman_mse', 'learning_rate': 0.4, 'loss': 'exponential', 'max_depth': 9, 'max_features': 'log2', 'min_samples_leaf': 0.01, 'min_samples_split': 0.01, 'n_estimators': 110, 'random_state': 23, 'subsample': 0.4}\n",
      "0.942 (+/-0.024) for {'criterion': 'friedman_mse', 'learning_rate': 0.4, 'loss': 'exponential', 'max_depth': 9, 'max_features': 'log2', 'min_samples_leaf': 0.01, 'min_samples_split': 0.01, 'n_estimators': 110, 'random_state': 23, 'subsample': 0.6}\n",
      "0.895 (+/-0.019) for {'criterion': 'friedman_mse', 'learning_rate': 0.4, 'loss': 'exponential', 'max_depth': 9, 'max_features': 'log2', 'min_samples_leaf': 0.01, 'min_samples_split': 0.2, 'n_estimators': 90, 'random_state': 23, 'subsample': 0.4}\n",
      "0.916 (+/-0.027) for {'criterion': 'friedman_mse', 'learning_rate': 0.4, 'loss': 'exponential', 'max_depth': 9, 'max_features': 'log2', 'min_samples_leaf': 0.01, 'min_samples_split': 0.2, 'n_estimators': 90, 'random_state': 23, 'subsample': 0.6}\n",
      "0.901 (+/-0.023) for {'criterion': 'friedman_mse', 'learning_rate': 0.4, 'loss': 'exponential', 'max_depth': 9, 'max_features': 'log2', 'min_samples_leaf': 0.01, 'min_samples_split': 0.2, 'n_estimators': 110, 'random_state': 23, 'subsample': 0.4}\n",
      "0.920 (+/-0.024) for {'criterion': 'friedman_mse', 'learning_rate': 0.4, 'loss': 'exponential', 'max_depth': 9, 'max_features': 'log2', 'min_samples_leaf': 0.01, 'min_samples_split': 0.2, 'n_estimators': 110, 'random_state': 23, 'subsample': 0.6}\n",
      "0.333 (+/-0.000) for {'criterion': 'friedman_mse', 'learning_rate': 0.4, 'loss': 'exponential', 'max_depth': 9, 'max_features': 'log2', 'min_samples_leaf': 0.2, 'min_samples_split': 0.01, 'n_estimators': 90, 'random_state': 23, 'subsample': 0.4}\n",
      "0.784 (+/-0.022) for {'criterion': 'friedman_mse', 'learning_rate': 0.4, 'loss': 'exponential', 'max_depth': 9, 'max_features': 'log2', 'min_samples_leaf': 0.2, 'min_samples_split': 0.01, 'n_estimators': 90, 'random_state': 23, 'subsample': 0.6}\n",
      "0.333 (+/-0.000) for {'criterion': 'friedman_mse', 'learning_rate': 0.4, 'loss': 'exponential', 'max_depth': 9, 'max_features': 'log2', 'min_samples_leaf': 0.2, 'min_samples_split': 0.01, 'n_estimators': 110, 'random_state': 23, 'subsample': 0.4}\n",
      "0.787 (+/-0.029) for {'criterion': 'friedman_mse', 'learning_rate': 0.4, 'loss': 'exponential', 'max_depth': 9, 'max_features': 'log2', 'min_samples_leaf': 0.2, 'min_samples_split': 0.01, 'n_estimators': 110, 'random_state': 23, 'subsample': 0.6}\n",
      "0.333 (+/-0.000) for {'criterion': 'friedman_mse', 'learning_rate': 0.4, 'loss': 'exponential', 'max_depth': 9, 'max_features': 'log2', 'min_samples_leaf': 0.2, 'min_samples_split': 0.2, 'n_estimators': 90, 'random_state': 23, 'subsample': 0.4}\n",
      "0.784 (+/-0.022) for {'criterion': 'friedman_mse', 'learning_rate': 0.4, 'loss': 'exponential', 'max_depth': 9, 'max_features': 'log2', 'min_samples_leaf': 0.2, 'min_samples_split': 0.2, 'n_estimators': 90, 'random_state': 23, 'subsample': 0.6}\n",
      "0.333 (+/-0.000) for {'criterion': 'friedman_mse', 'learning_rate': 0.4, 'loss': 'exponential', 'max_depth': 9, 'max_features': 'log2', 'min_samples_leaf': 0.2, 'min_samples_split': 0.2, 'n_estimators': 110, 'random_state': 23, 'subsample': 0.4}\n",
      "0.787 (+/-0.029) for {'criterion': 'friedman_mse', 'learning_rate': 0.4, 'loss': 'exponential', 'max_depth': 9, 'max_features': 'log2', 'min_samples_leaf': 0.2, 'min_samples_split': 0.2, 'n_estimators': 110, 'random_state': 23, 'subsample': 0.6}\n",
      "0.935 (+/-0.024) for {'criterion': 'friedman_mse', 'learning_rate': 0.4, 'loss': 'exponential', 'max_depth': 11, 'max_features': 'log2', 'min_samples_leaf': 0.01, 'min_samples_split': 0.01, 'n_estimators': 90, 'random_state': 23, 'subsample': 0.4}\n",
      "0.943 (+/-0.029) for {'criterion': 'friedman_mse', 'learning_rate': 0.4, 'loss': 'exponential', 'max_depth': 11, 'max_features': 'log2', 'min_samples_leaf': 0.01, 'min_samples_split': 0.01, 'n_estimators': 90, 'random_state': 23, 'subsample': 0.6}\n",
      "0.935 (+/-0.031) for {'criterion': 'friedman_mse', 'learning_rate': 0.4, 'loss': 'exponential', 'max_depth': 11, 'max_features': 'log2', 'min_samples_leaf': 0.01, 'min_samples_split': 0.01, 'n_estimators': 110, 'random_state': 23, 'subsample': 0.4}\n",
      "0.945 (+/-0.032) for {'criterion': 'friedman_mse', 'learning_rate': 0.4, 'loss': 'exponential', 'max_depth': 11, 'max_features': 'log2', 'min_samples_leaf': 0.01, 'min_samples_split': 0.01, 'n_estimators': 110, 'random_state': 23, 'subsample': 0.6}\n",
      "0.895 (+/-0.019) for {'criterion': 'friedman_mse', 'learning_rate': 0.4, 'loss': 'exponential', 'max_depth': 11, 'max_features': 'log2', 'min_samples_leaf': 0.01, 'min_samples_split': 0.2, 'n_estimators': 90, 'random_state': 23, 'subsample': 0.4}\n",
      "0.915 (+/-0.027) for {'criterion': 'friedman_mse', 'learning_rate': 0.4, 'loss': 'exponential', 'max_depth': 11, 'max_features': 'log2', 'min_samples_leaf': 0.01, 'min_samples_split': 0.2, 'n_estimators': 90, 'random_state': 23, 'subsample': 0.6}\n",
      "0.902 (+/-0.022) for {'criterion': 'friedman_mse', 'learning_rate': 0.4, 'loss': 'exponential', 'max_depth': 11, 'max_features': 'log2', 'min_samples_leaf': 0.01, 'min_samples_split': 0.2, 'n_estimators': 110, 'random_state': 23, 'subsample': 0.4}\n",
      "0.920 (+/-0.028) for {'criterion': 'friedman_mse', 'learning_rate': 0.4, 'loss': 'exponential', 'max_depth': 11, 'max_features': 'log2', 'min_samples_leaf': 0.01, 'min_samples_split': 0.2, 'n_estimators': 110, 'random_state': 23, 'subsample': 0.6}\n",
      "0.333 (+/-0.000) for {'criterion': 'friedman_mse', 'learning_rate': 0.4, 'loss': 'exponential', 'max_depth': 11, 'max_features': 'log2', 'min_samples_leaf': 0.2, 'min_samples_split': 0.01, 'n_estimators': 90, 'random_state': 23, 'subsample': 0.4}\n",
      "0.784 (+/-0.022) for {'criterion': 'friedman_mse', 'learning_rate': 0.4, 'loss': 'exponential', 'max_depth': 11, 'max_features': 'log2', 'min_samples_leaf': 0.2, 'min_samples_split': 0.01, 'n_estimators': 90, 'random_state': 23, 'subsample': 0.6}\n",
      "0.333 (+/-0.000) for {'criterion': 'friedman_mse', 'learning_rate': 0.4, 'loss': 'exponential', 'max_depth': 11, 'max_features': 'log2', 'min_samples_leaf': 0.2, 'min_samples_split': 0.01, 'n_estimators': 110, 'random_state': 23, 'subsample': 0.4}\n",
      "0.787 (+/-0.029) for {'criterion': 'friedman_mse', 'learning_rate': 0.4, 'loss': 'exponential', 'max_depth': 11, 'max_features': 'log2', 'min_samples_leaf': 0.2, 'min_samples_split': 0.01, 'n_estimators': 110, 'random_state': 23, 'subsample': 0.6}\n",
      "0.333 (+/-0.000) for {'criterion': 'friedman_mse', 'learning_rate': 0.4, 'loss': 'exponential', 'max_depth': 11, 'max_features': 'log2', 'min_samples_leaf': 0.2, 'min_samples_split': 0.2, 'n_estimators': 90, 'random_state': 23, 'subsample': 0.4}\n",
      "0.784 (+/-0.022) for {'criterion': 'friedman_mse', 'learning_rate': 0.4, 'loss': 'exponential', 'max_depth': 11, 'max_features': 'log2', 'min_samples_leaf': 0.2, 'min_samples_split': 0.2, 'n_estimators': 90, 'random_state': 23, 'subsample': 0.6}\n",
      "0.333 (+/-0.000) for {'criterion': 'friedman_mse', 'learning_rate': 0.4, 'loss': 'exponential', 'max_depth': 11, 'max_features': 'log2', 'min_samples_leaf': 0.2, 'min_samples_split': 0.2, 'n_estimators': 110, 'random_state': 23, 'subsample': 0.4}\n",
      "0.787 (+/-0.029) for {'criterion': 'friedman_mse', 'learning_rate': 0.4, 'loss': 'exponential', 'max_depth': 11, 'max_features': 'log2', 'min_samples_leaf': 0.2, 'min_samples_split': 0.2, 'n_estimators': 110, 'random_state': 23, 'subsample': 0.6}\n",
      "0.934 (+/-0.024) for {'criterion': 'friedman_mse', 'learning_rate': 0.4, 'loss': 'deviance', 'max_depth': 9, 'max_features': 'log2', 'min_samples_leaf': 0.01, 'min_samples_split': 0.01, 'n_estimators': 90, 'random_state': 23, 'subsample': 0.4}\n",
      "0.942 (+/-0.029) for {'criterion': 'friedman_mse', 'learning_rate': 0.4, 'loss': 'deviance', 'max_depth': 9, 'max_features': 'log2', 'min_samples_leaf': 0.01, 'min_samples_split': 0.01, 'n_estimators': 90, 'random_state': 23, 'subsample': 0.6}\n",
      "0.934 (+/-0.020) for {'criterion': 'friedman_mse', 'learning_rate': 0.4, 'loss': 'deviance', 'max_depth': 9, 'max_features': 'log2', 'min_samples_leaf': 0.01, 'min_samples_split': 0.01, 'n_estimators': 110, 'random_state': 23, 'subsample': 0.4}\n",
      "0.944 (+/-0.030) for {'criterion': 'friedman_mse', 'learning_rate': 0.4, 'loss': 'deviance', 'max_depth': 9, 'max_features': 'log2', 'min_samples_leaf': 0.01, 'min_samples_split': 0.01, 'n_estimators': 110, 'random_state': 23, 'subsample': 0.6}\n",
      "0.900 (+/-0.024) for {'criterion': 'friedman_mse', 'learning_rate': 0.4, 'loss': 'deviance', 'max_depth': 9, 'max_features': 'log2', 'min_samples_leaf': 0.01, 'min_samples_split': 0.2, 'n_estimators': 90, 'random_state': 23, 'subsample': 0.4}\n",
      "0.920 (+/-0.027) for {'criterion': 'friedman_mse', 'learning_rate': 0.4, 'loss': 'deviance', 'max_depth': 9, 'max_features': 'log2', 'min_samples_leaf': 0.01, 'min_samples_split': 0.2, 'n_estimators': 90, 'random_state': 23, 'subsample': 0.6}\n",
      "0.904 (+/-0.030) for {'criterion': 'friedman_mse', 'learning_rate': 0.4, 'loss': 'deviance', 'max_depth': 9, 'max_features': 'log2', 'min_samples_leaf': 0.01, 'min_samples_split': 0.2, 'n_estimators': 110, 'random_state': 23, 'subsample': 0.4}\n",
      "0.924 (+/-0.032) for {'criterion': 'friedman_mse', 'learning_rate': 0.4, 'loss': 'deviance', 'max_depth': 9, 'max_features': 'log2', 'min_samples_leaf': 0.01, 'min_samples_split': 0.2, 'n_estimators': 110, 'random_state': 23, 'subsample': 0.6}\n",
      "0.333 (+/-0.000) for {'criterion': 'friedman_mse', 'learning_rate': 0.4, 'loss': 'deviance', 'max_depth': 9, 'max_features': 'log2', 'min_samples_leaf': 0.2, 'min_samples_split': 0.01, 'n_estimators': 90, 'random_state': 23, 'subsample': 0.4}\n",
      "0.786 (+/-0.022) for {'criterion': 'friedman_mse', 'learning_rate': 0.4, 'loss': 'deviance', 'max_depth': 9, 'max_features': 'log2', 'min_samples_leaf': 0.2, 'min_samples_split': 0.01, 'n_estimators': 90, 'random_state': 23, 'subsample': 0.6}\n",
      "0.333 (+/-0.000) for {'criterion': 'friedman_mse', 'learning_rate': 0.4, 'loss': 'deviance', 'max_depth': 9, 'max_features': 'log2', 'min_samples_leaf': 0.2, 'min_samples_split': 0.01, 'n_estimators': 110, 'random_state': 23, 'subsample': 0.4}\n",
      "0.792 (+/-0.026) for {'criterion': 'friedman_mse', 'learning_rate': 0.4, 'loss': 'deviance', 'max_depth': 9, 'max_features': 'log2', 'min_samples_leaf': 0.2, 'min_samples_split': 0.01, 'n_estimators': 110, 'random_state': 23, 'subsample': 0.6}\n",
      "0.333 (+/-0.000) for {'criterion': 'friedman_mse', 'learning_rate': 0.4, 'loss': 'deviance', 'max_depth': 9, 'max_features': 'log2', 'min_samples_leaf': 0.2, 'min_samples_split': 0.2, 'n_estimators': 90, 'random_state': 23, 'subsample': 0.4}\n",
      "0.786 (+/-0.022) for {'criterion': 'friedman_mse', 'learning_rate': 0.4, 'loss': 'deviance', 'max_depth': 9, 'max_features': 'log2', 'min_samples_leaf': 0.2, 'min_samples_split': 0.2, 'n_estimators': 90, 'random_state': 23, 'subsample': 0.6}\n",
      "0.333 (+/-0.000) for {'criterion': 'friedman_mse', 'learning_rate': 0.4, 'loss': 'deviance', 'max_depth': 9, 'max_features': 'log2', 'min_samples_leaf': 0.2, 'min_samples_split': 0.2, 'n_estimators': 110, 'random_state': 23, 'subsample': 0.4}\n",
      "0.792 (+/-0.026) for {'criterion': 'friedman_mse', 'learning_rate': 0.4, 'loss': 'deviance', 'max_depth': 9, 'max_features': 'log2', 'min_samples_leaf': 0.2, 'min_samples_split': 0.2, 'n_estimators': 110, 'random_state': 23, 'subsample': 0.6}\n",
      "0.933 (+/-0.028) for {'criterion': 'friedman_mse', 'learning_rate': 0.4, 'loss': 'deviance', 'max_depth': 11, 'max_features': 'log2', 'min_samples_leaf': 0.01, 'min_samples_split': 0.01, 'n_estimators': 90, 'random_state': 23, 'subsample': 0.4}\n",
      "0.941 (+/-0.029) for {'criterion': 'friedman_mse', 'learning_rate': 0.4, 'loss': 'deviance', 'max_depth': 11, 'max_features': 'log2', 'min_samples_leaf': 0.01, 'min_samples_split': 0.01, 'n_estimators': 90, 'random_state': 23, 'subsample': 0.6}\n",
      "0.936 (+/-0.028) for {'criterion': 'friedman_mse', 'learning_rate': 0.4, 'loss': 'deviance', 'max_depth': 11, 'max_features': 'log2', 'min_samples_leaf': 0.01, 'min_samples_split': 0.01, 'n_estimators': 110, 'random_state': 23, 'subsample': 0.4}\n",
      "0.943 (+/-0.032) for {'criterion': 'friedman_mse', 'learning_rate': 0.4, 'loss': 'deviance', 'max_depth': 11, 'max_features': 'log2', 'min_samples_leaf': 0.01, 'min_samples_split': 0.01, 'n_estimators': 110, 'random_state': 23, 'subsample': 0.6}\n",
      "0.899 (+/-0.027) for {'criterion': 'friedman_mse', 'learning_rate': 0.4, 'loss': 'deviance', 'max_depth': 11, 'max_features': 'log2', 'min_samples_leaf': 0.01, 'min_samples_split': 0.2, 'n_estimators': 90, 'random_state': 23, 'subsample': 0.4}\n",
      "0.921 (+/-0.033) for {'criterion': 'friedman_mse', 'learning_rate': 0.4, 'loss': 'deviance', 'max_depth': 11, 'max_features': 'log2', 'min_samples_leaf': 0.01, 'min_samples_split': 0.2, 'n_estimators': 90, 'random_state': 23, 'subsample': 0.6}\n",
      "0.905 (+/-0.028) for {'criterion': 'friedman_mse', 'learning_rate': 0.4, 'loss': 'deviance', 'max_depth': 11, 'max_features': 'log2', 'min_samples_leaf': 0.01, 'min_samples_split': 0.2, 'n_estimators': 110, 'random_state': 23, 'subsample': 0.4}\n",
      "0.926 (+/-0.026) for {'criterion': 'friedman_mse', 'learning_rate': 0.4, 'loss': 'deviance', 'max_depth': 11, 'max_features': 'log2', 'min_samples_leaf': 0.01, 'min_samples_split': 0.2, 'n_estimators': 110, 'random_state': 23, 'subsample': 0.6}\n",
      "0.333 (+/-0.000) for {'criterion': 'friedman_mse', 'learning_rate': 0.4, 'loss': 'deviance', 'max_depth': 11, 'max_features': 'log2', 'min_samples_leaf': 0.2, 'min_samples_split': 0.01, 'n_estimators': 90, 'random_state': 23, 'subsample': 0.4}\n",
      "0.786 (+/-0.022) for {'criterion': 'friedman_mse', 'learning_rate': 0.4, 'loss': 'deviance', 'max_depth': 11, 'max_features': 'log2', 'min_samples_leaf': 0.2, 'min_samples_split': 0.01, 'n_estimators': 90, 'random_state': 23, 'subsample': 0.6}\n",
      "0.333 (+/-0.000) for {'criterion': 'friedman_mse', 'learning_rate': 0.4, 'loss': 'deviance', 'max_depth': 11, 'max_features': 'log2', 'min_samples_leaf': 0.2, 'min_samples_split': 0.01, 'n_estimators': 110, 'random_state': 23, 'subsample': 0.4}\n",
      "0.792 (+/-0.026) for {'criterion': 'friedman_mse', 'learning_rate': 0.4, 'loss': 'deviance', 'max_depth': 11, 'max_features': 'log2', 'min_samples_leaf': 0.2, 'min_samples_split': 0.01, 'n_estimators': 110, 'random_state': 23, 'subsample': 0.6}\n",
      "0.333 (+/-0.000) for {'criterion': 'friedman_mse', 'learning_rate': 0.4, 'loss': 'deviance', 'max_depth': 11, 'max_features': 'log2', 'min_samples_leaf': 0.2, 'min_samples_split': 0.2, 'n_estimators': 90, 'random_state': 23, 'subsample': 0.4}\n",
      "0.786 (+/-0.022) for {'criterion': 'friedman_mse', 'learning_rate': 0.4, 'loss': 'deviance', 'max_depth': 11, 'max_features': 'log2', 'min_samples_leaf': 0.2, 'min_samples_split': 0.2, 'n_estimators': 90, 'random_state': 23, 'subsample': 0.6}\n",
      "0.333 (+/-0.000) for {'criterion': 'friedman_mse', 'learning_rate': 0.4, 'loss': 'deviance', 'max_depth': 11, 'max_features': 'log2', 'min_samples_leaf': 0.2, 'min_samples_split': 0.2, 'n_estimators': 110, 'random_state': 23, 'subsample': 0.4}\n",
      "0.792 (+/-0.026) for {'criterion': 'friedman_mse', 'learning_rate': 0.4, 'loss': 'deviance', 'max_depth': 11, 'max_features': 'log2', 'min_samples_leaf': 0.2, 'min_samples_split': 0.2, 'n_estimators': 110, 'random_state': 23, 'subsample': 0.6}\n",
      "0.930 (+/-0.027) for {'criterion': 'friedman_mse', 'learning_rate': 0.5, 'loss': 'exponential', 'max_depth': 9, 'max_features': 'log2', 'min_samples_leaf': 0.01, 'min_samples_split': 0.01, 'n_estimators': 90, 'random_state': 23, 'subsample': 0.4}\n",
      "0.942 (+/-0.025) for {'criterion': 'friedman_mse', 'learning_rate': 0.5, 'loss': 'exponential', 'max_depth': 9, 'max_features': 'log2', 'min_samples_leaf': 0.01, 'min_samples_split': 0.01, 'n_estimators': 90, 'random_state': 23, 'subsample': 0.6}\n",
      "0.933 (+/-0.024) for {'criterion': 'friedman_mse', 'learning_rate': 0.5, 'loss': 'exponential', 'max_depth': 9, 'max_features': 'log2', 'min_samples_leaf': 0.01, 'min_samples_split': 0.01, 'n_estimators': 110, 'random_state': 23, 'subsample': 0.4}\n",
      "0.943 (+/-0.026) for {'criterion': 'friedman_mse', 'learning_rate': 0.5, 'loss': 'exponential', 'max_depth': 9, 'max_features': 'log2', 'min_samples_leaf': 0.01, 'min_samples_split': 0.01, 'n_estimators': 110, 'random_state': 23, 'subsample': 0.6}\n",
      "0.901 (+/-0.028) for {'criterion': 'friedman_mse', 'learning_rate': 0.5, 'loss': 'exponential', 'max_depth': 9, 'max_features': 'log2', 'min_samples_leaf': 0.01, 'min_samples_split': 0.2, 'n_estimators': 90, 'random_state': 23, 'subsample': 0.4}\n",
      "0.920 (+/-0.025) for {'criterion': 'friedman_mse', 'learning_rate': 0.5, 'loss': 'exponential', 'max_depth': 9, 'max_features': 'log2', 'min_samples_leaf': 0.01, 'min_samples_split': 0.2, 'n_estimators': 90, 'random_state': 23, 'subsample': 0.6}\n",
      "0.905 (+/-0.031) for {'criterion': 'friedman_mse', 'learning_rate': 0.5, 'loss': 'exponential', 'max_depth': 9, 'max_features': 'log2', 'min_samples_leaf': 0.01, 'min_samples_split': 0.2, 'n_estimators': 110, 'random_state': 23, 'subsample': 0.4}\n",
      "0.922 (+/-0.029) for {'criterion': 'friedman_mse', 'learning_rate': 0.5, 'loss': 'exponential', 'max_depth': 9, 'max_features': 'log2', 'min_samples_leaf': 0.01, 'min_samples_split': 0.2, 'n_estimators': 110, 'random_state': 23, 'subsample': 0.6}\n",
      "0.333 (+/-0.000) for {'criterion': 'friedman_mse', 'learning_rate': 0.5, 'loss': 'exponential', 'max_depth': 9, 'max_features': 'log2', 'min_samples_leaf': 0.2, 'min_samples_split': 0.01, 'n_estimators': 90, 'random_state': 23, 'subsample': 0.4}\n",
      "0.787 (+/-0.023) for {'criterion': 'friedman_mse', 'learning_rate': 0.5, 'loss': 'exponential', 'max_depth': 9, 'max_features': 'log2', 'min_samples_leaf': 0.2, 'min_samples_split': 0.01, 'n_estimators': 90, 'random_state': 23, 'subsample': 0.6}\n",
      "0.333 (+/-0.000) for {'criterion': 'friedman_mse', 'learning_rate': 0.5, 'loss': 'exponential', 'max_depth': 9, 'max_features': 'log2', 'min_samples_leaf': 0.2, 'min_samples_split': 0.01, 'n_estimators': 110, 'random_state': 23, 'subsample': 0.4}\n",
      "0.790 (+/-0.030) for {'criterion': 'friedman_mse', 'learning_rate': 0.5, 'loss': 'exponential', 'max_depth': 9, 'max_features': 'log2', 'min_samples_leaf': 0.2, 'min_samples_split': 0.01, 'n_estimators': 110, 'random_state': 23, 'subsample': 0.6}\n",
      "0.333 (+/-0.000) for {'criterion': 'friedman_mse', 'learning_rate': 0.5, 'loss': 'exponential', 'max_depth': 9, 'max_features': 'log2', 'min_samples_leaf': 0.2, 'min_samples_split': 0.2, 'n_estimators': 90, 'random_state': 23, 'subsample': 0.4}\n",
      "0.787 (+/-0.023) for {'criterion': 'friedman_mse', 'learning_rate': 0.5, 'loss': 'exponential', 'max_depth': 9, 'max_features': 'log2', 'min_samples_leaf': 0.2, 'min_samples_split': 0.2, 'n_estimators': 90, 'random_state': 23, 'subsample': 0.6}\n",
      "0.333 (+/-0.000) for {'criterion': 'friedman_mse', 'learning_rate': 0.5, 'loss': 'exponential', 'max_depth': 9, 'max_features': 'log2', 'min_samples_leaf': 0.2, 'min_samples_split': 0.2, 'n_estimators': 110, 'random_state': 23, 'subsample': 0.4}\n",
      "0.790 (+/-0.030) for {'criterion': 'friedman_mse', 'learning_rate': 0.5, 'loss': 'exponential', 'max_depth': 9, 'max_features': 'log2', 'min_samples_leaf': 0.2, 'min_samples_split': 0.2, 'n_estimators': 110, 'random_state': 23, 'subsample': 0.6}\n",
      "0.934 (+/-0.030) for {'criterion': 'friedman_mse', 'learning_rate': 0.5, 'loss': 'exponential', 'max_depth': 11, 'max_features': 'log2', 'min_samples_leaf': 0.01, 'min_samples_split': 0.01, 'n_estimators': 90, 'random_state': 23, 'subsample': 0.4}\n",
      "0.942 (+/-0.023) for {'criterion': 'friedman_mse', 'learning_rate': 0.5, 'loss': 'exponential', 'max_depth': 11, 'max_features': 'log2', 'min_samples_leaf': 0.01, 'min_samples_split': 0.01, 'n_estimators': 90, 'random_state': 23, 'subsample': 0.6}\n",
      "0.939 (+/-0.033) for {'criterion': 'friedman_mse', 'learning_rate': 0.5, 'loss': 'exponential', 'max_depth': 11, 'max_features': 'log2', 'min_samples_leaf': 0.01, 'min_samples_split': 0.01, 'n_estimators': 110, 'random_state': 23, 'subsample': 0.4}\n",
      "0.944 (+/-0.026) for {'criterion': 'friedman_mse', 'learning_rate': 0.5, 'loss': 'exponential', 'max_depth': 11, 'max_features': 'log2', 'min_samples_leaf': 0.01, 'min_samples_split': 0.01, 'n_estimators': 110, 'random_state': 23, 'subsample': 0.6}\n",
      "0.899 (+/-0.027) for {'criterion': 'friedman_mse', 'learning_rate': 0.5, 'loss': 'exponential', 'max_depth': 11, 'max_features': 'log2', 'min_samples_leaf': 0.01, 'min_samples_split': 0.2, 'n_estimators': 90, 'random_state': 23, 'subsample': 0.4}\n",
      "0.919 (+/-0.023) for {'criterion': 'friedman_mse', 'learning_rate': 0.5, 'loss': 'exponential', 'max_depth': 11, 'max_features': 'log2', 'min_samples_leaf': 0.01, 'min_samples_split': 0.2, 'n_estimators': 90, 'random_state': 23, 'subsample': 0.6}\n",
      "0.904 (+/-0.031) for {'criterion': 'friedman_mse', 'learning_rate': 0.5, 'loss': 'exponential', 'max_depth': 11, 'max_features': 'log2', 'min_samples_leaf': 0.01, 'min_samples_split': 0.2, 'n_estimators': 110, 'random_state': 23, 'subsample': 0.4}\n",
      "0.923 (+/-0.025) for {'criterion': 'friedman_mse', 'learning_rate': 0.5, 'loss': 'exponential', 'max_depth': 11, 'max_features': 'log2', 'min_samples_leaf': 0.01, 'min_samples_split': 0.2, 'n_estimators': 110, 'random_state': 23, 'subsample': 0.6}\n",
      "0.333 (+/-0.000) for {'criterion': 'friedman_mse', 'learning_rate': 0.5, 'loss': 'exponential', 'max_depth': 11, 'max_features': 'log2', 'min_samples_leaf': 0.2, 'min_samples_split': 0.01, 'n_estimators': 90, 'random_state': 23, 'subsample': 0.4}\n",
      "0.787 (+/-0.023) for {'criterion': 'friedman_mse', 'learning_rate': 0.5, 'loss': 'exponential', 'max_depth': 11, 'max_features': 'log2', 'min_samples_leaf': 0.2, 'min_samples_split': 0.01, 'n_estimators': 90, 'random_state': 23, 'subsample': 0.6}\n",
      "0.333 (+/-0.000) for {'criterion': 'friedman_mse', 'learning_rate': 0.5, 'loss': 'exponential', 'max_depth': 11, 'max_features': 'log2', 'min_samples_leaf': 0.2, 'min_samples_split': 0.01, 'n_estimators': 110, 'random_state': 23, 'subsample': 0.4}\n",
      "0.790 (+/-0.030) for {'criterion': 'friedman_mse', 'learning_rate': 0.5, 'loss': 'exponential', 'max_depth': 11, 'max_features': 'log2', 'min_samples_leaf': 0.2, 'min_samples_split': 0.01, 'n_estimators': 110, 'random_state': 23, 'subsample': 0.6}\n",
      "0.333 (+/-0.000) for {'criterion': 'friedman_mse', 'learning_rate': 0.5, 'loss': 'exponential', 'max_depth': 11, 'max_features': 'log2', 'min_samples_leaf': 0.2, 'min_samples_split': 0.2, 'n_estimators': 90, 'random_state': 23, 'subsample': 0.4}\n",
      "0.787 (+/-0.023) for {'criterion': 'friedman_mse', 'learning_rate': 0.5, 'loss': 'exponential', 'max_depth': 11, 'max_features': 'log2', 'min_samples_leaf': 0.2, 'min_samples_split': 0.2, 'n_estimators': 90, 'random_state': 23, 'subsample': 0.6}\n",
      "0.333 (+/-0.000) for {'criterion': 'friedman_mse', 'learning_rate': 0.5, 'loss': 'exponential', 'max_depth': 11, 'max_features': 'log2', 'min_samples_leaf': 0.2, 'min_samples_split': 0.2, 'n_estimators': 110, 'random_state': 23, 'subsample': 0.4}\n",
      "0.790 (+/-0.030) for {'criterion': 'friedman_mse', 'learning_rate': 0.5, 'loss': 'exponential', 'max_depth': 11, 'max_features': 'log2', 'min_samples_leaf': 0.2, 'min_samples_split': 0.2, 'n_estimators': 110, 'random_state': 23, 'subsample': 0.6}\n",
      "0.932 (+/-0.038) for {'criterion': 'friedman_mse', 'learning_rate': 0.5, 'loss': 'deviance', 'max_depth': 9, 'max_features': 'log2', 'min_samples_leaf': 0.01, 'min_samples_split': 0.01, 'n_estimators': 90, 'random_state': 23, 'subsample': 0.4}\n",
      "0.945 (+/-0.030) for {'criterion': 'friedman_mse', 'learning_rate': 0.5, 'loss': 'deviance', 'max_depth': 9, 'max_features': 'log2', 'min_samples_leaf': 0.01, 'min_samples_split': 0.01, 'n_estimators': 90, 'random_state': 23, 'subsample': 0.6}\n",
      "0.931 (+/-0.036) for {'criterion': 'friedman_mse', 'learning_rate': 0.5, 'loss': 'deviance', 'max_depth': 9, 'max_features': 'log2', 'min_samples_leaf': 0.01, 'min_samples_split': 0.01, 'n_estimators': 110, 'random_state': 23, 'subsample': 0.4}\n",
      "0.945 (+/-0.029) for {'criterion': 'friedman_mse', 'learning_rate': 0.5, 'loss': 'deviance', 'max_depth': 9, 'max_features': 'log2', 'min_samples_leaf': 0.01, 'min_samples_split': 0.01, 'n_estimators': 110, 'random_state': 23, 'subsample': 0.6}\n",
      "0.907 (+/-0.025) for {'criterion': 'friedman_mse', 'learning_rate': 0.5, 'loss': 'deviance', 'max_depth': 9, 'max_features': 'log2', 'min_samples_leaf': 0.01, 'min_samples_split': 0.2, 'n_estimators': 90, 'random_state': 23, 'subsample': 0.4}\n",
      "0.922 (+/-0.029) for {'criterion': 'friedman_mse', 'learning_rate': 0.5, 'loss': 'deviance', 'max_depth': 9, 'max_features': 'log2', 'min_samples_leaf': 0.01, 'min_samples_split': 0.2, 'n_estimators': 90, 'random_state': 23, 'subsample': 0.6}\n",
      "0.910 (+/-0.029) for {'criterion': 'friedman_mse', 'learning_rate': 0.5, 'loss': 'deviance', 'max_depth': 9, 'max_features': 'log2', 'min_samples_leaf': 0.01, 'min_samples_split': 0.2, 'n_estimators': 110, 'random_state': 23, 'subsample': 0.4}\n",
      "0.924 (+/-0.032) for {'criterion': 'friedman_mse', 'learning_rate': 0.5, 'loss': 'deviance', 'max_depth': 9, 'max_features': 'log2', 'min_samples_leaf': 0.01, 'min_samples_split': 0.2, 'n_estimators': 110, 'random_state': 23, 'subsample': 0.6}\n",
      "0.333 (+/-0.000) for {'criterion': 'friedman_mse', 'learning_rate': 0.5, 'loss': 'deviance', 'max_depth': 9, 'max_features': 'log2', 'min_samples_leaf': 0.2, 'min_samples_split': 0.01, 'n_estimators': 90, 'random_state': 23, 'subsample': 0.4}\n",
      "0.792 (+/-0.025) for {'criterion': 'friedman_mse', 'learning_rate': 0.5, 'loss': 'deviance', 'max_depth': 9, 'max_features': 'log2', 'min_samples_leaf': 0.2, 'min_samples_split': 0.01, 'n_estimators': 90, 'random_state': 23, 'subsample': 0.6}\n",
      "0.333 (+/-0.000) for {'criterion': 'friedman_mse', 'learning_rate': 0.5, 'loss': 'deviance', 'max_depth': 9, 'max_features': 'log2', 'min_samples_leaf': 0.2, 'min_samples_split': 0.01, 'n_estimators': 110, 'random_state': 23, 'subsample': 0.4}\n",
      "0.798 (+/-0.025) for {'criterion': 'friedman_mse', 'learning_rate': 0.5, 'loss': 'deviance', 'max_depth': 9, 'max_features': 'log2', 'min_samples_leaf': 0.2, 'min_samples_split': 0.01, 'n_estimators': 110, 'random_state': 23, 'subsample': 0.6}\n",
      "0.333 (+/-0.000) for {'criterion': 'friedman_mse', 'learning_rate': 0.5, 'loss': 'deviance', 'max_depth': 9, 'max_features': 'log2', 'min_samples_leaf': 0.2, 'min_samples_split': 0.2, 'n_estimators': 90, 'random_state': 23, 'subsample': 0.4}\n",
      "0.792 (+/-0.025) for {'criterion': 'friedman_mse', 'learning_rate': 0.5, 'loss': 'deviance', 'max_depth': 9, 'max_features': 'log2', 'min_samples_leaf': 0.2, 'min_samples_split': 0.2, 'n_estimators': 90, 'random_state': 23, 'subsample': 0.6}\n",
      "0.333 (+/-0.000) for {'criterion': 'friedman_mse', 'learning_rate': 0.5, 'loss': 'deviance', 'max_depth': 9, 'max_features': 'log2', 'min_samples_leaf': 0.2, 'min_samples_split': 0.2, 'n_estimators': 110, 'random_state': 23, 'subsample': 0.4}\n",
      "0.798 (+/-0.025) for {'criterion': 'friedman_mse', 'learning_rate': 0.5, 'loss': 'deviance', 'max_depth': 9, 'max_features': 'log2', 'min_samples_leaf': 0.2, 'min_samples_split': 0.2, 'n_estimators': 110, 'random_state': 23, 'subsample': 0.6}\n",
      "0.936 (+/-0.032) for {'criterion': 'friedman_mse', 'learning_rate': 0.5, 'loss': 'deviance', 'max_depth': 11, 'max_features': 'log2', 'min_samples_leaf': 0.01, 'min_samples_split': 0.01, 'n_estimators': 90, 'random_state': 23, 'subsample': 0.4}\n",
      "0.942 (+/-0.028) for {'criterion': 'friedman_mse', 'learning_rate': 0.5, 'loss': 'deviance', 'max_depth': 11, 'max_features': 'log2', 'min_samples_leaf': 0.01, 'min_samples_split': 0.01, 'n_estimators': 90, 'random_state': 23, 'subsample': 0.6}\n",
      "0.938 (+/-0.029) for {'criterion': 'friedman_mse', 'learning_rate': 0.5, 'loss': 'deviance', 'max_depth': 11, 'max_features': 'log2', 'min_samples_leaf': 0.01, 'min_samples_split': 0.01, 'n_estimators': 110, 'random_state': 23, 'subsample': 0.4}\n",
      "0.942 (+/-0.030) for {'criterion': 'friedman_mse', 'learning_rate': 0.5, 'loss': 'deviance', 'max_depth': 11, 'max_features': 'log2', 'min_samples_leaf': 0.01, 'min_samples_split': 0.01, 'n_estimators': 110, 'random_state': 23, 'subsample': 0.6}\n",
      "0.908 (+/-0.026) for {'criterion': 'friedman_mse', 'learning_rate': 0.5, 'loss': 'deviance', 'max_depth': 11, 'max_features': 'log2', 'min_samples_leaf': 0.01, 'min_samples_split': 0.2, 'n_estimators': 90, 'random_state': 23, 'subsample': 0.4}\n",
      "0.925 (+/-0.029) for {'criterion': 'friedman_mse', 'learning_rate': 0.5, 'loss': 'deviance', 'max_depth': 11, 'max_features': 'log2', 'min_samples_leaf': 0.01, 'min_samples_split': 0.2, 'n_estimators': 90, 'random_state': 23, 'subsample': 0.6}\n",
      "0.909 (+/-0.028) for {'criterion': 'friedman_mse', 'learning_rate': 0.5, 'loss': 'deviance', 'max_depth': 11, 'max_features': 'log2', 'min_samples_leaf': 0.01, 'min_samples_split': 0.2, 'n_estimators': 110, 'random_state': 23, 'subsample': 0.4}\n",
      "0.927 (+/-0.031) for {'criterion': 'friedman_mse', 'learning_rate': 0.5, 'loss': 'deviance', 'max_depth': 11, 'max_features': 'log2', 'min_samples_leaf': 0.01, 'min_samples_split': 0.2, 'n_estimators': 110, 'random_state': 23, 'subsample': 0.6}\n",
      "0.333 (+/-0.000) for {'criterion': 'friedman_mse', 'learning_rate': 0.5, 'loss': 'deviance', 'max_depth': 11, 'max_features': 'log2', 'min_samples_leaf': 0.2, 'min_samples_split': 0.01, 'n_estimators': 90, 'random_state': 23, 'subsample': 0.4}\n",
      "0.792 (+/-0.025) for {'criterion': 'friedman_mse', 'learning_rate': 0.5, 'loss': 'deviance', 'max_depth': 11, 'max_features': 'log2', 'min_samples_leaf': 0.2, 'min_samples_split': 0.01, 'n_estimators': 90, 'random_state': 23, 'subsample': 0.6}\n",
      "0.333 (+/-0.000) for {'criterion': 'friedman_mse', 'learning_rate': 0.5, 'loss': 'deviance', 'max_depth': 11, 'max_features': 'log2', 'min_samples_leaf': 0.2, 'min_samples_split': 0.01, 'n_estimators': 110, 'random_state': 23, 'subsample': 0.4}\n",
      "0.798 (+/-0.025) for {'criterion': 'friedman_mse', 'learning_rate': 0.5, 'loss': 'deviance', 'max_depth': 11, 'max_features': 'log2', 'min_samples_leaf': 0.2, 'min_samples_split': 0.01, 'n_estimators': 110, 'random_state': 23, 'subsample': 0.6}\n",
      "0.333 (+/-0.000) for {'criterion': 'friedman_mse', 'learning_rate': 0.5, 'loss': 'deviance', 'max_depth': 11, 'max_features': 'log2', 'min_samples_leaf': 0.2, 'min_samples_split': 0.2, 'n_estimators': 90, 'random_state': 23, 'subsample': 0.4}\n",
      "0.792 (+/-0.025) for {'criterion': 'friedman_mse', 'learning_rate': 0.5, 'loss': 'deviance', 'max_depth': 11, 'max_features': 'log2', 'min_samples_leaf': 0.2, 'min_samples_split': 0.2, 'n_estimators': 90, 'random_state': 23, 'subsample': 0.6}\n",
      "0.333 (+/-0.000) for {'criterion': 'friedman_mse', 'learning_rate': 0.5, 'loss': 'deviance', 'max_depth': 11, 'max_features': 'log2', 'min_samples_leaf': 0.2, 'min_samples_split': 0.2, 'n_estimators': 110, 'random_state': 23, 'subsample': 0.4}\n",
      "0.798 (+/-0.025) for {'criterion': 'friedman_mse', 'learning_rate': 0.5, 'loss': 'deviance', 'max_depth': 11, 'max_features': 'log2', 'min_samples_leaf': 0.2, 'min_samples_split': 0.2, 'n_estimators': 110, 'random_state': 23, 'subsample': 0.6}\n",
      "\n",
      "Detailed classification report:\n",
      "\n",
      "The model is trained on the full development set.\n",
      "The scores are computed on the full evaluation set.\n",
      "\n",
      "              precision    recall  f1-score   support\n",
      "\n",
      "           0       0.95      0.93      0.94       977\n",
      "           1       0.34      0.45      0.38        78\n",
      "\n",
      "   micro avg       0.89      0.89      0.89      1055\n",
      "   macro avg       0.65      0.69      0.66      1055\n",
      "weighted avg       0.91      0.89      0.90      1055\n",
      "\n",
      "\n"
     ]
    }
   ],
   "source": [
    "scores = ['precision','recall','f1']\n",
    "parameters = {\n",
    "    \"loss\":[\"exponential\",\"deviance\"],\n",
    "    \"learning_rate\": [0.4,0.5],\n",
    "    \"min_samples_split\": np.linspace(0.01, 0.2, 2),\n",
    "    \"min_samples_leaf\": np.linspace(0.01, 0.2, 2),\n",
    "    \"max_depth\":[9,11],\n",
    "    \"max_features\":[\"log2\"],\n",
    "    \"criterion\": [\"friedman_mse\"],\n",
    "    \"subsample\":[0.4,0.6],\n",
    "    \"n_estimators\":[90,110],\n",
    "    \"random_state\" : [23]\n",
    "    }\n",
    "\n",
    "for score in scores:\n",
    "    print(\"# Tuning hyper-parameters for %s\" % score)\n",
    "    print()\n",
    "\n",
    "    clf = GridSearchCV(GradientBoostingClassifier(), parameters, cv=5,n_jobs=-1,\n",
    "                       scoring='%s_macro' % score)\n",
    "    clf.fit(X_train, y_train)\n",
    "\n",
    "    print(\"Best parameters set found on development set:\")\n",
    "    print()\n",
    "    print(clf.best_params_)\n",
    "    print()\n",
    "    print(\"Grid scores on development set:\")\n",
    "    print()\n",
    "    means = clf.cv_results_['mean_test_score']\n",
    "    stds = clf.cv_results_['std_test_score']\n",
    "    for mean, std, params in zip(means, stds, clf.cv_results_['params']):\n",
    "        print(\"%0.3f (+/-%0.03f) for %r\"\n",
    "              % (mean, std * 2, params))\n",
    "    print()\n",
    "\n",
    "    print(\"Detailed classification report:\")\n",
    "    print()\n",
    "    print(\"The model is trained on the full development set.\")\n",
    "    print(\"The scores are computed on the full evaluation set.\")\n",
    "    print()\n",
    "    y_true, y_pred = y_test, clf.predict(X_test)\n",
    "    print(classification_report(y_true, y_pred))\n",
    "    print()"
   ]
  },
  {
   "cell_type": "markdown",
   "metadata": {},
   "source": [
    "Conclusion : Among these models still the base model are performing better!"
   ]
  }
 ],
 "metadata": {
  "kernelspec": {
   "display_name": "Python 3",
   "language": "python",
   "name": "python3"
  },
  "language_info": {
   "codemirror_mode": {
    "name": "ipython",
    "version": 3
   },
   "file_extension": ".py",
   "mimetype": "text/x-python",
   "name": "python",
   "nbconvert_exporter": "python",
   "pygments_lexer": "ipython3",
   "version": "3.6.5"
  }
 },
 "nbformat": 4,
 "nbformat_minor": 2
}
