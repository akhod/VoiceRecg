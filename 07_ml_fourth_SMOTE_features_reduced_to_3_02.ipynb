{
 "cells": [
  {
   "cell_type": "code",
   "execution_count": 1,
   "metadata": {},
   "outputs": [],
   "source": [
    "import numpy as np\n",
    "import matplotlib.pyplot as plt\n",
    "import seaborn as sns\n",
    "import pandas as pd\n",
    "\n",
    "from sklearn.model_selection import train_test_split\n",
    "from sklearn.preprocessing import StandardScaler\n",
    "from sklearn.tree import DecisionTreeClassifier\n",
    "from sklearn.ensemble import RandomForestClassifier\n",
    "from sklearn.ensemble import GradientBoostingClassifier\n",
    "from imblearn.over_sampling import SMOTE\n",
    "from sklearn.model_selection import GridSearchCV\n",
    "\n",
    "\n",
    "\n",
    "from sklearn.metrics import confusion_matrix,recall_score,precision_recall_curve,auc,roc_curve,roc_auc_score,classification_report"
   ]
  },
  {
   "cell_type": "code",
   "execution_count": 2,
   "metadata": {},
   "outputs": [],
   "source": [
    "df=  pd.read_csv('Voices_Cleaned1.csv', index_col=0)"
   ]
  },
  {
   "cell_type": "code",
   "execution_count": 3,
   "metadata": {},
   "outputs": [],
   "source": [
    "df= df.drop(columns=['date','age','user','pronounce'])"
   ]
  },
  {
   "cell_type": "markdown",
   "metadata": {},
   "source": [
    "## 2- Second to model with  3 feature 'first_q' and 'inter_q' and 'std'\n",
    "I reach this as a temprory acceptable number of features, by trying different selection of features, but of course it could be improved!"
   ]
  },
  {
   "cell_type": "code",
   "execution_count": 4,
   "metadata": {},
   "outputs": [],
   "source": [
    "model_features = ['first_q','inter_q','std']"
   ]
  },
  {
   "cell_type": "code",
   "execution_count": 5,
   "metadata": {},
   "outputs": [],
   "source": [
    "df.sex = df.sex.astype(int)"
   ]
  },
  {
   "cell_type": "code",
   "execution_count": 6,
   "metadata": {},
   "outputs": [],
   "source": [
    "oversample = SMOTE(random_state=23)"
   ]
  },
  {
   "cell_type": "code",
   "execution_count": 7,
   "metadata": {},
   "outputs": [],
   "source": [
    "def data_prepration(x): \n",
    "    x_features= x.loc[:,x.columns != \"sex\"]\n",
    "    x_labels=x.loc[:,x.columns==\"sex\"]\n",
    "    x_features_train,x_features_test,x_labels_train,x_labels_test = train_test_split(x_features,x_labels,test_size=0.2)\n",
    "    print(\"length of training data\")\n",
    "    print(len(x_features_train))\n",
    "    print(\"length of testing data\")\n",
    "    print(len(x_features_test))\n",
    "    return(x_features_train,x_features_test,x_labels_train,x_labels_test)"
   ]
  },
  {
   "cell_type": "code",
   "execution_count": 8,
   "metadata": {},
   "outputs": [
    {
     "name": "stdout",
     "output_type": "stream",
     "text": [
      "length of training data\n",
      "4216\n",
      "length of testing data\n",
      "1055\n"
     ]
    }
   ],
   "source": [
    "data_train_X,data_test_X,data_train_y,data_test_y=data_prepration(df)"
   ]
  },
  {
   "cell_type": "code",
   "execution_count": 9,
   "metadata": {},
   "outputs": [],
   "source": [
    "columns = data_train_X.columns"
   ]
  },
  {
   "cell_type": "code",
   "execution_count": 10,
   "metadata": {},
   "outputs": [
    {
     "name": "stdout",
     "output_type": "stream",
     "text": [
      "length of oversampled data is  7826\n",
      "Number of males in oversampled data 3913\n",
      "No.of females in oversampled data 3913\n"
     ]
    },
    {
     "name": "stderr",
     "output_type": "stream",
     "text": [
      "/anaconda3/lib/python3.6/site-packages/sklearn/utils/validation.py:761: DataConversionWarning: A column-vector y was passed when a 1d array was expected. Please change the shape of y to (n_samples, ), for example using ravel().\n",
      "  y = column_or_1d(y, warn=True)\n"
     ]
    }
   ],
   "source": [
    "os_data_X,os_data_y=oversample.fit_sample(data_train_X,data_train_y)\n",
    "os_data_X = pd.DataFrame(data=os_data_X,columns=columns )\n",
    "os_data_y= pd.DataFrame(data=os_data_y,columns=[\"sex\"])\n",
    "\n",
    "print(\"length of oversampled data is \",len(os_data_X))\n",
    "print(\"Number of males in oversampled data\",len(os_data_y[os_data_y[\"sex\"]==0]))\n",
    "print(\"No.of females in oversampled data\",len(os_data_y[os_data_y[\"sex\"]==1]))"
   ]
  },
  {
   "cell_type": "code",
   "execution_count": 11,
   "metadata": {},
   "outputs": [],
   "source": [
    "scaler = StandardScaler()\n",
    "scaler.fit(df.loc[:,model_features]) \n",
    "X_train = scaler.transform(os_data_X.loc[:,model_features])\n",
    "X_test = scaler.transform(data_test_X.loc[:,model_features])\n",
    "y_train = list(os_data_y['sex'].values)\n",
    "y_test = list(data_test_y['sex'].values)"
   ]
  },
  {
   "cell_type": "code",
   "execution_count": 12,
   "metadata": {},
   "outputs": [
    {
     "name": "stdout",
     "output_type": "stream",
     "text": [
      "Decision Tree Report\n",
      "train score is 1.0\n",
      "test score is 0.8445497630331753\n",
      "Random Forests Report\n",
      "train score is 1.0\n",
      "test score is 0.8568720379146919\n",
      "Gradient Boosting Report\n",
      "train score is 0.8814209046767186\n",
      "test score is 0.8113744075829384\n"
     ]
    }
   ],
   "source": [
    "#Train decision tree model\n",
    "tree = DecisionTreeClassifier(random_state=23).fit(X_train, y_train)\n",
    "print('Decision Tree Report')\n",
    "print('train score is %s' %tree.score(X_train, y_train))\n",
    "print('test score is %s' %tree.score(X_test, y_test))\n",
    "\n",
    "\n",
    "\n",
    "#Train random forest model\n",
    "forest = RandomForestClassifier(n_estimators=100, random_state=23).fit(X_train, y_train)\n",
    "print('Random Forests Report')\n",
    "print('train score is %s' %forest.score(X_train, y_train))\n",
    "print('test score is %s' %forest.score(X_test, y_test))\n",
    "\n",
    "\n",
    "#Train gradient boosting model\n",
    "gb = GradientBoostingClassifier(random_state=23).fit(X_train, y_train)\n",
    "print('Gradient Boosting Report')\n",
    "print('train score is %s' %gb.score(X_train, y_train))\n",
    "print('test score is %s' %gb.score(X_test, y_test))"
   ]
  },
  {
   "cell_type": "code",
   "execution_count": 13,
   "metadata": {},
   "outputs": [],
   "source": [
    "def create_report(model,X_train,X_test,y_train,y_test):\n",
    "    clf= model\n",
    "    clf.fit(X_train,y_train)\n",
    "    pred=clf.predict(X_test)\n",
    "    metrics_matrix=confusion_matrix(y_test,pred)\n",
    "    print(\"the accuracy for this model is :\",(metrics_matrix[0,0]+metrics_matrix[1,1])/(metrics_matrix[0,0]+metrics_matrix[0,1]+metrics_matrix[1,0]+metrics_matrix[1,1]))\n",
    "    print(\"the recall for this model is :\",metrics_matrix[1,1]/(metrics_matrix[1,1]+metrics_matrix[1,0]))\n",
    "\n",
    "\n",
    "    fig= plt.figure(figsize=(6,3))\n",
    "    print(\"TP\",metrics_matrix[1,1]) \n",
    "    print(\"TN\",metrics_matrix[0,0]) \n",
    "    print(\"FP\",metrics_matrix[0,1]) \n",
    "    print(\"FN\",metrics_matrix[1,0])\n",
    "    sns.heatmap(metrics_matrix,cmap=\"coolwarm\",annot=True,linewidths=0.5)\n",
    "    plt.title(\"Confusion_matrix\")\n",
    "    plt.xlabel(\"Predicted_Sex\")\n",
    "    plt.ylabel(\"Real_Sex\")\n",
    "    plt.show()\n",
    "    print(\"\\n----------Classification Report----------\")\n",
    "    print(classification_report(y_test,pred))"
   ]
  },
  {
   "cell_type": "code",
   "execution_count": 14,
   "metadata": {},
   "outputs": [
    {
     "name": "stdout",
     "output_type": "stream",
     "text": [
      "the accuracy for this model is : 0.8445497630331753\n",
      "the recall for this model is : 0.4875\n",
      "TP 39\n",
      "TN 852\n",
      "FP 123\n",
      "FN 41\n"
     ]
    },
    {
     "data": {
      "image/png": "[encoded data removed]",
      "text/plain": [
       "<Figure size 432x216 with 2 Axes>"
      ]
     },
     "metadata": {},
     "output_type": "display_data"
    },
    {
     "name": "stdout",
     "output_type": "stream",
     "text": [
      "\n",
      "----------Classification Report----------\n",
      "              precision    recall  f1-score   support\n",
      "\n",
      "           0       0.95      0.87      0.91       975\n",
      "           1       0.24      0.49      0.32        80\n",
      "\n",
      "   micro avg       0.84      0.84      0.84      1055\n",
      "   macro avg       0.60      0.68      0.62      1055\n",
      "weighted avg       0.90      0.84      0.87      1055\n",
      "\n"
     ]
    }
   ],
   "source": [
    "create_report(DecisionTreeClassifier(random_state=23),X_train,X_test,y_train,y_test)"
   ]
  },
  {
   "cell_type": "code",
   "execution_count": 15,
   "metadata": {},
   "outputs": [
    {
     "name": "stdout",
     "output_type": "stream",
     "text": [
      "the accuracy for this model is : 0.8568720379146919\n",
      "the recall for this model is : 0.4375\n",
      "TP 35\n",
      "TN 869\n",
      "FP 106\n",
      "FN 45\n"
     ]
    },
    {
     "data": {
      "image/png": "[encoded data removed]",
      "text/plain": [
       "<Figure size 432x216 with 2 Axes>"
      ]
     },
     "metadata": {},
     "output_type": "display_data"
    },
    {
     "name": "stdout",
     "output_type": "stream",
     "text": [
      "\n",
      "----------Classification Report----------\n",
      "              precision    recall  f1-score   support\n",
      "\n",
      "           0       0.95      0.89      0.92       975\n",
      "           1       0.25      0.44      0.32        80\n",
      "\n",
      "   micro avg       0.86      0.86      0.86      1055\n",
      "   macro avg       0.60      0.66      0.62      1055\n",
      "weighted avg       0.90      0.86      0.87      1055\n",
      "\n"
     ]
    }
   ],
   "source": [
    "create_report(RandomForestClassifier(n_estimators=100,random_state=23),X_train,X_test,y_train,y_test)"
   ]
  },
  {
   "cell_type": "code",
   "execution_count": 16,
   "metadata": {},
   "outputs": [
    {
     "name": "stdout",
     "output_type": "stream",
     "text": [
      "the accuracy for this model is : 0.8113744075829384\n",
      "the recall for this model is : 0.6125\n",
      "TP 49\n",
      "TN 807\n",
      "FP 168\n",
      "FN 31\n"
     ]
    },
    {
     "data": {
      "image/png": "[encoded data removed]",
      "text/plain": [
       "<Figure size 432x216 with 2 Axes>"
      ]
     },
     "metadata": {},
     "output_type": "display_data"
    },
    {
     "name": "stdout",
     "output_type": "stream",
     "text": [
      "\n",
      "----------Classification Report----------\n",
      "              precision    recall  f1-score   support\n",
      "\n",
      "           0       0.96      0.83      0.89       975\n",
      "           1       0.23      0.61      0.33        80\n",
      "\n",
      "   micro avg       0.81      0.81      0.81      1055\n",
      "   macro avg       0.59      0.72      0.61      1055\n",
      "weighted avg       0.91      0.81      0.85      1055\n",
      "\n"
     ]
    }
   ],
   "source": [
    "create_report(GradientBoostingClassifier(random_state=23),X_train,X_test,y_train,y_test)"
   ]
  },
  {
   "cell_type": "markdown",
   "metadata": {},
   "source": [
    "## Gradiantboost gridsearch cross folded"
   ]
  },
  {
   "cell_type": "code",
   "execution_count": null,
   "metadata": {},
   "outputs": [],
   "source": [
    "parameters = {\n",
    "    \"loss\":[\"deviance\"],\n",
    "    \"learning_rate\": [0.01, 0.025, 0.05, 0.075, 0.1, 0.15, 0.2],\n",
    "    \"min_samples_split\": np.linspace(0.1, 0.5, 12),\n",
    "    \"min_samples_leaf\": np.linspace(0.1, 0.5, 12),\n",
    "    \"max_depth\":[3,5,8],\n",
    "    \"max_features\":[\"log2\",\"sqrt\"],\n",
    "    \"criterion\": [\"friedman_mse\",  \"mae\"],\n",
    "    \"subsample\":[0.5, 0.618, 0.8, 0.85, 0.9, 0.95, 1.0],\n",
    "    \"n_estimators\":[10]\n",
    "    }"
   ]
  },
  {
   "cell_type": "code",
   "execution_count": 17,
   "metadata": {},
   "outputs": [
    {
     "name": "stdout",
     "output_type": "stream",
     "text": [
      "# Tuning hyper-parameters for f1\n",
      "\n",
      "Best parameters set found on development set:\n",
      "\n",
      "{'criterion': 'friedman_mse', 'learning_rate': 0.3, 'loss': 'deviance', 'max_depth': 7, 'max_features': 'log2', 'min_samples_leaf': 0.05, 'min_samples_split': 0.05, 'n_estimators': 120, 'subsample': 0.6}\n",
      "\n",
      "Grid scores on development set:\n",
      "\n",
      "0.823 (+/-0.012) for {'criterion': 'friedman_mse', 'learning_rate': 0.25, 'loss': 'exponential', 'max_depth': 5, 'max_features': 'log2', 'min_samples_leaf': 0.05, 'min_samples_split': 0.05, 'n_estimators': 25, 'subsample': 0.6}\n",
      "0.843 (+/-0.012) for {'criterion': 'friedman_mse', 'learning_rate': 0.25, 'loss': 'exponential', 'max_depth': 5, 'max_features': 'log2', 'min_samples_leaf': 0.05, 'min_samples_split': 0.05, 'n_estimators': 120, 'subsample': 0.6}\n",
      "0.801 (+/-0.015) for {'criterion': 'friedman_mse', 'learning_rate': 0.25, 'loss': 'exponential', 'max_depth': 5, 'max_features': 'log2', 'min_samples_leaf': 0.05, 'min_samples_split': 0.275, 'n_estimators': 25, 'subsample': 0.6}\n",
      "0.833 (+/-0.007) for {'criterion': 'friedman_mse', 'learning_rate': 0.25, 'loss': 'exponential', 'max_depth': 5, 'max_features': 'log2', 'min_samples_leaf': 0.05, 'min_samples_split': 0.275, 'n_estimators': 120, 'subsample': 0.6}\n",
      "0.779 (+/-0.017) for {'criterion': 'friedman_mse', 'learning_rate': 0.25, 'loss': 'exponential', 'max_depth': 5, 'max_features': 'log2', 'min_samples_leaf': 0.05, 'min_samples_split': 0.5, 'n_estimators': 25, 'subsample': 0.6}\n",
      "0.789 (+/-0.014) for {'criterion': 'friedman_mse', 'learning_rate': 0.25, 'loss': 'exponential', 'max_depth': 5, 'max_features': 'log2', 'min_samples_leaf': 0.05, 'min_samples_split': 0.5, 'n_estimators': 120, 'subsample': 0.6}\n",
      "0.767 (+/-0.018) for {'criterion': 'friedman_mse', 'learning_rate': 0.25, 'loss': 'exponential', 'max_depth': 5, 'max_features': 'log2', 'min_samples_leaf': 0.275, 'min_samples_split': 0.05, 'n_estimators': 25, 'subsample': 0.6}\n",
      "0.766 (+/-0.018) for {'criterion': 'friedman_mse', 'learning_rate': 0.25, 'loss': 'exponential', 'max_depth': 5, 'max_features': 'log2', 'min_samples_leaf': 0.275, 'min_samples_split': 0.05, 'n_estimators': 120, 'subsample': 0.6}\n",
      "0.768 (+/-0.021) for {'criterion': 'friedman_mse', 'learning_rate': 0.25, 'loss': 'exponential', 'max_depth': 5, 'max_features': 'log2', 'min_samples_leaf': 0.275, 'min_samples_split': 0.275, 'n_estimators': 25, 'subsample': 0.6}\n",
      "0.766 (+/-0.018) for {'criterion': 'friedman_mse', 'learning_rate': 0.25, 'loss': 'exponential', 'max_depth': 5, 'max_features': 'log2', 'min_samples_leaf': 0.275, 'min_samples_split': 0.275, 'n_estimators': 120, 'subsample': 0.6}\n",
      "0.765 (+/-0.018) for {'criterion': 'friedman_mse', 'learning_rate': 0.25, 'loss': 'exponential', 'max_depth': 5, 'max_features': 'log2', 'min_samples_leaf': 0.275, 'min_samples_split': 0.5, 'n_estimators': 25, 'subsample': 0.6}\n",
      "0.767 (+/-0.019) for {'criterion': 'friedman_mse', 'learning_rate': 0.25, 'loss': 'exponential', 'max_depth': 5, 'max_features': 'log2', 'min_samples_leaf': 0.275, 'min_samples_split': 0.5, 'n_estimators': 120, 'subsample': 0.6}\n",
      "0.333 (+/-0.000) for {'criterion': 'friedman_mse', 'learning_rate': 0.25, 'loss': 'exponential', 'max_depth': 5, 'max_features': 'log2', 'min_samples_leaf': 0.5, 'min_samples_split': 0.05, 'n_estimators': 25, 'subsample': 0.6}\n",
      "0.333 (+/-0.000) for {'criterion': 'friedman_mse', 'learning_rate': 0.25, 'loss': 'exponential', 'max_depth': 5, 'max_features': 'log2', 'min_samples_leaf': 0.5, 'min_samples_split': 0.05, 'n_estimators': 120, 'subsample': 0.6}\n",
      "0.333 (+/-0.000) for {'criterion': 'friedman_mse', 'learning_rate': 0.25, 'loss': 'exponential', 'max_depth': 5, 'max_features': 'log2', 'min_samples_leaf': 0.5, 'min_samples_split': 0.275, 'n_estimators': 25, 'subsample': 0.6}\n",
      "0.333 (+/-0.000) for {'criterion': 'friedman_mse', 'learning_rate': 0.25, 'loss': 'exponential', 'max_depth': 5, 'max_features': 'log2', 'min_samples_leaf': 0.5, 'min_samples_split': 0.275, 'n_estimators': 120, 'subsample': 0.6}\n",
      "0.333 (+/-0.000) for {'criterion': 'friedman_mse', 'learning_rate': 0.25, 'loss': 'exponential', 'max_depth': 5, 'max_features': 'log2', 'min_samples_leaf': 0.5, 'min_samples_split': 0.5, 'n_estimators': 25, 'subsample': 0.6}\n",
      "0.333 (+/-0.000) for {'criterion': 'friedman_mse', 'learning_rate': 0.25, 'loss': 'exponential', 'max_depth': 5, 'max_features': 'log2', 'min_samples_leaf': 0.5, 'min_samples_split': 0.5, 'n_estimators': 120, 'subsample': 0.6}\n",
      "0.824 (+/-0.012) for {'criterion': 'friedman_mse', 'learning_rate': 0.25, 'loss': 'exponential', 'max_depth': 7, 'max_features': 'log2', 'min_samples_leaf': 0.05, 'min_samples_split': 0.05, 'n_estimators': 25, 'subsample': 0.6}\n",
      "0.844 (+/-0.013) for {'criterion': 'friedman_mse', 'learning_rate': 0.25, 'loss': 'exponential', 'max_depth': 7, 'max_features': 'log2', 'min_samples_leaf': 0.05, 'min_samples_split': 0.05, 'n_estimators': 120, 'subsample': 0.6}\n",
      "0.794 (+/-0.025) for {'criterion': 'friedman_mse', 'learning_rate': 0.25, 'loss': 'exponential', 'max_depth': 7, 'max_features': 'log2', 'min_samples_leaf': 0.05, 'min_samples_split': 0.275, 'n_estimators': 25, 'subsample': 0.6}\n",
      "0.832 (+/-0.010) for {'criterion': 'friedman_mse', 'learning_rate': 0.25, 'loss': 'exponential', 'max_depth': 7, 'max_features': 'log2', 'min_samples_leaf': 0.05, 'min_samples_split': 0.275, 'n_estimators': 120, 'subsample': 0.6}\n",
      "0.782 (+/-0.014) for {'criterion': 'friedman_mse', 'learning_rate': 0.25, 'loss': 'exponential', 'max_depth': 7, 'max_features': 'log2', 'min_samples_leaf': 0.05, 'min_samples_split': 0.5, 'n_estimators': 25, 'subsample': 0.6}\n",
      "0.789 (+/-0.020) for {'criterion': 'friedman_mse', 'learning_rate': 0.25, 'loss': 'exponential', 'max_depth': 7, 'max_features': 'log2', 'min_samples_leaf': 0.05, 'min_samples_split': 0.5, 'n_estimators': 120, 'subsample': 0.6}\n",
      "0.765 (+/-0.018) for {'criterion': 'friedman_mse', 'learning_rate': 0.25, 'loss': 'exponential', 'max_depth': 7, 'max_features': 'log2', 'min_samples_leaf': 0.275, 'min_samples_split': 0.05, 'n_estimators': 25, 'subsample': 0.6}\n",
      "0.766 (+/-0.019) for {'criterion': 'friedman_mse', 'learning_rate': 0.25, 'loss': 'exponential', 'max_depth': 7, 'max_features': 'log2', 'min_samples_leaf': 0.275, 'min_samples_split': 0.05, 'n_estimators': 120, 'subsample': 0.6}\n",
      "0.765 (+/-0.018) for {'criterion': 'friedman_mse', 'learning_rate': 0.25, 'loss': 'exponential', 'max_depth': 7, 'max_features': 'log2', 'min_samples_leaf': 0.275, 'min_samples_split': 0.275, 'n_estimators': 25, 'subsample': 0.6}\n",
      "0.765 (+/-0.018) for {'criterion': 'friedman_mse', 'learning_rate': 0.25, 'loss': 'exponential', 'max_depth': 7, 'max_features': 'log2', 'min_samples_leaf': 0.275, 'min_samples_split': 0.275, 'n_estimators': 120, 'subsample': 0.6}\n",
      "0.765 (+/-0.018) for {'criterion': 'friedman_mse', 'learning_rate': 0.25, 'loss': 'exponential', 'max_depth': 7, 'max_features': 'log2', 'min_samples_leaf': 0.275, 'min_samples_split': 0.5, 'n_estimators': 25, 'subsample': 0.6}\n",
      "0.767 (+/-0.019) for {'criterion': 'friedman_mse', 'learning_rate': 0.25, 'loss': 'exponential', 'max_depth': 7, 'max_features': 'log2', 'min_samples_leaf': 0.275, 'min_samples_split': 0.5, 'n_estimators': 120, 'subsample': 0.6}\n",
      "0.333 (+/-0.000) for {'criterion': 'friedman_mse', 'learning_rate': 0.25, 'loss': 'exponential', 'max_depth': 7, 'max_features': 'log2', 'min_samples_leaf': 0.5, 'min_samples_split': 0.05, 'n_estimators': 25, 'subsample': 0.6}\n",
      "0.333 (+/-0.000) for {'criterion': 'friedman_mse', 'learning_rate': 0.25, 'loss': 'exponential', 'max_depth': 7, 'max_features': 'log2', 'min_samples_leaf': 0.5, 'min_samples_split': 0.05, 'n_estimators': 120, 'subsample': 0.6}\n",
      "0.333 (+/-0.000) for {'criterion': 'friedman_mse', 'learning_rate': 0.25, 'loss': 'exponential', 'max_depth': 7, 'max_features': 'log2', 'min_samples_leaf': 0.5, 'min_samples_split': 0.275, 'n_estimators': 25, 'subsample': 0.6}\n",
      "0.333 (+/-0.000) for {'criterion': 'friedman_mse', 'learning_rate': 0.25, 'loss': 'exponential', 'max_depth': 7, 'max_features': 'log2', 'min_samples_leaf': 0.5, 'min_samples_split': 0.275, 'n_estimators': 120, 'subsample': 0.6}\n",
      "0.333 (+/-0.000) for {'criterion': 'friedman_mse', 'learning_rate': 0.25, 'loss': 'exponential', 'max_depth': 7, 'max_features': 'log2', 'min_samples_leaf': 0.5, 'min_samples_split': 0.5, 'n_estimators': 25, 'subsample': 0.6}\n",
      "0.333 (+/-0.000) for {'criterion': 'friedman_mse', 'learning_rate': 0.25, 'loss': 'exponential', 'max_depth': 7, 'max_features': 'log2', 'min_samples_leaf': 0.5, 'min_samples_split': 0.5, 'n_estimators': 120, 'subsample': 0.6}\n",
      "0.825 (+/-0.009) for {'criterion': 'friedman_mse', 'learning_rate': 0.25, 'loss': 'deviance', 'max_depth': 5, 'max_features': 'log2', 'min_samples_leaf': 0.05, 'min_samples_split': 0.05, 'n_estimators': 25, 'subsample': 0.6}\n",
      "0.848 (+/-0.011) for {'criterion': 'friedman_mse', 'learning_rate': 0.25, 'loss': 'deviance', 'max_depth': 5, 'max_features': 'log2', 'min_samples_leaf': 0.05, 'min_samples_split': 0.05, 'n_estimators': 120, 'subsample': 0.6}\n",
      "0.802 (+/-0.014) for {'criterion': 'friedman_mse', 'learning_rate': 0.25, 'loss': 'deviance', 'max_depth': 5, 'max_features': 'log2', 'min_samples_leaf': 0.05, 'min_samples_split': 0.275, 'n_estimators': 25, 'subsample': 0.6}\n",
      "0.835 (+/-0.016) for {'criterion': 'friedman_mse', 'learning_rate': 0.25, 'loss': 'deviance', 'max_depth': 5, 'max_features': 'log2', 'min_samples_leaf': 0.05, 'min_samples_split': 0.275, 'n_estimators': 120, 'subsample': 0.6}\n",
      "0.781 (+/-0.014) for {'criterion': 'friedman_mse', 'learning_rate': 0.25, 'loss': 'deviance', 'max_depth': 5, 'max_features': 'log2', 'min_samples_leaf': 0.05, 'min_samples_split': 0.5, 'n_estimators': 25, 'subsample': 0.6}\n",
      "0.796 (+/-0.017) for {'criterion': 'friedman_mse', 'learning_rate': 0.25, 'loss': 'deviance', 'max_depth': 5, 'max_features': 'log2', 'min_samples_leaf': 0.05, 'min_samples_split': 0.5, 'n_estimators': 120, 'subsample': 0.6}\n",
      "0.770 (+/-0.022) for {'criterion': 'friedman_mse', 'learning_rate': 0.25, 'loss': 'deviance', 'max_depth': 5, 'max_features': 'log2', 'min_samples_leaf': 0.275, 'min_samples_split': 0.05, 'n_estimators': 25, 'subsample': 0.6}\n",
      "0.765 (+/-0.018) for {'criterion': 'friedman_mse', 'learning_rate': 0.25, 'loss': 'deviance', 'max_depth': 5, 'max_features': 'log2', 'min_samples_leaf': 0.275, 'min_samples_split': 0.05, 'n_estimators': 120, 'subsample': 0.6}\n",
      "0.765 (+/-0.017) for {'criterion': 'friedman_mse', 'learning_rate': 0.25, 'loss': 'deviance', 'max_depth': 5, 'max_features': 'log2', 'min_samples_leaf': 0.275, 'min_samples_split': 0.275, 'n_estimators': 25, 'subsample': 0.6}\n",
      "0.765 (+/-0.018) for {'criterion': 'friedman_mse', 'learning_rate': 0.25, 'loss': 'deviance', 'max_depth': 5, 'max_features': 'log2', 'min_samples_leaf': 0.275, 'min_samples_split': 0.275, 'n_estimators': 120, 'subsample': 0.6}\n",
      "0.767 (+/-0.019) for {'criterion': 'friedman_mse', 'learning_rate': 0.25, 'loss': 'deviance', 'max_depth': 5, 'max_features': 'log2', 'min_samples_leaf': 0.275, 'min_samples_split': 0.5, 'n_estimators': 25, 'subsample': 0.6}\n",
      "0.765 (+/-0.018) for {'criterion': 'friedman_mse', 'learning_rate': 0.25, 'loss': 'deviance', 'max_depth': 5, 'max_features': 'log2', 'min_samples_leaf': 0.275, 'min_samples_split': 0.5, 'n_estimators': 120, 'subsample': 0.6}\n",
      "0.333 (+/-0.000) for {'criterion': 'friedman_mse', 'learning_rate': 0.25, 'loss': 'deviance', 'max_depth': 5, 'max_features': 'log2', 'min_samples_leaf': 0.5, 'min_samples_split': 0.05, 'n_estimators': 25, 'subsample': 0.6}\n",
      "0.333 (+/-0.000) for {'criterion': 'friedman_mse', 'learning_rate': 0.25, 'loss': 'deviance', 'max_depth': 5, 'max_features': 'log2', 'min_samples_leaf': 0.5, 'min_samples_split': 0.05, 'n_estimators': 120, 'subsample': 0.6}\n",
      "0.333 (+/-0.000) for {'criterion': 'friedman_mse', 'learning_rate': 0.25, 'loss': 'deviance', 'max_depth': 5, 'max_features': 'log2', 'min_samples_leaf': 0.5, 'min_samples_split': 0.275, 'n_estimators': 25, 'subsample': 0.6}\n",
      "0.333 (+/-0.000) for {'criterion': 'friedman_mse', 'learning_rate': 0.25, 'loss': 'deviance', 'max_depth': 5, 'max_features': 'log2', 'min_samples_leaf': 0.5, 'min_samples_split': 0.275, 'n_estimators': 120, 'subsample': 0.6}\n",
      "0.333 (+/-0.000) for {'criterion': 'friedman_mse', 'learning_rate': 0.25, 'loss': 'deviance', 'max_depth': 5, 'max_features': 'log2', 'min_samples_leaf': 0.5, 'min_samples_split': 0.5, 'n_estimators': 25, 'subsample': 0.6}\n",
      "0.333 (+/-0.000) for {'criterion': 'friedman_mse', 'learning_rate': 0.25, 'loss': 'deviance', 'max_depth': 5, 'max_features': 'log2', 'min_samples_leaf': 0.5, 'min_samples_split': 0.5, 'n_estimators': 120, 'subsample': 0.6}\n",
      "0.825 (+/-0.006) for {'criterion': 'friedman_mse', 'learning_rate': 0.25, 'loss': 'deviance', 'max_depth': 7, 'max_features': 'log2', 'min_samples_leaf': 0.05, 'min_samples_split': 0.05, 'n_estimators': 25, 'subsample': 0.6}\n",
      "0.849 (+/-0.009) for {'criterion': 'friedman_mse', 'learning_rate': 0.25, 'loss': 'deviance', 'max_depth': 7, 'max_features': 'log2', 'min_samples_leaf': 0.05, 'min_samples_split': 0.05, 'n_estimators': 120, 'subsample': 0.6}\n",
      "0.802 (+/-0.014) for {'criterion': 'friedman_mse', 'learning_rate': 0.25, 'loss': 'deviance', 'max_depth': 7, 'max_features': 'log2', 'min_samples_leaf': 0.05, 'min_samples_split': 0.275, 'n_estimators': 25, 'subsample': 0.6}\n",
      "0.833 (+/-0.007) for {'criterion': 'friedman_mse', 'learning_rate': 0.25, 'loss': 'deviance', 'max_depth': 7, 'max_features': 'log2', 'min_samples_leaf': 0.05, 'min_samples_split': 0.275, 'n_estimators': 120, 'subsample': 0.6}\n",
      "0.785 (+/-0.013) for {'criterion': 'friedman_mse', 'learning_rate': 0.25, 'loss': 'deviance', 'max_depth': 7, 'max_features': 'log2', 'min_samples_leaf': 0.05, 'min_samples_split': 0.5, 'n_estimators': 25, 'subsample': 0.6}\n",
      "0.795 (+/-0.017) for {'criterion': 'friedman_mse', 'learning_rate': 0.25, 'loss': 'deviance', 'max_depth': 7, 'max_features': 'log2', 'min_samples_leaf': 0.05, 'min_samples_split': 0.5, 'n_estimators': 120, 'subsample': 0.6}\n",
      "0.764 (+/-0.017) for {'criterion': 'friedman_mse', 'learning_rate': 0.25, 'loss': 'deviance', 'max_depth': 7, 'max_features': 'log2', 'min_samples_leaf': 0.275, 'min_samples_split': 0.05, 'n_estimators': 25, 'subsample': 0.6}\n",
      "0.765 (+/-0.019) for {'criterion': 'friedman_mse', 'learning_rate': 0.25, 'loss': 'deviance', 'max_depth': 7, 'max_features': 'log2', 'min_samples_leaf': 0.275, 'min_samples_split': 0.05, 'n_estimators': 120, 'subsample': 0.6}\n",
      "0.767 (+/-0.020) for {'criterion': 'friedman_mse', 'learning_rate': 0.25, 'loss': 'deviance', 'max_depth': 7, 'max_features': 'log2', 'min_samples_leaf': 0.275, 'min_samples_split': 0.275, 'n_estimators': 25, 'subsample': 0.6}\n",
      "0.764 (+/-0.019) for {'criterion': 'friedman_mse', 'learning_rate': 0.25, 'loss': 'deviance', 'max_depth': 7, 'max_features': 'log2', 'min_samples_leaf': 0.275, 'min_samples_split': 0.275, 'n_estimators': 120, 'subsample': 0.6}\n",
      "0.765 (+/-0.017) for {'criterion': 'friedman_mse', 'learning_rate': 0.25, 'loss': 'deviance', 'max_depth': 7, 'max_features': 'log2', 'min_samples_leaf': 0.275, 'min_samples_split': 0.5, 'n_estimators': 25, 'subsample': 0.6}\n",
      "0.766 (+/-0.019) for {'criterion': 'friedman_mse', 'learning_rate': 0.25, 'loss': 'deviance', 'max_depth': 7, 'max_features': 'log2', 'min_samples_leaf': 0.275, 'min_samples_split': 0.5, 'n_estimators': 120, 'subsample': 0.6}\n",
      "0.333 (+/-0.000) for {'criterion': 'friedman_mse', 'learning_rate': 0.25, 'loss': 'deviance', 'max_depth': 7, 'max_features': 'log2', 'min_samples_leaf': 0.5, 'min_samples_split': 0.05, 'n_estimators': 25, 'subsample': 0.6}\n",
      "0.333 (+/-0.000) for {'criterion': 'friedman_mse', 'learning_rate': 0.25, 'loss': 'deviance', 'max_depth': 7, 'max_features': 'log2', 'min_samples_leaf': 0.5, 'min_samples_split': 0.05, 'n_estimators': 120, 'subsample': 0.6}\n",
      "0.333 (+/-0.000) for {'criterion': 'friedman_mse', 'learning_rate': 0.25, 'loss': 'deviance', 'max_depth': 7, 'max_features': 'log2', 'min_samples_leaf': 0.5, 'min_samples_split': 0.275, 'n_estimators': 25, 'subsample': 0.6}\n",
      "0.333 (+/-0.000) for {'criterion': 'friedman_mse', 'learning_rate': 0.25, 'loss': 'deviance', 'max_depth': 7, 'max_features': 'log2', 'min_samples_leaf': 0.5, 'min_samples_split': 0.275, 'n_estimators': 120, 'subsample': 0.6}\n",
      "0.333 (+/-0.000) for {'criterion': 'friedman_mse', 'learning_rate': 0.25, 'loss': 'deviance', 'max_depth': 7, 'max_features': 'log2', 'min_samples_leaf': 0.5, 'min_samples_split': 0.5, 'n_estimators': 25, 'subsample': 0.6}\n",
      "0.333 (+/-0.000) for {'criterion': 'friedman_mse', 'learning_rate': 0.25, 'loss': 'deviance', 'max_depth': 7, 'max_features': 'log2', 'min_samples_leaf': 0.5, 'min_samples_split': 0.5, 'n_estimators': 120, 'subsample': 0.6}\n",
      "0.827 (+/-0.013) for {'criterion': 'friedman_mse', 'learning_rate': 0.3, 'loss': 'exponential', 'max_depth': 5, 'max_features': 'log2', 'min_samples_leaf': 0.05, 'min_samples_split': 0.05, 'n_estimators': 25, 'subsample': 0.6}\n",
      "0.849 (+/-0.015) for {'criterion': 'friedman_mse', 'learning_rate': 0.3, 'loss': 'exponential', 'max_depth': 5, 'max_features': 'log2', 'min_samples_leaf': 0.05, 'min_samples_split': 0.05, 'n_estimators': 120, 'subsample': 0.6}\n",
      "0.808 (+/-0.015) for {'criterion': 'friedman_mse', 'learning_rate': 0.3, 'loss': 'exponential', 'max_depth': 5, 'max_features': 'log2', 'min_samples_leaf': 0.05, 'min_samples_split': 0.275, 'n_estimators': 25, 'subsample': 0.6}\n",
      "0.836 (+/-0.012) for {'criterion': 'friedman_mse', 'learning_rate': 0.3, 'loss': 'exponential', 'max_depth': 5, 'max_features': 'log2', 'min_samples_leaf': 0.05, 'min_samples_split': 0.275, 'n_estimators': 120, 'subsample': 0.6}\n",
      "0.784 (+/-0.019) for {'criterion': 'friedman_mse', 'learning_rate': 0.3, 'loss': 'exponential', 'max_depth': 5, 'max_features': 'log2', 'min_samples_leaf': 0.05, 'min_samples_split': 0.5, 'n_estimators': 25, 'subsample': 0.6}\n",
      "0.795 (+/-0.013) for {'criterion': 'friedman_mse', 'learning_rate': 0.3, 'loss': 'exponential', 'max_depth': 5, 'max_features': 'log2', 'min_samples_leaf': 0.05, 'min_samples_split': 0.5, 'n_estimators': 120, 'subsample': 0.6}\n",
      "0.766 (+/-0.019) for {'criterion': 'friedman_mse', 'learning_rate': 0.3, 'loss': 'exponential', 'max_depth': 5, 'max_features': 'log2', 'min_samples_leaf': 0.275, 'min_samples_split': 0.05, 'n_estimators': 25, 'subsample': 0.6}\n",
      "0.765 (+/-0.018) for {'criterion': 'friedman_mse', 'learning_rate': 0.3, 'loss': 'exponential', 'max_depth': 5, 'max_features': 'log2', 'min_samples_leaf': 0.275, 'min_samples_split': 0.05, 'n_estimators': 120, 'subsample': 0.6}\n",
      "0.765 (+/-0.017) for {'criterion': 'friedman_mse', 'learning_rate': 0.3, 'loss': 'exponential', 'max_depth': 5, 'max_features': 'log2', 'min_samples_leaf': 0.275, 'min_samples_split': 0.275, 'n_estimators': 25, 'subsample': 0.6}\n",
      "0.764 (+/-0.019) for {'criterion': 'friedman_mse', 'learning_rate': 0.3, 'loss': 'exponential', 'max_depth': 5, 'max_features': 'log2', 'min_samples_leaf': 0.275, 'min_samples_split': 0.275, 'n_estimators': 120, 'subsample': 0.6}\n",
      "0.764 (+/-0.017) for {'criterion': 'friedman_mse', 'learning_rate': 0.3, 'loss': 'exponential', 'max_depth': 5, 'max_features': 'log2', 'min_samples_leaf': 0.275, 'min_samples_split': 0.5, 'n_estimators': 25, 'subsample': 0.6}\n",
      "0.765 (+/-0.017) for {'criterion': 'friedman_mse', 'learning_rate': 0.3, 'loss': 'exponential', 'max_depth': 5, 'max_features': 'log2', 'min_samples_leaf': 0.275, 'min_samples_split': 0.5, 'n_estimators': 120, 'subsample': 0.6}\n",
      "0.333 (+/-0.000) for {'criterion': 'friedman_mse', 'learning_rate': 0.3, 'loss': 'exponential', 'max_depth': 5, 'max_features': 'log2', 'min_samples_leaf': 0.5, 'min_samples_split': 0.05, 'n_estimators': 25, 'subsample': 0.6}\n",
      "0.333 (+/-0.000) for {'criterion': 'friedman_mse', 'learning_rate': 0.3, 'loss': 'exponential', 'max_depth': 5, 'max_features': 'log2', 'min_samples_leaf': 0.5, 'min_samples_split': 0.05, 'n_estimators': 120, 'subsample': 0.6}\n",
      "0.333 (+/-0.000) for {'criterion': 'friedman_mse', 'learning_rate': 0.3, 'loss': 'exponential', 'max_depth': 5, 'max_features': 'log2', 'min_samples_leaf': 0.5, 'min_samples_split': 0.275, 'n_estimators': 25, 'subsample': 0.6}\n",
      "0.333 (+/-0.000) for {'criterion': 'friedman_mse', 'learning_rate': 0.3, 'loss': 'exponential', 'max_depth': 5, 'max_features': 'log2', 'min_samples_leaf': 0.5, 'min_samples_split': 0.275, 'n_estimators': 120, 'subsample': 0.6}\n",
      "0.333 (+/-0.000) for {'criterion': 'friedman_mse', 'learning_rate': 0.3, 'loss': 'exponential', 'max_depth': 5, 'max_features': 'log2', 'min_samples_leaf': 0.5, 'min_samples_split': 0.5, 'n_estimators': 25, 'subsample': 0.6}\n",
      "0.333 (+/-0.000) for {'criterion': 'friedman_mse', 'learning_rate': 0.3, 'loss': 'exponential', 'max_depth': 5, 'max_features': 'log2', 'min_samples_leaf': 0.5, 'min_samples_split': 0.5, 'n_estimators': 120, 'subsample': 0.6}\n",
      "0.828 (+/-0.014) for {'criterion': 'friedman_mse', 'learning_rate': 0.3, 'loss': 'exponential', 'max_depth': 7, 'max_features': 'log2', 'min_samples_leaf': 0.05, 'min_samples_split': 0.05, 'n_estimators': 25, 'subsample': 0.6}\n",
      "0.850 (+/-0.017) for {'criterion': 'friedman_mse', 'learning_rate': 0.3, 'loss': 'exponential', 'max_depth': 7, 'max_features': 'log2', 'min_samples_leaf': 0.05, 'min_samples_split': 0.05, 'n_estimators': 120, 'subsample': 0.6}\n",
      "0.800 (+/-0.021) for {'criterion': 'friedman_mse', 'learning_rate': 0.3, 'loss': 'exponential', 'max_depth': 7, 'max_features': 'log2', 'min_samples_leaf': 0.05, 'min_samples_split': 0.275, 'n_estimators': 25, 'subsample': 0.6}\n",
      "0.834 (+/-0.014) for {'criterion': 'friedman_mse', 'learning_rate': 0.3, 'loss': 'exponential', 'max_depth': 7, 'max_features': 'log2', 'min_samples_leaf': 0.05, 'min_samples_split': 0.275, 'n_estimators': 120, 'subsample': 0.6}\n",
      "0.782 (+/-0.010) for {'criterion': 'friedman_mse', 'learning_rate': 0.3, 'loss': 'exponential', 'max_depth': 7, 'max_features': 'log2', 'min_samples_leaf': 0.05, 'min_samples_split': 0.5, 'n_estimators': 25, 'subsample': 0.6}\n",
      "0.787 (+/-0.019) for {'criterion': 'friedman_mse', 'learning_rate': 0.3, 'loss': 'exponential', 'max_depth': 7, 'max_features': 'log2', 'min_samples_leaf': 0.05, 'min_samples_split': 0.5, 'n_estimators': 120, 'subsample': 0.6}\n",
      "0.764 (+/-0.017) for {'criterion': 'friedman_mse', 'learning_rate': 0.3, 'loss': 'exponential', 'max_depth': 7, 'max_features': 'log2', 'min_samples_leaf': 0.275, 'min_samples_split': 0.05, 'n_estimators': 25, 'subsample': 0.6}\n",
      "0.765 (+/-0.018) for {'criterion': 'friedman_mse', 'learning_rate': 0.3, 'loss': 'exponential', 'max_depth': 7, 'max_features': 'log2', 'min_samples_leaf': 0.275, 'min_samples_split': 0.05, 'n_estimators': 120, 'subsample': 0.6}\n",
      "0.764 (+/-0.020) for {'criterion': 'friedman_mse', 'learning_rate': 0.3, 'loss': 'exponential', 'max_depth': 7, 'max_features': 'log2', 'min_samples_leaf': 0.275, 'min_samples_split': 0.275, 'n_estimators': 25, 'subsample': 0.6}\n",
      "0.765 (+/-0.019) for {'criterion': 'friedman_mse', 'learning_rate': 0.3, 'loss': 'exponential', 'max_depth': 7, 'max_features': 'log2', 'min_samples_leaf': 0.275, 'min_samples_split': 0.275, 'n_estimators': 120, 'subsample': 0.6}\n",
      "0.766 (+/-0.019) for {'criterion': 'friedman_mse', 'learning_rate': 0.3, 'loss': 'exponential', 'max_depth': 7, 'max_features': 'log2', 'min_samples_leaf': 0.275, 'min_samples_split': 0.5, 'n_estimators': 25, 'subsample': 0.6}\n",
      "0.765 (+/-0.019) for {'criterion': 'friedman_mse', 'learning_rate': 0.3, 'loss': 'exponential', 'max_depth': 7, 'max_features': 'log2', 'min_samples_leaf': 0.275, 'min_samples_split': 0.5, 'n_estimators': 120, 'subsample': 0.6}\n",
      "0.333 (+/-0.000) for {'criterion': 'friedman_mse', 'learning_rate': 0.3, 'loss': 'exponential', 'max_depth': 7, 'max_features': 'log2', 'min_samples_leaf': 0.5, 'min_samples_split': 0.05, 'n_estimators': 25, 'subsample': 0.6}\n",
      "0.333 (+/-0.000) for {'criterion': 'friedman_mse', 'learning_rate': 0.3, 'loss': 'exponential', 'max_depth': 7, 'max_features': 'log2', 'min_samples_leaf': 0.5, 'min_samples_split': 0.05, 'n_estimators': 120, 'subsample': 0.6}\n",
      "0.333 (+/-0.000) for {'criterion': 'friedman_mse', 'learning_rate': 0.3, 'loss': 'exponential', 'max_depth': 7, 'max_features': 'log2', 'min_samples_leaf': 0.5, 'min_samples_split': 0.275, 'n_estimators': 25, 'subsample': 0.6}\n",
      "0.333 (+/-0.000) for {'criterion': 'friedman_mse', 'learning_rate': 0.3, 'loss': 'exponential', 'max_depth': 7, 'max_features': 'log2', 'min_samples_leaf': 0.5, 'min_samples_split': 0.275, 'n_estimators': 120, 'subsample': 0.6}\n",
      "0.333 (+/-0.000) for {'criterion': 'friedman_mse', 'learning_rate': 0.3, 'loss': 'exponential', 'max_depth': 7, 'max_features': 'log2', 'min_samples_leaf': 0.5, 'min_samples_split': 0.5, 'n_estimators': 25, 'subsample': 0.6}\n",
      "0.333 (+/-0.000) for {'criterion': 'friedman_mse', 'learning_rate': 0.3, 'loss': 'exponential', 'max_depth': 7, 'max_features': 'log2', 'min_samples_leaf': 0.5, 'min_samples_split': 0.5, 'n_estimators': 120, 'subsample': 0.6}\n",
      "0.826 (+/-0.019) for {'criterion': 'friedman_mse', 'learning_rate': 0.3, 'loss': 'deviance', 'max_depth': 5, 'max_features': 'log2', 'min_samples_leaf': 0.05, 'min_samples_split': 0.05, 'n_estimators': 25, 'subsample': 0.6}\n",
      "0.849 (+/-0.017) for {'criterion': 'friedman_mse', 'learning_rate': 0.3, 'loss': 'deviance', 'max_depth': 5, 'max_features': 'log2', 'min_samples_leaf': 0.05, 'min_samples_split': 0.05, 'n_estimators': 120, 'subsample': 0.6}\n",
      "0.801 (+/-0.018) for {'criterion': 'friedman_mse', 'learning_rate': 0.3, 'loss': 'deviance', 'max_depth': 5, 'max_features': 'log2', 'min_samples_leaf': 0.05, 'min_samples_split': 0.275, 'n_estimators': 25, 'subsample': 0.6}\n",
      "0.835 (+/-0.005) for {'criterion': 'friedman_mse', 'learning_rate': 0.3, 'loss': 'deviance', 'max_depth': 5, 'max_features': 'log2', 'min_samples_leaf': 0.05, 'min_samples_split': 0.275, 'n_estimators': 120, 'subsample': 0.6}\n",
      "0.786 (+/-0.016) for {'criterion': 'friedman_mse', 'learning_rate': 0.3, 'loss': 'deviance', 'max_depth': 5, 'max_features': 'log2', 'min_samples_leaf': 0.05, 'min_samples_split': 0.5, 'n_estimators': 25, 'subsample': 0.6}\n",
      "0.803 (+/-0.018) for {'criterion': 'friedman_mse', 'learning_rate': 0.3, 'loss': 'deviance', 'max_depth': 5, 'max_features': 'log2', 'min_samples_leaf': 0.05, 'min_samples_split': 0.5, 'n_estimators': 120, 'subsample': 0.6}\n",
      "0.767 (+/-0.019) for {'criterion': 'friedman_mse', 'learning_rate': 0.3, 'loss': 'deviance', 'max_depth': 5, 'max_features': 'log2', 'min_samples_leaf': 0.275, 'min_samples_split': 0.05, 'n_estimators': 25, 'subsample': 0.6}\n",
      "0.766 (+/-0.018) for {'criterion': 'friedman_mse', 'learning_rate': 0.3, 'loss': 'deviance', 'max_depth': 5, 'max_features': 'log2', 'min_samples_leaf': 0.275, 'min_samples_split': 0.05, 'n_estimators': 120, 'subsample': 0.6}\n",
      "0.765 (+/-0.018) for {'criterion': 'friedman_mse', 'learning_rate': 0.3, 'loss': 'deviance', 'max_depth': 5, 'max_features': 'log2', 'min_samples_leaf': 0.275, 'min_samples_split': 0.275, 'n_estimators': 25, 'subsample': 0.6}\n",
      "0.765 (+/-0.019) for {'criterion': 'friedman_mse', 'learning_rate': 0.3, 'loss': 'deviance', 'max_depth': 5, 'max_features': 'log2', 'min_samples_leaf': 0.275, 'min_samples_split': 0.275, 'n_estimators': 120, 'subsample': 0.6}\n",
      "0.768 (+/-0.018) for {'criterion': 'friedman_mse', 'learning_rate': 0.3, 'loss': 'deviance', 'max_depth': 5, 'max_features': 'log2', 'min_samples_leaf': 0.275, 'min_samples_split': 0.5, 'n_estimators': 25, 'subsample': 0.6}\n",
      "0.765 (+/-0.018) for {'criterion': 'friedman_mse', 'learning_rate': 0.3, 'loss': 'deviance', 'max_depth': 5, 'max_features': 'log2', 'min_samples_leaf': 0.275, 'min_samples_split': 0.5, 'n_estimators': 120, 'subsample': 0.6}\n",
      "0.333 (+/-0.000) for {'criterion': 'friedman_mse', 'learning_rate': 0.3, 'loss': 'deviance', 'max_depth': 5, 'max_features': 'log2', 'min_samples_leaf': 0.5, 'min_samples_split': 0.05, 'n_estimators': 25, 'subsample': 0.6}\n",
      "0.333 (+/-0.000) for {'criterion': 'friedman_mse', 'learning_rate': 0.3, 'loss': 'deviance', 'max_depth': 5, 'max_features': 'log2', 'min_samples_leaf': 0.5, 'min_samples_split': 0.05, 'n_estimators': 120, 'subsample': 0.6}\n",
      "0.333 (+/-0.000) for {'criterion': 'friedman_mse', 'learning_rate': 0.3, 'loss': 'deviance', 'max_depth': 5, 'max_features': 'log2', 'min_samples_leaf': 0.5, 'min_samples_split': 0.275, 'n_estimators': 25, 'subsample': 0.6}\n",
      "0.333 (+/-0.000) for {'criterion': 'friedman_mse', 'learning_rate': 0.3, 'loss': 'deviance', 'max_depth': 5, 'max_features': 'log2', 'min_samples_leaf': 0.5, 'min_samples_split': 0.275, 'n_estimators': 120, 'subsample': 0.6}\n",
      "0.333 (+/-0.000) for {'criterion': 'friedman_mse', 'learning_rate': 0.3, 'loss': 'deviance', 'max_depth': 5, 'max_features': 'log2', 'min_samples_leaf': 0.5, 'min_samples_split': 0.5, 'n_estimators': 25, 'subsample': 0.6}\n",
      "0.333 (+/-0.000) for {'criterion': 'friedman_mse', 'learning_rate': 0.3, 'loss': 'deviance', 'max_depth': 5, 'max_features': 'log2', 'min_samples_leaf': 0.5, 'min_samples_split': 0.5, 'n_estimators': 120, 'subsample': 0.6}\n",
      "0.830 (+/-0.009) for {'criterion': 'friedman_mse', 'learning_rate': 0.3, 'loss': 'deviance', 'max_depth': 7, 'max_features': 'log2', 'min_samples_leaf': 0.05, 'min_samples_split': 0.05, 'n_estimators': 25, 'subsample': 0.6}\n",
      "0.853 (+/-0.011) for {'criterion': 'friedman_mse', 'learning_rate': 0.3, 'loss': 'deviance', 'max_depth': 7, 'max_features': 'log2', 'min_samples_leaf': 0.05, 'min_samples_split': 0.05, 'n_estimators': 120, 'subsample': 0.6}\n",
      "0.805 (+/-0.011) for {'criterion': 'friedman_mse', 'learning_rate': 0.3, 'loss': 'deviance', 'max_depth': 7, 'max_features': 'log2', 'min_samples_leaf': 0.05, 'min_samples_split': 0.275, 'n_estimators': 25, 'subsample': 0.6}\n",
      "0.841 (+/-0.009) for {'criterion': 'friedman_mse', 'learning_rate': 0.3, 'loss': 'deviance', 'max_depth': 7, 'max_features': 'log2', 'min_samples_leaf': 0.05, 'min_samples_split': 0.275, 'n_estimators': 120, 'subsample': 0.6}\n",
      "0.783 (+/-0.012) for {'criterion': 'friedman_mse', 'learning_rate': 0.3, 'loss': 'deviance', 'max_depth': 7, 'max_features': 'log2', 'min_samples_leaf': 0.05, 'min_samples_split': 0.5, 'n_estimators': 25, 'subsample': 0.6}\n",
      "0.800 (+/-0.023) for {'criterion': 'friedman_mse', 'learning_rate': 0.3, 'loss': 'deviance', 'max_depth': 7, 'max_features': 'log2', 'min_samples_leaf': 0.05, 'min_samples_split': 0.5, 'n_estimators': 120, 'subsample': 0.6}\n",
      "0.765 (+/-0.018) for {'criterion': 'friedman_mse', 'learning_rate': 0.3, 'loss': 'deviance', 'max_depth': 7, 'max_features': 'log2', 'min_samples_leaf': 0.275, 'min_samples_split': 0.05, 'n_estimators': 25, 'subsample': 0.6}\n",
      "0.766 (+/-0.019) for {'criterion': 'friedman_mse', 'learning_rate': 0.3, 'loss': 'deviance', 'max_depth': 7, 'max_features': 'log2', 'min_samples_leaf': 0.275, 'min_samples_split': 0.05, 'n_estimators': 120, 'subsample': 0.6}\n",
      "0.765 (+/-0.017) for {'criterion': 'friedman_mse', 'learning_rate': 0.3, 'loss': 'deviance', 'max_depth': 7, 'max_features': 'log2', 'min_samples_leaf': 0.275, 'min_samples_split': 0.275, 'n_estimators': 25, 'subsample': 0.6}\n",
      "0.766 (+/-0.017) for {'criterion': 'friedman_mse', 'learning_rate': 0.3, 'loss': 'deviance', 'max_depth': 7, 'max_features': 'log2', 'min_samples_leaf': 0.275, 'min_samples_split': 0.275, 'n_estimators': 120, 'subsample': 0.6}\n",
      "0.765 (+/-0.017) for {'criterion': 'friedman_mse', 'learning_rate': 0.3, 'loss': 'deviance', 'max_depth': 7, 'max_features': 'log2', 'min_samples_leaf': 0.275, 'min_samples_split': 0.5, 'n_estimators': 25, 'subsample': 0.6}\n",
      "0.765 (+/-0.017) for {'criterion': 'friedman_mse', 'learning_rate': 0.3, 'loss': 'deviance', 'max_depth': 7, 'max_features': 'log2', 'min_samples_leaf': 0.275, 'min_samples_split': 0.5, 'n_estimators': 120, 'subsample': 0.6}\n",
      "0.333 (+/-0.000) for {'criterion': 'friedman_mse', 'learning_rate': 0.3, 'loss': 'deviance', 'max_depth': 7, 'max_features': 'log2', 'min_samples_leaf': 0.5, 'min_samples_split': 0.05, 'n_estimators': 25, 'subsample': 0.6}\n",
      "0.333 (+/-0.000) for {'criterion': 'friedman_mse', 'learning_rate': 0.3, 'loss': 'deviance', 'max_depth': 7, 'max_features': 'log2', 'min_samples_leaf': 0.5, 'min_samples_split': 0.05, 'n_estimators': 120, 'subsample': 0.6}\n",
      "0.333 (+/-0.000) for {'criterion': 'friedman_mse', 'learning_rate': 0.3, 'loss': 'deviance', 'max_depth': 7, 'max_features': 'log2', 'min_samples_leaf': 0.5, 'min_samples_split': 0.275, 'n_estimators': 25, 'subsample': 0.6}\n",
      "0.333 (+/-0.000) for {'criterion': 'friedman_mse', 'learning_rate': 0.3, 'loss': 'deviance', 'max_depth': 7, 'max_features': 'log2', 'min_samples_leaf': 0.5, 'min_samples_split': 0.275, 'n_estimators': 120, 'subsample': 0.6}\n",
      "0.333 (+/-0.000) for {'criterion': 'friedman_mse', 'learning_rate': 0.3, 'loss': 'deviance', 'max_depth': 7, 'max_features': 'log2', 'min_samples_leaf': 0.5, 'min_samples_split': 0.5, 'n_estimators': 25, 'subsample': 0.6}\n",
      "0.333 (+/-0.000) for {'criterion': 'friedman_mse', 'learning_rate': 0.3, 'loss': 'deviance', 'max_depth': 7, 'max_features': 'log2', 'min_samples_leaf': 0.5, 'min_samples_split': 0.5, 'n_estimators': 120, 'subsample': 0.6}\n",
      "\n",
      "Detailed classification report:\n",
      "\n",
      "The model is trained on the full development set.\n",
      "The scores are computed on the full evaluation set.\n",
      "\n",
      "              precision    recall  f1-score   support\n",
      "\n",
      "           0       0.97      0.80      0.87       975\n",
      "           1       0.22      0.68      0.33        80\n",
      "\n",
      "   micro avg       0.79      0.79      0.79      1055\n",
      "   macro avg       0.59      0.74      0.60      1055\n",
      "weighted avg       0.91      0.79      0.83      1055\n",
      "\n",
      "\n"
     ]
    }
   ],
   "source": [
    "scores = ['f1']\n",
    "parameters = {\n",
    "    \"loss\":[\"exponential\",\"deviance\"],\n",
    "    \"learning_rate\": [0.25,0.3],\n",
    "    \"min_samples_split\": np.linspace(0.05, 0.5, 3),\n",
    "    \"min_samples_leaf\": np.linspace(0.05, 0.5, 3),\n",
    "    \"max_depth\":[5,7],\n",
    "    \"max_features\":[\"log2\"],\n",
    "    \"criterion\": [\"friedman_mse\"],\n",
    "    \"subsample\":[0.6],\n",
    "    \"n_estimators\":[25,120]\n",
    "    }\n",
    "\n",
    "for score in scores:\n",
    "    print(\"# Tuning hyper-parameters for %s\" % score)\n",
    "    print()\n",
    "\n",
    "    clf = GridSearchCV(GradientBoostingClassifier(), parameters, cv=5,n_jobs=-1,\n",
    "                       scoring='%s_macro' % score)\n",
    "    clf.fit(X_train, y_train)\n",
    "\n",
    "    print(\"Best parameters set found on development set:\")\n",
    "    print()\n",
    "    print(clf.best_params_)\n",
    "    print()\n",
    "    print(\"Grid scores on development set:\")\n",
    "    print()\n",
    "    means = clf.cv_results_['mean_test_score']\n",
    "    stds = clf.cv_results_['std_test_score']\n",
    "    for mean, std, params in zip(means, stds, clf.cv_results_['params']):\n",
    "        print(\"%0.3f (+/-%0.03f) for %r\"\n",
    "              % (mean, std * 2, params))\n",
    "    print()\n",
    "\n",
    "    print(\"Detailed classification report:\")\n",
    "    print()\n",
    "    print(\"The model is trained on the full development set.\")\n",
    "    print(\"The scores are computed on the full evaluation set.\")\n",
    "    print()\n",
    "    y_true, y_pred = y_test, clf.predict(X_test)\n",
    "    print(classification_report(y_true, y_pred))\n",
    "    print()"
   ]
  },
  {
   "cell_type": "code",
   "execution_count": null,
   "metadata": {},
   "outputs": [],
   "source": []
  }
 ],
 "metadata": {
  "kernelspec": {
   "display_name": "Python 3",
   "language": "python",
   "name": "python3"
  },
  "language_info": {
   "codemirror_mode": {
    "name": "ipython",
    "version": 3
   },
   "file_extension": ".py",
   "mimetype": "text/x-python",
   "name": "python",
   "nbconvert_exporter": "python",
   "pygments_lexer": "ipython3",
   "version": "3.6.5"
  }
 },
 "nbformat": 4,
 "nbformat_minor": 2
}
